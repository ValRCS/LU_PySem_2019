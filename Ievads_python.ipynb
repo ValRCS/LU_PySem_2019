{
 "cells": [
  {
   "cell_type": "markdown",
   "metadata": {
    "colab_type": "text",
    "id": "hvNQSfbTVDHQ"
   },
   "source": [
    "# Ievads Python valodā"
   ]
  },
  {
   "cell_type": "code",
   "execution_count": null,
   "metadata": {},
   "outputs": [],
   "source": [
    "# Autors Pēteris Paikēns"
   ]
  },
  {
   "cell_type": "markdown",
   "metadata": {
    "colab_type": "text",
    "id": "g-F9VrW0UkOs"
   },
   "source": [
    "## Hello, world"
   ]
  },
  {
   "cell_type": "code",
   "execution_count": 1,
   "metadata": {
    "colab": {
     "base_uri": "https://localhost:8080/",
     "height": 35
    },
    "colab_type": "code",
    "id": "YSyGUn4tTkoY",
    "outputId": "9ad5756c-b6cf-4c43-8597-f7e551aafcdd"
   },
   "outputs": [
    {
     "name": "stdout",
     "output_type": "stream",
     "text": [
      "Hello, world!\n"
     ]
    }
   ],
   "source": [
    "print('Hello, world!')  # Pilnvērtīga programma ar vienu rindiņu"
   ]
  },
  {
   "cell_type": "markdown",
   "metadata": {
    "colab_type": "text",
    "id": "bhvMO3WrUtrY"
   },
   "source": [
    "1. Rindiņas neatdalam\n",
    "1. Komentāri līdz rindas beigām ar # simbolu\n",
    "1. Simbolu virknes nodalam ar ' ... vai arī ar \" , nav būtiska atšķirība\n",
    "1. Funkcijām parametrus norādam iekavās"
   ]
  },
  {
   "cell_type": "code",
   "execution_count": 0,
   "metadata": {
    "colab": {
     "base_uri": "https://localhost:8080/",
     "height": 228
    },
    "colab_type": "code",
    "id": "qxuMVJU-UaH0",
    "outputId": "170addf4-9d39-40fa-8820-4b3f37e27fd0"
   },
   "outputs": [
    {
     "name": "stdout",
     "output_type": "stream",
     "text": [
      "Help on built-in function print in module builtins:\n",
      "\n",
      "print(...)\n",
      "    print(value, ..., sep=' ', end='\\n', file=sys.stdout, flush=False)\n",
      "    \n",
      "    Prints the values to a stream, or to sys.stdout by default.\n",
      "    Optional keyword arguments:\n",
      "    file:  a file-like object (stream); defaults to the current sys.stdout.\n",
      "    sep:   string inserted between values, default a space.\n",
      "    end:   string appended after the last value, default a newline.\n",
      "    flush: whether to forcibly flush the stream.\n",
      "\n"
     ]
    }
   ],
   "source": [
    "help(print)  # Iebūvēta dokumentācijas komanda"
   ]
  },
  {
   "cell_type": "markdown",
   "metadata": {
    "colab_type": "text",
    "id": "dAAZZKpuV8So"
   },
   "source": [
    "Darbojas arī 'nestandarta' bibliotēkām un jūsu kodam, ja ir pareizi strukturēti skaidrojošie komentāri"
   ]
  },
  {
   "cell_type": "markdown",
   "metadata": {
    "colab_type": "text",
    "id": "dpDkLXzBXNDY"
   },
   "source": [
    "## Datu tipi\n"
   ]
  },
  {
   "cell_type": "markdown",
   "metadata": {
    "colab_type": "text",
    "id": "16mbDpsydL8E"
   },
   "source": [
    "### Kopīgais"
   ]
  },
  {
   "cell_type": "markdown",
   "metadata": {
    "colab_type": "text",
    "id": "nZ0wduF2a8bs"
   },
   "source": [
    "- Jebkas ir objekts. Daži objekti ir maināmi (saraksti, vairums jūsu klases), daži nav (skaitļi, simbolu virknes)\n",
    "  - *Mutability* - ka paliek 'tas pats', bet maina saturu\n",
    "- tipu var pārbaudīt\n",
    "- Mainīgo nosaukumiem nav fiksēts tips"
   ]
  },
  {
   "cell_type": "code",
   "execution_count": 0,
   "metadata": {
    "colab": {
     "base_uri": "https://localhost:8080/",
     "height": 70
    },
    "colab_type": "code",
    "id": "3LyPpYUuWA1Q",
    "outputId": "a44b833b-c570-4521-bad1-b8475721e16a"
   },
   "outputs": [
    {
     "name": "stdout",
     "output_type": "stream",
     "text": [
      "<class 'int'>\n",
      "<class 'str'>\n",
      "x ir simbolu virkne\n"
     ]
    }
   ],
   "source": [
    "x = 2  # Mainīgie nav iepriekš jādefinē\n",
    "print(type(x))\n",
    "x = 'divi'\n",
    "print(type(x))\n",
    "if isinstance(x, str):\n",
    "  print('x ir simbolu virkne')"
   ]
  },
  {
   "cell_type": "markdown",
   "metadata": {
    "colab_type": "text",
    "id": "Zta_K3ghZtdA"
   },
   "source": [
    "### Skaitļi\n"
   ]
  },
  {
   "cell_type": "markdown",
   "metadata": {
    "colab_type": "text",
    "id": "DfCKv9UIdHZc"
   },
   "source": [
    "`int` - veseli skaitļi bez izmēra ierobežojuma (*bignum*)\n",
    "\n",
    "`float` - peldošā punkta *double*\n",
    "\n",
    "`complex` - komplekss skaitlis (1+2j)\n",
    "\n",
    "Speciālgadījumiem standarta bibliotēkā ir arī daļskaitļi un decimāldaļskaitļi"
   ]
  },
  {
   "cell_type": "code",
   "execution_count": 0,
   "metadata": {
    "colab": {
     "base_uri": "https://localhost:8080/",
     "height": 35
    },
    "colab_type": "code",
    "id": "Vba3Sc9gXKkA",
    "outputId": "615644f4-51ec-4851-b7a9-0062687ed893"
   },
   "outputs": [
    {
     "data": {
      "text/plain": [
       "10"
      ]
     },
     "execution_count": 10,
     "metadata": {
      "tags": []
     },
     "output_type": "execute_result"
    }
   ],
   "source": [
    "2 + 2 * (2 + 2)"
   ]
  },
  {
   "cell_type": "code",
   "execution_count": 0,
   "metadata": {
    "colab": {
     "base_uri": "https://localhost:8080/",
     "height": 35
    },
    "colab_type": "code",
    "id": "_b91b6LEakbw",
    "outputId": "baf81c00-d5a2-46cf-d50c-135a345f3d6e"
   },
   "outputs": [
    {
     "data": {
      "text/plain": [
       "1.6"
      ]
     },
     "execution_count": 11,
     "metadata": {
      "tags": []
     },
     "output_type": "execute_result"
    }
   ],
   "source": [
    "8 / 5  # floating point"
   ]
  },
  {
   "cell_type": "code",
   "execution_count": 0,
   "metadata": {
    "colab": {
     "base_uri": "https://localhost:8080/",
     "height": 35
    },
    "colab_type": "code",
    "id": "vmCWaO5Aake4",
    "outputId": "b450774d-3117-4891-ecaf-cd017c81adf4"
   },
   "outputs": [
    {
     "data": {
      "text/plain": [
       "1"
      ]
     },
     "execution_count": 12,
     "metadata": {
      "tags": []
     },
     "output_type": "execute_result"
    }
   ],
   "source": [
    "8 // 5 # dalījums bez atlikuma"
   ]
  },
  {
   "cell_type": "code",
   "execution_count": 0,
   "metadata": {
    "colab": {
     "base_uri": "https://localhost:8080/",
     "height": 35
    },
    "colab_type": "code",
    "id": "q6DdkpiTakiA",
    "outputId": "7be5ebd9-2c03-4f8f-d518-9c274945ded4"
   },
   "outputs": [
    {
     "data": {
      "text/plain": [
       "3"
      ]
     },
     "execution_count": 13,
     "metadata": {
      "tags": []
     },
     "output_type": "execute_result"
    }
   ],
   "source": [
    "8 % 5  # 3 – atlikums"
   ]
  },
  {
   "cell_type": "code",
   "execution_count": 0,
   "metadata": {
    "colab": {
     "base_uri": "https://localhost:8080/",
     "height": 35
    },
    "colab_type": "code",
    "id": "2IQ-039qaoUM",
    "outputId": "3349613c-2a3d-41dc-9a53-5a95380c3f5f"
   },
   "outputs": [
    {
     "data": {
      "text/plain": [
       "8"
      ]
     },
     "execution_count": 14,
     "metadata": {
      "tags": []
     },
     "output_type": "execute_result"
    }
   ],
   "source": [
    "2 ** 3 # 8 – pakāpe"
   ]
  },
  {
   "cell_type": "code",
   "execution_count": 0,
   "metadata": {
    "colab": {
     "base_uri": "https://localhost:8080/",
     "height": 35
    },
    "colab_type": "code",
    "id": "7TUNTQ4AaoVw",
    "outputId": "098917b5-1271-4340-f1c7-39cf7c55a005"
   },
   "outputs": [
    {
     "data": {
      "text/plain": [
       "10000000000000000000000000000000000000000000000000000000000000000000000000000000000000000000000000000"
      ]
     },
     "execution_count": 15,
     "metadata": {
      "tags": []
     },
     "output_type": "execute_result"
    }
   ],
   "source": [
    "10 ** 100 # googol"
   ]
  },
  {
   "cell_type": "markdown",
   "metadata": {
    "colab_type": "text",
    "id": "eDY2SMOJbASk"
   },
   "source": [
    "### Patiesuma vērtības\n"
   ]
  },
  {
   "cell_type": "markdown",
   "metadata": {
    "colab_type": "text",
    "id": "PrYIvYSIdRps"
   },
   "source": [
    "Jebkuram objektam var pārbaudīt 'patiesumu' ar `if`\n",
    "\n",
    "Parasti ir 'patiesi' (*truthy*), izņemot:\n",
    "- `False` un `None`\n",
    "- visa veida nulles\n",
    "- tukšas virknes un kolekcijas - ja garums ir 0\n",
    "\n",
    "Būla operācijas:\n",
    "- `x and y`\n",
    "- `x or y`\n",
    "- `not x`"
   ]
  },
  {
   "cell_type": "code",
   "execution_count": 0,
   "metadata": {
    "colab": {
     "base_uri": "https://localhost:8080/",
     "height": 35
    },
    "colab_type": "code",
    "id": "Y2IiKu9wbjLY",
    "outputId": "225e04aa-e3a0-4b30-ec6a-6a792ec0b039"
   },
   "outputs": [
    {
     "data": {
      "text/plain": [
       "True"
      ]
     },
     "execution_count": 16,
     "metadata": {
      "tags": []
     },
     "output_type": "execute_result"
    }
   ],
   "source": [
    "not (0 and 1)"
   ]
  },
  {
   "cell_type": "code",
   "execution_count": 0,
   "metadata": {
    "colab": {
     "base_uri": "https://localhost:8080/",
     "height": 35
    },
    "colab_type": "code",
    "id": "EvIdjoPfd0ss",
    "outputId": "d8072c0f-36f7-4a74-db48-20aa1d57f4c1"
   },
   "outputs": [
    {
     "data": {
      "text/plain": [
       "'something'"
      ]
     },
     "execution_count": 17,
     "metadata": {
      "tags": []
     },
     "output_type": "execute_result"
    }
   ],
   "source": [
    "struktūra.get('xxx') or 'something'"
   ]
  },
  {
   "cell_type": "markdown",
   "metadata": {
    "colab_type": "text",
    "id": "fe59vgmdcDQg"
   },
   "source": [
    "### Salīdzināšana\n"
   ]
  },
  {
   "cell_type": "markdown",
   "metadata": {
    "colab_type": "text",
    "id": "Pl2imdF6dV04"
   },
   "source": [
    "`x == y` un `x != y` pārbauda, vai ir vienādi\n",
    "\n",
    "**Skaitļi** (un tikai skaitļi) var būt vienādi, arī ja atšķiras tips"
   ]
  },
  {
   "cell_type": "code",
   "execution_count": 0,
   "metadata": {
    "colab": {
     "base_uri": "https://localhost:8080/",
     "height": 69
    },
    "colab_type": "code",
    "id": "Of-VjkN0cKXM",
    "outputId": "b532e890-0a7d-477e-f8d5-c8d2556907ac"
   },
   "outputs": [
    {
     "name": "stdout",
     "output_type": "stream",
     "text": [
      "True\n",
      "False\n",
      "False\n"
     ]
    }
   ],
   "source": [
    "print(0 == 0.0)\n",
    "print(0 == '0')\n",
    "print(0 == [])"
   ]
  },
  {
   "cell_type": "markdown",
   "metadata": {
    "colab_type": "text",
    "id": "Call3oRhciF8"
   },
   "source": [
    "`x is y` vai `x is not y` pārbauda, vai abi mainīgo vārdi rāda uz vienu un to pašu objektu"
   ]
  },
  {
   "cell_type": "code",
   "execution_count": 0,
   "metadata": {
    "colab": {
     "base_uri": "https://localhost:8080/",
     "height": 52
    },
    "colab_type": "code",
    "id": "uydtw79xcsnY",
    "outputId": "b9a86391-1420-4e3c-a867-12272f9a3cf3"
   },
   "outputs": [
    {
     "name": "stdout",
     "output_type": "stream",
     "text": [
      "True\n",
      "False\n"
     ]
    }
   ],
   "source": [
    "x = 'cirvis'\n",
    "y = x\n",
    "print(x is y)\n",
    "x = 'cir'\n",
    "x += 'vis'\n",
    "print(x is y)"
   ]
  },
  {
   "cell_type": "markdown",
   "metadata": {
    "colab_type": "text",
    "id": "DCUchi8ndbig"
   },
   "source": [
    "### Saraksti (*list*)"
   ]
  },
  {
   "cell_type": "markdown",
   "metadata": {
    "colab_type": "text",
    "id": "0aVX9ZkadxHw"
   },
   "source": [
    "Inicializējami kā `x = [1, 42, 7]`\n",
    "\n",
    "Adresējami kā `x[0]`, ar negatīviem indeksiem - skaita no beigām"
   ]
  },
  {
   "cell_type": "code",
   "execution_count": 0,
   "metadata": {
    "colab": {
     "base_uri": "https://localhost:8080/",
     "height": 52
    },
    "colab_type": "code",
    "id": "4ZqPvHQSfzTA",
    "outputId": "7ff80aeb-b89d-461f-f3f9-d96fad467491"
   },
   "outputs": [
    {
     "name": "stdout",
     "output_type": "stream",
     "text": [
      "2\n",
      "5\n"
     ]
    }
   ],
   "source": [
    "x = [1,2,3,4,5]\n",
    "print(x[1])\n",
    "print(x[-1])"
   ]
  },
  {
   "cell_type": "markdown",
   "metadata": {
    "colab_type": "text",
    "id": "80ADvmb1jI0o"
   },
   "source": [
    "Varam pārbaudīt, vai elements ir masīvā"
   ]
  },
  {
   "cell_type": "code",
   "execution_count": 0,
   "metadata": {
    "colab": {
     "base_uri": "https://localhost:8080/",
     "height": 52
    },
    "colab_type": "code",
    "id": "2zdes9-pjM2c",
    "outputId": "0e707156-5a0b-4ba7-9845-9cf08ce06e89"
   },
   "outputs": [
    {
     "name": "stdout",
     "output_type": "stream",
     "text": [
      "True\n",
      "False\n"
     ]
    }
   ],
   "source": [
    "print(1 in x)\n",
    "print('viens' in x)"
   ]
  },
  {
   "cell_type": "markdown",
   "metadata": {
    "colab_type": "text",
    "id": "TcZn6WIxfyBw"
   },
   "source": [
    "Heterogēni: `y = [13, None, 'kaut kas']`\n",
    "\n",
    "Maināmi:"
   ]
  },
  {
   "cell_type": "code",
   "execution_count": 0,
   "metadata": {
    "colab": {
     "base_uri": "https://localhost:8080/",
     "height": 35
    },
    "colab_type": "code",
    "id": "OOWsmfYTdxtQ",
    "outputId": "099ea595-9c41-497e-f714-4584f6ab0865"
   },
   "outputs": [
    {
     "name": "stdout",
     "output_type": "stream",
     "text": [
      "[1, 'divi', 3]\n"
     ]
    }
   ],
   "source": [
    "x = [1, 2, 3]\n",
    "y = x\n",
    "y[1] = 'divi'\n",
    "print(x)"
   ]
  },
  {
   "cell_type": "code",
   "execution_count": 0,
   "metadata": {
    "colab": {
     "base_uri": "https://localhost:8080/",
     "height": 35
    },
    "colab_type": "code",
    "id": "YlCk0aD6d9NM",
    "outputId": "9ffeaeb1-1b4b-4c89-beff-1f004f85f297"
   },
   "outputs": [
    {
     "data": {
      "text/plain": [
       "[1, 2, 3]"
      ]
     },
     "execution_count": 22,
     "metadata": {
      "tags": []
     },
     "output_type": "execute_result"
    }
   ],
   "source": [
    "x = [1,2]\n",
    "x.append(3)\n",
    "x"
   ]
  },
  {
   "cell_type": "code",
   "execution_count": 0,
   "metadata": {
    "colab": {
     "base_uri": "https://localhost:8080/",
     "height": 35
    },
    "colab_type": "code",
    "id": "fWsUNIA1eElE",
    "outputId": "a52e393b-9c39-4614-f71c-acc27fe3e23e"
   },
   "outputs": [
    {
     "data": {
      "text/plain": [
       "[1, 2, 3, 4, 5]"
      ]
     },
     "execution_count": 23,
     "metadata": {
      "tags": []
     },
     "output_type": "execute_result"
    }
   ],
   "source": [
    "x.extend([4,5])\n",
    "x"
   ]
  },
  {
   "cell_type": "code",
   "execution_count": 0,
   "metadata": {
    "colab": {
     "base_uri": "https://localhost:8080/",
     "height": 35
    },
    "colab_type": "code",
    "id": "xptlCoQDeOik",
    "outputId": "33b15217-2fef-496c-a229-783642e71fec"
   },
   "outputs": [
    {
     "data": {
      "text/plain": [
       "[5, 4, 3, 2, 1]"
      ]
     },
     "execution_count": 24,
     "metadata": {
      "tags": []
     },
     "output_type": "execute_result"
    }
   ],
   "source": [
    "x.sort(reverse=True) # in-place sort. NB! parametrus var padot ar vārdu\n",
    "x"
   ]
  },
  {
   "cell_type": "code",
   "execution_count": 0,
   "metadata": {
    "colab": {
     "base_uri": "https://localhost:8080/",
     "height": 35
    },
    "colab_type": "code",
    "id": "ktRcXM61eKwY",
    "outputId": "45a98a5c-2828-4161-d4eb-fda239b85dd4"
   },
   "outputs": [
    {
     "data": {
      "text/plain": [
       "[5, 4, 3, 2, 1, [6, 7]]"
      ]
     },
     "execution_count": 25,
     "metadata": {
      "tags": []
     },
     "output_type": "execute_result"
    }
   ],
   "source": [
    "x.append([6,7])\n",
    "x"
   ]
  },
  {
   "cell_type": "code",
   "execution_count": 0,
   "metadata": {
    "colab": {
     "base_uri": "https://localhost:8080/",
     "height": 52
    },
    "colab_type": "code",
    "id": "mfG2Nze1efoU",
    "outputId": "2cba3c48-779e-4df6-b8bb-27db26126b49"
   },
   "outputs": [
    {
     "name": "stdout",
     "output_type": "stream",
     "text": [
      "[6, 7]\n",
      "[5, 4, 3, 2, 1]\n"
     ]
    }
   ],
   "source": [
    "print(x.pop())\n",
    "print(x)"
   ]
  },
  {
   "cell_type": "code",
   "execution_count": 0,
   "metadata": {
    "colab": {
     "base_uri": "https://localhost:8080/",
     "height": 35
    },
    "colab_type": "code",
    "id": "RgrvDVu5ephI",
    "outputId": "153d32b8-7048-434a-c7a2-0fd2a39dcc8b"
   },
   "outputs": [
    {
     "data": {
      "text/plain": [
       "5"
      ]
     },
     "execution_count": 27,
     "metadata": {
      "tags": []
     },
     "output_type": "execute_result"
    }
   ],
   "source": [
    "len(x)"
   ]
  },
  {
   "cell_type": "markdown",
   "metadata": {
    "colab_type": "text",
    "id": "GlOeflEkew5A"
   },
   "source": [
    "### Slices - sarakstu adresēšana"
   ]
  },
  {
   "cell_type": "markdown",
   "metadata": {
    "colab_type": "text",
    "id": "txhp5dmle2xk"
   },
   "source": [
    "Ļoti spēcīgs mehānisms - principā `a[start:stop:step]`\n",
    "- neizveido kopiju\n",
    "- ērts, ņemot vērā negatīvās adreses\n",
    "- ja iziet ārpus robežām, nav kļūdu"
   ]
  },
  {
   "cell_type": "code",
   "execution_count": 0,
   "metadata": {
    "colab": {
     "base_uri": "https://localhost:8080/",
     "height": 87
    },
    "colab_type": "code",
    "id": "v9svj5FKfi14",
    "outputId": "fa1cf209-5900-4eeb-ce12-7006258ebb97"
   },
   "outputs": [
    {
     "name": "stdout",
     "output_type": "stream",
     "text": [
      "abcdefghij\n",
      "[1, 2, 3, 4]\n",
      "[3, 4]\n",
      "abcdefghij\n"
     ]
    }
   ],
   "source": [
    "x = [1,2,3,4,5]\n",
    "y = 'abcdefghij'\n",
    "print(y[0:14])  # paņemam pirmos četrus elementus - no 0-tā līdz 4-tajam, neieskaitot 4-to\n",
    "print(x[:4])   # tas pats\n",
    "print(x[2:4])  # no 2-tā līdz 4-tajam, neieskaitot 4-to\n",
    "print(y[-15:])  # paņemam pēdējos piecus elementus\n"
   ]
  },
  {
   "cell_type": "code",
   "execution_count": 0,
   "metadata": {
    "colab": {
     "base_uri": "https://localhost:8080/",
     "height": 52
    },
    "colab_type": "code",
    "id": "Dsx8ee71gmww",
    "outputId": "0562895e-4884-4edc-8c5b-d85d995adf20"
   },
   "outputs": [
    {
     "name": "stdout",
     "output_type": "stream",
     "text": [
      "acegi\n",
      "bdfhj\n"
     ]
    }
   ],
   "source": [
    "print(y[::2])  # katrs otrais\n",
    "print(y[1::2]) # katrs otrais, bet nobīdīts par vienu"
   ]
  },
  {
   "cell_type": "markdown",
   "metadata": {
    "colab_type": "text",
    "id": "Vu8GBtdlg_Uo"
   },
   "source": [
    "### Simbolu virknes\n",
    "\n"
   ]
  },
  {
   "cell_type": "markdown",
   "metadata": {
    "colab_type": "text",
    "id": "-27JHzsDi6d4"
   },
   "source": [
    "Kā jau redzējām, simbolu virknes ir gandrīz kā saraksti (bet **nav** maināmas)\n",
    "\n",
    "*Escape sequences* marķējam ar '\\\\':\n",
    "- \\t \\n \\\\\\\\  \\\\'\n",
    "- \\x3f norāda simbolu ar hex vērtību 3f\n",
    "\n",
    "Pēdiņas var būt gan ', gan \" un otras nav jāeskeipo:"
   ]
  },
  {
   "cell_type": "code",
   "execution_count": 0,
   "metadata": {
    "colab": {
     "base_uri": "https://localhost:8080/",
     "height": 70
    },
    "colab_type": "code",
    "id": "Dvv85l7vh1Wc",
    "outputId": "14f8a698-17e2-45c0-b8ee-851a3db8240d"
   },
   "outputs": [
    {
     "name": "stdout",
     "output_type": "stream",
     "text": [
      "O'Braians\n",
      "O'Braians\n",
      "burts \"x\"\n"
     ]
    }
   ],
   "source": [
    "print(\"O'Braians\")\n",
    "print('O\\'Braians')\n",
    "print('burts \"x\"')"
   ]
  },
  {
   "cell_type": "markdown",
   "metadata": {
    "colab_type": "text",
    "id": "43tDHrgWpot0"
   },
   "source": [
    "Var būt vairākrindu simbolu virknes:"
   ]
  },
  {
   "cell_type": "code",
   "execution_count": 0,
   "metadata": {
    "colab": {
     "base_uri": "https://localhost:8080/",
     "height": 121
    },
    "colab_type": "code",
    "id": "7UkZ0ySJprG8",
    "outputId": "269d087a-6c61-4092-8882-ac30eaca96db"
   },
   "outputs": [
    {
     "name": "stdout",
     "output_type": "stream",
     "text": [
      "Šeit būs daudz teksta\n",
      "\n",
      "daudz daudz daudz\n",
      "\n",
      "un vēl mazliet\n",
      "\n"
     ]
    }
   ],
   "source": [
    "x = \"\"\"Šeit būs daudz teksta\n",
    "\n",
    "daudz daudz daudz\n",
    "\n",
    "un vēl mazliet\n",
    "\"\"\"\n",
    "print(x)"
   ]
  },
  {
   "cell_type": "markdown",
   "metadata": {
    "colab_type": "text",
    "id": "spcvj-P6iOZk"
   },
   "source": [
    "Parastās simbolu virknes (un arī programmas teksts) ir pilns unicode, UTF8"
   ]
  },
  {
   "cell_type": "code",
   "execution_count": 0,
   "metadata": {
    "colab": {
     "base_uri": "https://localhost:8080/",
     "height": 34
    },
    "colab_type": "code",
    "id": "cmwfvo5eiT_Y",
    "outputId": "1fee0da4-ef62-41f4-c3e9-658aa053b227"
   },
   "outputs": [
    {
     "name": "stdout",
     "output_type": "stream",
     "text": [
      "rūķīši 🎅\n"
     ]
    }
   ],
   "source": [
    "glāžšķūņu = 'rūķīši 🎅'\n",
    "print(glāžšķūņu)"
   ]
  },
  {
   "cell_type": "markdown",
   "metadata": {
    "colab_type": "text",
    "id": "lx78GfqXjva8"
   },
   "source": [
    "Ir arī 'baitu virknes' : `b'kaut kas\\n'` ir precīzi šie 9 baiti (nav *null terminated* kā C/C++).\n",
    "\n",
    "Lai mijiedarbotos starp 'tekstu' un 'baitiem', vajag `encode`/`decode` komandas."
   ]
  },
  {
   "cell_type": "markdown",
   "metadata": {
    "colab_type": "text",
    "id": "kCilHKcMi8a4"
   },
   "source": [
    "### Simbolu virkņu apstrāde:\n",
    "Konkatenācija ar `+`, un sarakstu operācijas\n"
   ]
  },
  {
   "cell_type": "code",
   "execution_count": 0,
   "metadata": {
    "colab": {
     "base_uri": "https://localhost:8080/",
     "height": 105
    },
    "colab_type": "code",
    "id": "zhWy9YUBjTo0",
    "outputId": "09ef4897-35d1-47cb-c0fe-da052e3472ad"
   },
   "outputs": [
    {
     "name": "stdout",
     "output_type": "stream",
     "text": [
      "True\n",
      "True\n",
      "False\n",
      "6\n",
      "viens, divi, trīs\n"
     ]
    }
   ],
   "source": [
    "print('n' in 'something')    # kā masīvam\n",
    "print('ing' in 'something')  # ne kā masīvam\n",
    "print([2,3] in [1,2,3,4])\n",
    "print('something'.find('ing')) # atrod, kur\n",
    "print(', '.join(['viens', 'divi', 'trīs']))  # savieno ar to atdalītāju pa vidu"
   ]
  },
  {
   "cell_type": "markdown",
   "metadata": {
    "colab_type": "text",
    "id": "h0XWjjeAkNR4"
   },
   "source": [
    "### Formatējums"
   ]
  },
  {
   "cell_type": "markdown",
   "metadata": {
    "colab_type": "text",
    "id": "M6WDkeMDkO3c"
   },
   "source": [
    "Simbolu virknes ar patvaļīgu iekļautu saturu - no 3.6 rekomendējami \"f-strings\""
   ]
  },
  {
   "cell_type": "code",
   "execution_count": 0,
   "metadata": {
    "colab": {
     "base_uri": "https://localhost:8080/",
     "height": 86
    },
    "colab_type": "code",
    "id": "j00aPR33kS60",
    "outputId": "cfc2188f-c254-4c49-9906-91158b240484"
   },
   "outputs": [
    {
     "name": "stdout",
     "output_type": "stream",
     "text": [
      "iks ir vienāds ar 123\n",
      "Testējam: test, e\n",
      "Pareizs laiks 2019-09-10 00:32\n",
      "Formatējam peldošo punktu 0.33333\n"
     ]
    }
   ],
   "source": [
    "x = 123\n",
    "y = 'test'\n",
    "print(f'iks ir vienāds ar {x}')\n",
    "print(f'Testējam: {y}, {y[1]}')\n",
    "import datetime # par šo vēlāk\n",
    "now = datetime.datetime.now()\n",
    "print(f'Pareizs laiks {now:%Y-%m-%d %H:%M}')\n",
    "print(f'Formatējam peldošo punktu {1/3:.5f}')"
   ]
  },
  {
   "cell_type": "markdown",
   "metadata": {
    "colab_type": "text",
    "id": "Bi8qqCLOlpfc"
   },
   "source": [
    "### Vārdnīcas - *dict*, asociatīvie masīvi, *heštabulas*"
   ]
  },
  {
   "cell_type": "markdown",
   "metadata": {
    "colab_type": "text",
    "id": "vQvl_6vxlv6Y"
   },
   "source": [
    "*key-value* struktūra, plaši lietojama un plaši lietota. Vienai atslēgai atbilst viena vērtība.\n",
    "\n",
    "Atslēgai jābūt *'hešojamai'* - nemaināmam tipam"
   ]
  },
  {
   "cell_type": "code",
   "execution_count": 0,
   "metadata": {
    "colab": {},
    "colab_type": "code",
    "id": "kjCRLvizmHqs"
   },
   "outputs": [],
   "source": [
    "x = dict(one=1, two=2)  # klases konstruktors\n",
    "x = {'one':1, 'two':2}  # parasti lietotais variants"
   ]
  },
  {
   "cell_type": "code",
   "execution_count": 0,
   "metadata": {
    "colab": {
     "base_uri": "https://localhost:8080/",
     "height": 87
    },
    "colab_type": "code",
    "id": "kltyqdMnmgAg",
    "outputId": "fb76c464-f196-4d2f-9e9b-0ed3f97bb08c"
   },
   "outputs": [
    {
     "name": "stdout",
     "output_type": "stream",
     "text": [
      "True\n",
      "dict_values([1, 2])\n",
      "1\n",
      "1\n"
     ]
    }
   ],
   "source": [
    "print('one' in x)  # pārbaudam, vai atslēga ir vārdnīcā\n",
    "print(x.values())  # saraksts ar visām vērtībām\n",
    "print(x['one'])    # ja atslēgas nav, tad būs kļūda\n",
    "print(x.get('one'))  # ja atslēgas nav, tad būs None vērtība"
   ]
  },
  {
   "cell_type": "markdown",
   "metadata": {
    "colab_type": "text",
    "id": "Va7plMZqm2Dc"
   },
   "source": [
    "Elementus var izņemt ar `pop()` vai `del`"
   ]
  },
  {
   "cell_type": "code",
   "execution_count": 0,
   "metadata": {
    "colab": {
     "base_uri": "https://localhost:8080/",
     "height": 35
    },
    "colab_type": "code",
    "id": "lpziniR0VJ1w",
    "outputId": "3d56f783-ed06-4a88-f829-92e1a5dab9ed"
   },
   "outputs": [
    {
     "name": "stdout",
     "output_type": "stream",
     "text": [
      "{}\n"
     ]
    }
   ],
   "source": [
    "# x.pop('one')\n",
    "if x.get('two'):\n",
    "  del x['two']\n",
    "print(x)"
   ]
  },
  {
   "cell_type": "markdown",
   "metadata": {
    "colab_type": "text",
    "id": "7lejWyDxnANc"
   },
   "source": [
    "### Kopas (*set*)\n",
    "Satur vērtības, vērtībām jābūt unikālām, secība netiek saglabāta\n",
    "Elementiem jābūt *'hešojamiem'* - nemaināmam tipam"
   ]
  },
  {
   "cell_type": "code",
   "execution_count": 0,
   "metadata": {
    "colab": {
     "base_uri": "https://localhost:8080/",
     "height": 34
    },
    "colab_type": "code",
    "id": "GcWkuFyPnMkE",
    "outputId": "6c7bb085-f321-4cee-f09f-e5a54af7996c"
   },
   "outputs": [
    {
     "name": "stdout",
     "output_type": "stream",
     "text": [
      "True\n"
     ]
    }
   ],
   "source": [
    "x = set()  # standarta konstruktors tukšai kopai\n",
    "x = set([1,2,3])  # varam konstruēt no saraksta\n",
    "x = {1,2,3}  # tas pats, bet īsāk - līdzīgi vārdnīcām. bet šādi nevar inicializēt tukšu kopu\n",
    "print(2 in x) # elementa piederība kopai\n",
    "x.add(4) # elementa papildināšana"
   ]
  },
  {
   "cell_type": "markdown",
   "metadata": {
    "colab_type": "text",
    "id": "5LxDPrTYn64I"
   },
   "source": [
    "### Kortežs (tuple)"
   ]
  },
  {
   "cell_type": "markdown",
   "metadata": {
    "colab_type": "text",
    "id": "BCncnv3jn888"
   },
   "source": [
    "`(1, 3, 'elements')`\n",
    "\n",
    "Heterogēns, fiksēta garuma, nemaināms, var būt kā atslēga `dict`.\n",
    "\n",
    "Principā kortežu rada komats. Kortežu var automātiski sapakot/atpakot:"
   ]
  },
  {
   "cell_type": "code",
   "execution_count": 0,
   "metadata": {
    "colab": {
     "base_uri": "https://localhost:8080/",
     "height": 52
    },
    "colab_type": "code",
    "id": "Du3BaszToLCg",
    "outputId": "486eb172-1fd7-43f6-91cb-05c6dd5ca01e"
   },
   "outputs": [
    {
     "name": "stdout",
     "output_type": "stream",
     "text": [
      "(1, 2)\n",
      "2\n"
     ]
    }
   ],
   "source": [
    "x = 1,2\n",
    "print(x)\n",
    "a,b = x\n",
    "print(b)"
   ]
  },
  {
   "cell_type": "markdown",
   "metadata": {
    "colab_type": "text",
    "id": "unIG1GARoYo0"
   },
   "source": [
    "### Citi lietderīgi datu tipi"
   ]
  },
  {
   "cell_type": "markdown",
   "metadata": {
    "colab_type": "text",
    "id": "6vmwDhiuoayU"
   },
   "source": [
    "`collections.Counter` - 'skaitītājs' biežumiem utt.\n",
    "\n",
    "`collections.defaultdict` - vārdnīca ar noklusēto vērtību, ja atslēga nav atrasta\n",
    "\n",
    "`collections.namedtuple` - C `struct` analogs; strukturēts korteža tips, kur elementus var adresēt pēc nosaukuma; no vārdnīcas atšķiras ar to, ka nosaukumi glabājas tipā, nevis mainīgajā - attiecīgi noder, ja ir ļoti daudz vienveidīgu struktūru."
   ]
  },
  {
   "cell_type": "markdown",
   "metadata": {
    "colab_type": "text",
    "id": "vjaognKEo4_I"
   },
   "source": [
    "## Kontroles struktūras"
   ]
  },
  {
   "cell_type": "markdown",
   "metadata": {
    "colab_type": "text",
    "id": "i3JWhQx_o_BE"
   },
   "source": [
    "### Koda bloki"
   ]
  },
  {
   "cell_type": "markdown",
   "metadata": {
    "colab_type": "text",
    "id": "TUoDOZsqpB34"
   },
   "source": [
    "Koda bloks ir viss, kas ir ar vienādu atkāpi. Atstarpjsimboli ir svarīgi!\n",
    "\n",
    "Var lietot tabulācijas simbolu, bet nevajag. Noteikti nedrīkst miksēt atstarpes ar tabiem.\n",
    "\n",
    "Koda bloku uzsāk kāda komanda, kas beidzas ar kolu, un tas beidzas tad, kad \"atgriežas\" iepriekšējā atkāpes līmenī"
   ]
  },
  {
   "cell_type": "code",
   "execution_count": 0,
   "metadata": {
    "colab": {
     "base_uri": "https://localhost:8080/",
     "height": 70
    },
    "colab_type": "code",
    "id": "i4-X-RGzpPTQ",
    "outputId": "1a3b4d9d-aab1-4247-cdf1-704a756e6c9c"
   },
   "outputs": [
    {
     "name": "stdout",
     "output_type": "stream",
     "text": [
      "Iterācija nr. 0\n",
      "Iterācija nr. 1\n",
      "Iterācija nr. 2\n"
     ]
    }
   ],
   "source": [
    "if 2>1:\n",
    "  for i in range(3):\n",
    "    print(f'Iterācija nr. {i}')\n",
    "else:\n",
    "  raise Exception(\"Can't happen\")"
   ]
  },
  {
   "cell_type": "markdown",
   "metadata": {
    "colab_type": "text",
    "id": "NEnYx5tMp17I"
   },
   "source": [
    "### Funkcijas"
   ]
  },
  {
   "cell_type": "code",
   "execution_count": 0,
   "metadata": {
    "colab": {
     "base_uri": "https://localhost:8080/",
     "height": 158
    },
    "colab_type": "code",
    "id": "6jS2Ai-fp37Q",
    "outputId": "ca52933e-6c78-49d6-936b-ca02ca0ef695"
   },
   "outputs": [
    {
     "name": "stdout",
     "output_type": "stream",
     "text": [
      "2\n",
      "3\n",
      "3\n",
      "Help on function do_something in module __main__:\n",
      "\n",
      "do_something(x, a=1)\n",
      "    pieskaitam a pie x. Ja a nav norādīts, tad būs 1\n",
      "\n"
     ]
    }
   ],
   "source": [
    "def do_something(x, a=1):\n",
    "  \"\"\"pieskaitam a pie x. Ja a nav norādīts, tad būs 1\"\"\"\n",
    "  y = x+a\n",
    "  return y # šeit f-ja pārtrauc darboties. ja sasniedz beigas bez 'return', tad atgriež None\n",
    "\n",
    "print(do_something(1))  # darbojas noklusētais parametrs\n",
    "print(do_something(1,2)) # darbojas īpaši norādītais a\n",
    "print(do_something(a=1, x=2)) # ja parametrus sauc vārdā, tad secība nav svarīga\n",
    "help(do_something)"
   ]
  },
  {
   "cell_type": "markdown",
   "metadata": {
    "colab_type": "text",
    "id": "PZW2YS0Gqo7M"
   },
   "source": [
    "Mainīgo tvērums (*scope*)"
   ]
  },
  {
   "cell_type": "code",
   "execution_count": 0,
   "metadata": {
    "colab": {
     "base_uri": "https://localhost:8080/",
     "height": 35
    },
    "colab_type": "code",
    "id": "BQxOV_EsqntE",
    "outputId": "264617af-01ba-4fe2-ec6b-983d3625db70"
   },
   "outputs": [
    {
     "name": "stdout",
     "output_type": "stream",
     "text": [
      "1\n"
     ]
    }
   ],
   "source": [
    "x = 1\n",
    "def do_something():\n",
    "  x = 2  # ja izveidojam jaunu mainīgo, tad tas ir jauns\n",
    "do_something()\n",
    "print(x) "
   ]
  },
  {
   "cell_type": "code",
   "execution_count": 0,
   "metadata": {
    "colab": {
     "base_uri": "https://localhost:8080/",
     "height": 52
    },
    "colab_type": "code",
    "id": "sQCINoQhq6Fo",
    "outputId": "fcddfc5d-2e90-4831-b304-39115b3d739d"
   },
   "outputs": [
    {
     "name": "stdout",
     "output_type": "stream",
     "text": [
      "x1 = 1\n",
      "1\n"
     ]
    }
   ],
   "source": [
    "x = 1\n",
    "def do_something():\n",
    "  print(f'x1 = {x}') # bet mēs varam *lasīt* globālo mainīgo, ja gribam\n",
    "  \n",
    "do_something()\n",
    "print(x)\n"
   ]
  },
  {
   "cell_type": "code",
   "execution_count": 0,
   "metadata": {
    "colab": {
     "base_uri": "https://localhost:8080/",
     "height": 35
    },
    "colab_type": "code",
    "id": "cnrBH0vDqxGo",
    "outputId": "25bb353a-3635-4e70-a994-8760780cd206"
   },
   "outputs": [
    {
     "name": "stdout",
     "output_type": "stream",
     "text": [
      "2\n"
     ]
    }
   ],
   "source": [
    "x = 1\n",
    "def do_something():\n",
    "  global x  # ar šo mēs pasakam ka jā, mēs gribēsim šajā kontekstā mainīt x\n",
    "  def dosomething2():\n",
    "#     print('no dosomething2 :',x)\n",
    "    x = 3\n",
    "  x = 2\n",
    "  dosomething2()\n",
    "do_something()\n",
    "print(x)\n"
   ]
  },
  {
   "cell_type": "markdown",
   "metadata": {
    "colab_type": "text",
    "id": "BXn7OSkbrlRs"
   },
   "source": [
    "### if"
   ]
  },
  {
   "cell_type": "code",
   "execution_count": 0,
   "metadata": {
    "colab": {
     "base_uri": "https://localhost:8080/",
     "height": 35
    },
    "colab_type": "code",
    "id": "R6bAdL9TrqFg",
    "outputId": "75cc7739-d059-4441-b402-488167d4470d"
   },
   "outputs": [
    {
     "name": "stdout",
     "output_type": "stream",
     "text": [
      "apmierinoši\n"
     ]
    }
   ],
   "source": [
    "punkti = 66\n",
    "if punkti > 90:\n",
    "\tprint('labi')\n",
    "elif punkti > 0:\n",
    "\tprint('apmierinoši')\n",
    "else:\n",
    "\tprint('vāji')"
   ]
  },
  {
   "cell_type": "markdown",
   "metadata": {
    "colab_type": "text",
    "id": "-eIC6LUsr7hI"
   },
   "source": [
    "Diezgan pašsaprotami. Var lietot būla funkcijas; jāatceras par 'patiesīgumu'"
   ]
  },
  {
   "cell_type": "markdown",
   "metadata": {
    "colab_type": "text",
    "id": "MUJrNrLAr9i0"
   },
   "source": [
    "### for"
   ]
  },
  {
   "cell_type": "markdown",
   "metadata": {
    "colab_type": "text",
    "id": "q4Ma4lEor_QM"
   },
   "source": [
    "Primārais cikla operators. Noklusētais pielietojums - iterācija pa sarakstu, nevis pa masīva indeksiem."
   ]
  },
  {
   "cell_type": "code",
   "execution_count": 0,
   "metadata": {
    "colab": {
     "base_uri": "https://localhost:8080/",
     "height": 156
    },
    "colab_type": "code",
    "id": "ZUu624FlsdO8",
    "outputId": "95805c64-d941-4557-8435-4a3a3fe725b7"
   },
   "outputs": [
    {
     "name": "stdout",
     "output_type": "stream",
     "text": [
      "2\n",
      "3\n",
      "5\n",
      "8\n",
      "13\n",
      "0 cat\n",
      "1 bird\n",
      "2 dog\n"
     ]
    }
   ],
   "source": [
    "for number in [2,3,5,8,13]:\n",
    "\tprint(number)\n",
    "\n",
    "animals = {'cat','dog','bird'}\n",
    "for nr, a in enumerate(animals):  # enumerate atgriež kortežus (numurs, vērtība).\n",
    "\tprint(nr, a)"
   ]
  },
  {
   "cell_type": "code",
   "execution_count": 0,
   "metadata": {
    "colab": {
     "base_uri": "https://localhost:8080/",
     "height": 70
    },
    "colab_type": "code",
    "id": "JRPuyHM0tIpE",
    "outputId": "97dec950-5396-4989-edc3-07e88b0ccb3b"
   },
   "outputs": [
    {
     "name": "stdout",
     "output_type": "stream",
     "text": [
      "11\n",
      "13\n",
      "15\n"
     ]
    }
   ],
   "source": [
    "for number in range(10,20): # iterējam no 0 līdz 20.  range() ir 'ģenerators' - saraksts, kas tiek ģenerēts 'on-demand'\n",
    "  if number == 17:\n",
    "    break\n",
    "  if number % 2 == 0:\n",
    "    continue\n",
    "  print(number)"
   ]
  },
  {
   "cell_type": "markdown",
   "metadata": {
    "colab_type": "text",
    "id": "e9wEfvTAtdWE"
   },
   "source": [
    "Kā iterēt pa vārdnīcām"
   ]
  },
  {
   "cell_type": "code",
   "execution_count": 0,
   "metadata": {
    "colab": {
     "base_uri": "https://localhost:8080/",
     "height": 173
    },
    "colab_type": "code",
    "id": "D9M0s_IYtX-U",
    "outputId": "84810bc7-50f8-4898-ee62-0b4ba5df78e9"
   },
   "outputs": [
    {
     "name": "stdout",
     "output_type": "stream",
     "text": [
      "a\n",
      "b\n",
      "c\n",
      "1\n",
      "2\n",
      "3\n",
      "a 1\n",
      "b 2\n",
      "c 3\n"
     ]
    }
   ],
   "source": [
    "d = {'a':1,'b':2,'c':3}\n",
    "for k in d.keys():\n",
    "\tprint(k)\n",
    "for v in d.values():\n",
    "\tprint(v)\n",
    "for k, v in d.items():\n",
    "\tprint(k,v)"
   ]
  },
  {
   "cell_type": "markdown",
   "metadata": {
    "colab_type": "text",
    "id": "_8ZQXTArtivY"
   },
   "source": [
    "**Iterācijas laikā nedrīkst mainīt struktūru, pa kuru iterē!**\n",
    "Ja vajag modificēt attiecīgo sarakstu, tad jāveido kopija, vai pagaidu saraksts ar 'izmetamajiem'\n",
    "\n",
    "Vēl ir **while** cikls, kuru gan lieto retāk:"
   ]
  },
  {
   "cell_type": "code",
   "execution_count": 0,
   "metadata": {
    "colab": {},
    "colab_type": "code",
    "id": "VG6khYOftyUQ"
   },
   "outputs": [],
   "source": [
    "while 'laime' not in result:\n",
    "\tmeklēt_laimi()"
   ]
  },
  {
   "cell_type": "markdown",
   "metadata": {
    "colab_type": "text",
    "id": "ml-_OVTwt-Wk"
   },
   "source": [
    "### List comprehension"
   ]
  },
  {
   "cell_type": "markdown",
   "metadata": {
    "colab_type": "text",
    "id": "Bd8nrrJfuAZ0"
   },
   "source": [
    "Kompakts veids, kā pārveidot sarakstus\n",
    "\n",
    "`new_list = [ f(i) for i in old_list]`\n",
    "\n",
    "`entities = [Entity(line) for line in file]`\n",
    "\n",
    "`pozitiivie = [x for x in list if x > 0]`"
   ]
  },
  {
   "cell_type": "code",
   "execution_count": 0,
   "metadata": {
    "colab": {
     "base_uri": "https://localhost:8080/",
     "height": 52
    },
    "colab_type": "code",
    "id": "1SrmsPstuLnA",
    "outputId": "a0f6f4a5-f27b-44e1-db59-ebce7dad2fc1"
   },
   "outputs": [
    {
     "name": "stdout",
     "output_type": "stream",
     "text": [
      "[2, 3, 4, 5, 6]\n",
      "1 + 3 + 5\n"
     ]
    }
   ],
   "source": [
    "dati = [1,2,3,4,5]\n",
    "print([x+1 for x in dati])\n",
    "print(' + '.join([str(x) for x in dati if x % 2 == 1]))\n"
   ]
  },
  {
   "cell_type": "markdown",
   "metadata": {
    "colab_type": "text",
    "id": "RviMsadLuyrA"
   },
   "source": [
    "## Klases un OOP"
   ]
  },
  {
   "cell_type": "code",
   "execution_count": 0,
   "metadata": {
    "colab": {},
    "colab_type": "code",
    "id": "XaR_4e7swnRg"
   },
   "outputs": [],
   "source": [
    "class Document(object):\n",
    "\tdef __init__(self, filename):\n",
    "\t\tself.filename = filename # klašu mainīgie self.something principā ir vārdnīcas elementi - līdzīgi kā JavaScript\n",
    "\tdef open(self):\n",
    "\t\tdo_something(self.filename)\n",
    "d = Document('x.txt')\n",
    "d.open() "
   ]
  },
  {
   "cell_type": "code",
   "execution_count": 0,
   "metadata": {
    "colab": {},
    "colab_type": "code",
    "id": "XOCfsBrRwqX8"
   },
   "outputs": [],
   "source": [
    "class FancyDocument(Document):\n",
    "\tdef open(self):\n",
    "\t\tprint('Opening ', filename)\n",
    "\t\tdo_something(self.filename)\n",
    "\n",
    "d = FancyDocument('x.txt')\n",
    "d.open() "
   ]
  },
  {
   "cell_type": "markdown",
   "metadata": {
    "colab_type": "text",
    "id": "2ADAePJ8vMIs"
   },
   "source": [
    "## Moduļi un import\n",
    "\n",
    "Svešus moduļus importē ar `import`\n",
    "\n",
    "Savējos arī (pēc noklusējuma meklē tai pašā mapē)\n",
    "\n",
    "Nestandarta moduļus jāinstalē (parasti ar `pip` programmu)\n",
    " - Python principā ir `batteries included`, vairums vajadzīgā ir iekļauts\n",
    " - colab ir sainstalētas papildus visas vajadzīgās mašīnmācīšanās lietas\n",
    " - ārpus colab skat https://docs.python.org/3/tutorial/venv.html"
   ]
  },
  {
   "cell_type": "markdown",
   "metadata": {
    "colab_type": "text",
    "id": "508l0_VXUUhQ"
   },
   "source": [
    "### Kā darbojas 'programmas'"
   ]
  },
  {
   "cell_type": "code",
   "execution_count": 0,
   "metadata": {
    "colab": {
     "base_uri": "https://localhost:8080/",
     "height": 52
    },
    "colab_type": "code",
    "id": "z7vbelivUajM",
    "outputId": "58dd0598-4a02-450d-e432-e2ce70489193"
   },
   "outputs": [
    {
     "name": "stdout",
     "output_type": "stream",
     "text": [
      "something\n",
      "Hello, world!\n"
     ]
    }
   ],
   "source": [
    "def main():\n",
    "    print('Hello, world!')\n",
    "   \n",
    "print('something')  # šis izpildīsies uzreiz, ja importēs šo moduli\n",
    "\n",
    "if __name__ == \"__main__\":\n",
    "    main()  # šis izpildīsies tikai tad, ja laiž tieši šo moduli; ja importē, tad ne"
   ]
  },
  {
   "cell_type": "markdown",
   "metadata": {
    "colab_type": "text",
    "id": "2rm3amFKwNXs"
   },
   "source": [
    "## Failu I/O"
   ]
  },
  {
   "cell_type": "code",
   "execution_count": 0,
   "metadata": {
    "colab": {},
    "colab_type": "code",
    "id": "g-B8ICk1wRmA"
   },
   "outputs": [],
   "source": [
    "with open('x.txt') as f:  # \n",
    "\tfor line in f:\n",
    "\t\t# process line\n",
    "    pass\n",
    "\n",
    "with open('x.txt', 'w') as f:\n",
    "\tf.write('test')"
   ]
  },
  {
   "cell_type": "code",
   "execution_count": 0,
   "metadata": {
    "colab": {},
    "colab_type": "code",
    "id": "4G5D4nTcwaBE"
   },
   "outputs": [],
   "source": [
    "import json\n",
    "with open('x.json') as f:\n",
    "\tdata = json.load(f)\n",
    "  \n",
    "with open('y.json', 'w') as f:\n",
    "\tjson.dump(data, f, ensure_ascii=False, indent=2)\n",
    "print(json.dumps(data))\n"
   ]
  },
  {
   "cell_type": "markdown",
   "metadata": {
    "colab_type": "text",
    "id": "BWJTlymMXrhY"
   },
   "source": [
    "# Colab (un jupyter) īpatnības\n"
   ]
  },
  {
   "cell_type": "markdown",
   "metadata": {
    "colab_type": "text",
    "id": "Wk-zgpT-ZpAo"
   },
   "source": [
    "- šai lapai ir piesaistīts 'kernelis' / runtime\n",
    "  - python interpretatora instance ar iekšēju stāvokli, mainīgo vērtībām, importētām bibliotēkām, utt\n",
    "  - ... kernelis var 'pazust', restartēties, utt; saglabāts tiek kods+teksts, bet ne starpvērtības\n",
    "- šūnas var laist patvaļīgā secībā un vairākas reizes. Tas reizēm ir bīstami.\n",
    "\n",
    "## Kā novērst biežākās problēmas\n",
    "- Testējam - pamēģinam restartēt kerneli un palaist visas šūnas secīgi, vai viss notiek ok?\n",
    "- Strukturējam kodu funkcijās vai klasēs un lietojam tās\n",
    "- globālos mainīgos lietojam tikai vienam mērķim"
   ]
  },
  {
   "cell_type": "code",
   "execution_count": 0,
   "metadata": {
    "colab": {},
    "colab_type": "code",
    "id": "cVl_ZD3gYtg0"
   },
   "outputs": [],
   "source": [
    "dati = 2"
   ]
  },
  {
   "cell_type": "code",
   "execution_count": 0,
   "metadata": {
    "colab": {
     "base_uri": "https://localhost:8080/",
     "height": 35
    },
    "colab_type": "code",
    "id": "deDrb0V0Yw9I",
    "outputId": "17429722-7f14-45d2-9b40-02868c747f8c"
   },
   "outputs": [
    {
     "name": "stdout",
     "output_type": "stream",
     "text": [
      "range(0, 4)\n"
     ]
    }
   ],
   "source": [
    "dati2 = dati + 2\n",
    "dati2 = range(dati2)\n",
    "print(dati2)"
   ]
  }
 ],
 "metadata": {
  "colab": {
   "collapsed_sections": [
    "16mbDpsydL8E",
    "Zta_K3ghZtdA",
    "eDY2SMOJbASk",
    "fe59vgmdcDQg",
    "DCUchi8ndbig",
    "GlOeflEkew5A",
    "kCilHKcMi8a4",
    "BWJTlymMXrhY"
   ],
   "name": "Ievads python.ipynb",
   "provenance": [],
   "version": "0.3.2"
  },
  "kernelspec": {
   "display_name": "Python 3",
   "language": "python",
   "name": "python3"
  },
  "language_info": {
   "codemirror_mode": {
    "name": "ipython",
    "version": 3
   },
   "file_extension": ".py",
   "mimetype": "text/x-python",
   "name": "python",
   "nbconvert_exporter": "python",
   "pygments_lexer": "ipython3",
   "version": "3.7.3"
  }
 },
 "nbformat": 4,
 "nbformat_minor": 1
}
