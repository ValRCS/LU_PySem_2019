{
  "nbformat": 4,
  "nbformat_minor": 0,
  "metadata": {
    "colab": {
      "name": "Ievads python.ipynb",
      "version": "0.3.2",
      "provenance": [],
      "collapsed_sections": [
        "16mbDpsydL8E",
        "Zta_K3ghZtdA",
        "eDY2SMOJbASk",
        "fe59vgmdcDQg",
        "DCUchi8ndbig",
        "GlOeflEkew5A",
        "kCilHKcMi8a4",
        "BWJTlymMXrhY"
      ]
    },
    "kernelspec": {
      "name": "python3",
      "display_name": "Python 3"
    }
  },
  "cells": [
    {
      "cell_type": "markdown",
      "metadata": {
        "id": "hvNQSfbTVDHQ",
        "colab_type": "text"
      },
      "source": [
        "# Ievads Python valodā"
      ]
    },
    {
      "cell_type": "markdown",
      "metadata": {
        "id": "g-F9VrW0UkOs",
        "colab_type": "text"
      },
      "source": [
        "## Hello, world"
      ]
    },
    {
      "cell_type": "code",
      "metadata": {
        "id": "YSyGUn4tTkoY",
        "colab_type": "code",
        "outputId": "9ad5756c-b6cf-4c43-8597-f7e551aafcdd",
        "colab": {
          "base_uri": "https://localhost:8080/",
          "height": 35
        }
      },
      "source": [
        "print('Hello, world!')  # Pilnvērtīga programma ar vienu rindiņu"
      ],
      "execution_count": 0,
      "outputs": [
        {
          "output_type": "stream",
          "text": [
            "Hello, world!\n"
          ],
          "name": "stdout"
        }
      ]
    },
    {
      "cell_type": "markdown",
      "metadata": {
        "id": "bhvMO3WrUtrY",
        "colab_type": "text"
      },
      "source": [
        "1. Rindiņas neatdalam\n",
        "1. Komentāri līdz rindas beigām ar # simbolu\n",
        "1. Simbolu virknes nodalam ar ' ... vai arī ar \" , nav būtiska atšķirība\n",
        "1. Funkcijām parametrus norādam iekavās"
      ]
    },
    {
      "cell_type": "code",
      "metadata": {
        "id": "qxuMVJU-UaH0",
        "colab_type": "code",
        "outputId": "170addf4-9d39-40fa-8820-4b3f37e27fd0",
        "colab": {
          "base_uri": "https://localhost:8080/",
          "height": 228
        }
      },
      "source": [
        "help(print)  # Iebūvēta dokumentācijas komanda"
      ],
      "execution_count": 0,
      "outputs": [
        {
          "output_type": "stream",
          "text": [
            "Help on built-in function print in module builtins:\n",
            "\n",
            "print(...)\n",
            "    print(value, ..., sep=' ', end='\\n', file=sys.stdout, flush=False)\n",
            "    \n",
            "    Prints the values to a stream, or to sys.stdout by default.\n",
            "    Optional keyword arguments:\n",
            "    file:  a file-like object (stream); defaults to the current sys.stdout.\n",
            "    sep:   string inserted between values, default a space.\n",
            "    end:   string appended after the last value, default a newline.\n",
            "    flush: whether to forcibly flush the stream.\n",
            "\n"
          ],
          "name": "stdout"
        }
      ]
    },
    {
      "cell_type": "markdown",
      "metadata": {
        "id": "dAAZZKpuV8So",
        "colab_type": "text"
      },
      "source": [
        "Darbojas arī 'nestandarta' bibliotēkām un jūsu kodam, ja ir pareizi strukturēti skaidrojošie komentāri"
      ]
    },
    {
      "cell_type": "markdown",
      "metadata": {
        "id": "dpDkLXzBXNDY",
        "colab_type": "text"
      },
      "source": [
        "## Datu tipi\n"
      ]
    },
    {
      "cell_type": "markdown",
      "metadata": {
        "id": "16mbDpsydL8E",
        "colab_type": "text"
      },
      "source": [
        "### Kopīgais"
      ]
    },
    {
      "cell_type": "markdown",
      "metadata": {
        "id": "nZ0wduF2a8bs",
        "colab_type": "text"
      },
      "source": [
        "- Jebkas ir objekts. Daži objekti ir maināmi (saraksti, vairums jūsu klases), daži nav (skaitļi, simbolu virknes)\n",
        "  - *Mutability* - ka paliek 'tas pats', bet maina saturu\n",
        "- tipu var pārbaudīt\n",
        "- Mainīgo nosaukumiem nav fiksēts tips"
      ]
    },
    {
      "cell_type": "code",
      "metadata": {
        "id": "3LyPpYUuWA1Q",
        "colab_type": "code",
        "outputId": "a44b833b-c570-4521-bad1-b8475721e16a",
        "colab": {
          "base_uri": "https://localhost:8080/",
          "height": 70
        }
      },
      "source": [
        "x = 2  # Mainīgie nav iepriekš jādefinē\n",
        "print(type(x))\n",
        "x = 'divi'\n",
        "print(type(x))\n",
        "if isinstance(x, str):\n",
        "  print('x ir simbolu virkne')"
      ],
      "execution_count": 0,
      "outputs": [
        {
          "output_type": "stream",
          "text": [
            "<class 'int'>\n",
            "<class 'str'>\n",
            "x ir simbolu virkne\n"
          ],
          "name": "stdout"
        }
      ]
    },
    {
      "cell_type": "markdown",
      "metadata": {
        "id": "Zta_K3ghZtdA",
        "colab_type": "text"
      },
      "source": [
        "### Skaitļi\n"
      ]
    },
    {
      "cell_type": "markdown",
      "metadata": {
        "id": "DfCKv9UIdHZc",
        "colab_type": "text"
      },
      "source": [
        "`int` - veseli skaitļi bez izmēra ierobežojuma (*bignum*)\n",
        "\n",
        "`float` - peldošā punkta *double*\n",
        "\n",
        "`complex` - komplekss skaitlis (1+2j)\n",
        "\n",
        "Speciālgadījumiem standarta bibliotēkā ir arī daļskaitļi un decimāldaļskaitļi"
      ]
    },
    {
      "cell_type": "code",
      "metadata": {
        "id": "Vba3Sc9gXKkA",
        "colab_type": "code",
        "outputId": "615644f4-51ec-4851-b7a9-0062687ed893",
        "colab": {
          "base_uri": "https://localhost:8080/",
          "height": 35
        }
      },
      "source": [
        "2 + 2 * (2 + 2)"
      ],
      "execution_count": 0,
      "outputs": [
        {
          "output_type": "execute_result",
          "data": {
            "text/plain": [
              "10"
            ]
          },
          "metadata": {
            "tags": []
          },
          "execution_count": 10
        }
      ]
    },
    {
      "cell_type": "code",
      "metadata": {
        "id": "_b91b6LEakbw",
        "colab_type": "code",
        "outputId": "baf81c00-d5a2-46cf-d50c-135a345f3d6e",
        "colab": {
          "base_uri": "https://localhost:8080/",
          "height": 35
        }
      },
      "source": [
        "8 / 5  # floating point"
      ],
      "execution_count": 0,
      "outputs": [
        {
          "output_type": "execute_result",
          "data": {
            "text/plain": [
              "1.6"
            ]
          },
          "metadata": {
            "tags": []
          },
          "execution_count": 11
        }
      ]
    },
    {
      "cell_type": "code",
      "metadata": {
        "id": "vmCWaO5Aake4",
        "colab_type": "code",
        "outputId": "b450774d-3117-4891-ecaf-cd017c81adf4",
        "colab": {
          "base_uri": "https://localhost:8080/",
          "height": 35
        }
      },
      "source": [
        "8 // 5 # dalījums bez atlikuma"
      ],
      "execution_count": 0,
      "outputs": [
        {
          "output_type": "execute_result",
          "data": {
            "text/plain": [
              "1"
            ]
          },
          "metadata": {
            "tags": []
          },
          "execution_count": 12
        }
      ]
    },
    {
      "cell_type": "code",
      "metadata": {
        "id": "q6DdkpiTakiA",
        "colab_type": "code",
        "outputId": "7be5ebd9-2c03-4f8f-d518-9c274945ded4",
        "colab": {
          "base_uri": "https://localhost:8080/",
          "height": 35
        }
      },
      "source": [
        "8 % 5  # 3 – atlikums"
      ],
      "execution_count": 0,
      "outputs": [
        {
          "output_type": "execute_result",
          "data": {
            "text/plain": [
              "3"
            ]
          },
          "metadata": {
            "tags": []
          },
          "execution_count": 13
        }
      ]
    },
    {
      "cell_type": "code",
      "metadata": {
        "id": "2IQ-039qaoUM",
        "colab_type": "code",
        "outputId": "3349613c-2a3d-41dc-9a53-5a95380c3f5f",
        "colab": {
          "base_uri": "https://localhost:8080/",
          "height": 35
        }
      },
      "source": [
        "2 ** 3 # 8 – pakāpe"
      ],
      "execution_count": 0,
      "outputs": [
        {
          "output_type": "execute_result",
          "data": {
            "text/plain": [
              "8"
            ]
          },
          "metadata": {
            "tags": []
          },
          "execution_count": 14
        }
      ]
    },
    {
      "cell_type": "code",
      "metadata": {
        "id": "7TUNTQ4AaoVw",
        "colab_type": "code",
        "outputId": "098917b5-1271-4340-f1c7-39cf7c55a005",
        "colab": {
          "base_uri": "https://localhost:8080/",
          "height": 35
        }
      },
      "source": [
        "10 ** 100 # googol"
      ],
      "execution_count": 0,
      "outputs": [
        {
          "output_type": "execute_result",
          "data": {
            "text/plain": [
              "10000000000000000000000000000000000000000000000000000000000000000000000000000000000000000000000000000"
            ]
          },
          "metadata": {
            "tags": []
          },
          "execution_count": 15
        }
      ]
    },
    {
      "cell_type": "markdown",
      "metadata": {
        "id": "eDY2SMOJbASk",
        "colab_type": "text"
      },
      "source": [
        "### Patiesuma vērtības\n"
      ]
    },
    {
      "cell_type": "markdown",
      "metadata": {
        "id": "PrYIvYSIdRps",
        "colab_type": "text"
      },
      "source": [
        "Jebkuram objektam var pārbaudīt 'patiesumu' ar `if`\n",
        "\n",
        "Parasti ir 'patiesi' (*truthy*), izņemot:\n",
        "- `False` un `None`\n",
        "- visa veida nulles\n",
        "- tukšas virknes un kolekcijas - ja garums ir 0\n",
        "\n",
        "Būla operācijas:\n",
        "- `x and y`\n",
        "- `x or y`\n",
        "- `not x`"
      ]
    },
    {
      "cell_type": "code",
      "metadata": {
        "id": "Y2IiKu9wbjLY",
        "colab_type": "code",
        "outputId": "225e04aa-e3a0-4b30-ec6a-6a792ec0b039",
        "colab": {
          "base_uri": "https://localhost:8080/",
          "height": 35
        }
      },
      "source": [
        "not (0 and 1)"
      ],
      "execution_count": 0,
      "outputs": [
        {
          "output_type": "execute_result",
          "data": {
            "text/plain": [
              "True"
            ]
          },
          "metadata": {
            "tags": []
          },
          "execution_count": 16
        }
      ]
    },
    {
      "cell_type": "code",
      "metadata": {
        "id": "EvIdjoPfd0ss",
        "colab_type": "code",
        "outputId": "d8072c0f-36f7-4a74-db48-20aa1d57f4c1",
        "colab": {
          "base_uri": "https://localhost:8080/",
          "height": 35
        }
      },
      "source": [
        "struktūra.get('xxx') or 'something'"
      ],
      "execution_count": 0,
      "outputs": [
        {
          "output_type": "execute_result",
          "data": {
            "text/plain": [
              "'something'"
            ]
          },
          "metadata": {
            "tags": []
          },
          "execution_count": 17
        }
      ]
    },
    {
      "cell_type": "markdown",
      "metadata": {
        "id": "fe59vgmdcDQg",
        "colab_type": "text"
      },
      "source": [
        "### Salīdzināšana\n"
      ]
    },
    {
      "cell_type": "markdown",
      "metadata": {
        "id": "Pl2imdF6dV04",
        "colab_type": "text"
      },
      "source": [
        "`x == y` un `x != y` pārbauda, vai ir vienādi\n",
        "\n",
        "**Skaitļi** (un tikai skaitļi) var būt vienādi, arī ja atšķiras tips"
      ]
    },
    {
      "cell_type": "code",
      "metadata": {
        "id": "Of-VjkN0cKXM",
        "colab_type": "code",
        "outputId": "b532e890-0a7d-477e-f8d5-c8d2556907ac",
        "colab": {
          "base_uri": "https://localhost:8080/",
          "height": 69
        }
      },
      "source": [
        "print(0 == 0.0)\n",
        "print(0 == '0')\n",
        "print(0 == [])"
      ],
      "execution_count": 0,
      "outputs": [
        {
          "output_type": "stream",
          "text": [
            "True\n",
            "False\n",
            "False\n"
          ],
          "name": "stdout"
        }
      ]
    },
    {
      "cell_type": "markdown",
      "metadata": {
        "id": "Call3oRhciF8",
        "colab_type": "text"
      },
      "source": [
        "`x is y` vai `x is not y` pārbauda, vai abi mainīgo vārdi rāda uz vienu un to pašu objektu"
      ]
    },
    {
      "cell_type": "code",
      "metadata": {
        "id": "uydtw79xcsnY",
        "colab_type": "code",
        "outputId": "b9a86391-1420-4e3c-a867-12272f9a3cf3",
        "colab": {
          "base_uri": "https://localhost:8080/",
          "height": 52
        }
      },
      "source": [
        "x = 'cirvis'\n",
        "y = x\n",
        "print(x is y)\n",
        "x = 'cir'\n",
        "x += 'vis'\n",
        "print(x is y)"
      ],
      "execution_count": 0,
      "outputs": [
        {
          "output_type": "stream",
          "text": [
            "True\n",
            "False\n"
          ],
          "name": "stdout"
        }
      ]
    },
    {
      "cell_type": "markdown",
      "metadata": {
        "id": "DCUchi8ndbig",
        "colab_type": "text"
      },
      "source": [
        "### Saraksti (*list*)"
      ]
    },
    {
      "cell_type": "markdown",
      "metadata": {
        "id": "0aVX9ZkadxHw",
        "colab_type": "text"
      },
      "source": [
        "Inicializējami kā `x = [1, 42, 7]`\n",
        "\n",
        "Adresējami kā `x[0]`, ar negatīviem indeksiem - skaita no beigām"
      ]
    },
    {
      "cell_type": "code",
      "metadata": {
        "id": "4ZqPvHQSfzTA",
        "colab_type": "code",
        "outputId": "7ff80aeb-b89d-461f-f3f9-d96fad467491",
        "colab": {
          "base_uri": "https://localhost:8080/",
          "height": 52
        }
      },
      "source": [
        "x = [1,2,3,4,5]\n",
        "print(x[1])\n",
        "print(x[-1])"
      ],
      "execution_count": 0,
      "outputs": [
        {
          "output_type": "stream",
          "text": [
            "2\n",
            "5\n"
          ],
          "name": "stdout"
        }
      ]
    },
    {
      "cell_type": "markdown",
      "metadata": {
        "id": "80ADvmb1jI0o",
        "colab_type": "text"
      },
      "source": [
        "Varam pārbaudīt, vai elements ir masīvā"
      ]
    },
    {
      "cell_type": "code",
      "metadata": {
        "id": "2zdes9-pjM2c",
        "colab_type": "code",
        "outputId": "0e707156-5a0b-4ba7-9845-9cf08ce06e89",
        "colab": {
          "base_uri": "https://localhost:8080/",
          "height": 52
        }
      },
      "source": [
        "print(1 in x)\n",
        "print('viens' in x)"
      ],
      "execution_count": 0,
      "outputs": [
        {
          "output_type": "stream",
          "text": [
            "True\n",
            "False\n"
          ],
          "name": "stdout"
        }
      ]
    },
    {
      "cell_type": "markdown",
      "metadata": {
        "id": "TcZn6WIxfyBw",
        "colab_type": "text"
      },
      "source": [
        "Heterogēni: `y = [13, None, 'kaut kas']`\n",
        "\n",
        "Maināmi:"
      ]
    },
    {
      "cell_type": "code",
      "metadata": {
        "id": "OOWsmfYTdxtQ",
        "colab_type": "code",
        "outputId": "099ea595-9c41-497e-f714-4584f6ab0865",
        "colab": {
          "base_uri": "https://localhost:8080/",
          "height": 35
        }
      },
      "source": [
        "x = [1, 2, 3]\n",
        "y = x\n",
        "y[1] = 'divi'\n",
        "print(x)"
      ],
      "execution_count": 0,
      "outputs": [
        {
          "output_type": "stream",
          "text": [
            "[1, 'divi', 3]\n"
          ],
          "name": "stdout"
        }
      ]
    },
    {
      "cell_type": "code",
      "metadata": {
        "id": "YlCk0aD6d9NM",
        "colab_type": "code",
        "outputId": "9ffeaeb1-1b4b-4c89-beff-1f004f85f297",
        "colab": {
          "base_uri": "https://localhost:8080/",
          "height": 35
        }
      },
      "source": [
        "x = [1,2]\n",
        "x.append(3)\n",
        "x"
      ],
      "execution_count": 0,
      "outputs": [
        {
          "output_type": "execute_result",
          "data": {
            "text/plain": [
              "[1, 2, 3]"
            ]
          },
          "metadata": {
            "tags": []
          },
          "execution_count": 22
        }
      ]
    },
    {
      "cell_type": "code",
      "metadata": {
        "id": "fWsUNIA1eElE",
        "colab_type": "code",
        "outputId": "a52e393b-9c39-4614-f71c-acc27fe3e23e",
        "colab": {
          "base_uri": "https://localhost:8080/",
          "height": 35
        }
      },
      "source": [
        "x.extend([4,5])\n",
        "x"
      ],
      "execution_count": 0,
      "outputs": [
        {
          "output_type": "execute_result",
          "data": {
            "text/plain": [
              "[1, 2, 3, 4, 5]"
            ]
          },
          "metadata": {
            "tags": []
          },
          "execution_count": 23
        }
      ]
    },
    {
      "cell_type": "code",
      "metadata": {
        "id": "xptlCoQDeOik",
        "colab_type": "code",
        "outputId": "33b15217-2fef-496c-a229-783642e71fec",
        "colab": {
          "base_uri": "https://localhost:8080/",
          "height": 35
        }
      },
      "source": [
        "x.sort(reverse=True) # in-place sort. NB! parametrus var padot ar vārdu\n",
        "x"
      ],
      "execution_count": 0,
      "outputs": [
        {
          "output_type": "execute_result",
          "data": {
            "text/plain": [
              "[5, 4, 3, 2, 1]"
            ]
          },
          "metadata": {
            "tags": []
          },
          "execution_count": 24
        }
      ]
    },
    {
      "cell_type": "code",
      "metadata": {
        "id": "ktRcXM61eKwY",
        "colab_type": "code",
        "outputId": "45a98a5c-2828-4161-d4eb-fda239b85dd4",
        "colab": {
          "base_uri": "https://localhost:8080/",
          "height": 35
        }
      },
      "source": [
        "x.append([6,7])\n",
        "x"
      ],
      "execution_count": 0,
      "outputs": [
        {
          "output_type": "execute_result",
          "data": {
            "text/plain": [
              "[5, 4, 3, 2, 1, [6, 7]]"
            ]
          },
          "metadata": {
            "tags": []
          },
          "execution_count": 25
        }
      ]
    },
    {
      "cell_type": "code",
      "metadata": {
        "id": "mfG2Nze1efoU",
        "colab_type": "code",
        "outputId": "2cba3c48-779e-4df6-b8bb-27db26126b49",
        "colab": {
          "base_uri": "https://localhost:8080/",
          "height": 52
        }
      },
      "source": [
        "print(x.pop())\n",
        "print(x)"
      ],
      "execution_count": 0,
      "outputs": [
        {
          "output_type": "stream",
          "text": [
            "[6, 7]\n",
            "[5, 4, 3, 2, 1]\n"
          ],
          "name": "stdout"
        }
      ]
    },
    {
      "cell_type": "code",
      "metadata": {
        "id": "RgrvDVu5ephI",
        "colab_type": "code",
        "outputId": "153d32b8-7048-434a-c7a2-0fd2a39dcc8b",
        "colab": {
          "base_uri": "https://localhost:8080/",
          "height": 35
        }
      },
      "source": [
        "len(x)"
      ],
      "execution_count": 0,
      "outputs": [
        {
          "output_type": "execute_result",
          "data": {
            "text/plain": [
              "5"
            ]
          },
          "metadata": {
            "tags": []
          },
          "execution_count": 27
        }
      ]
    },
    {
      "cell_type": "markdown",
      "metadata": {
        "id": "GlOeflEkew5A",
        "colab_type": "text"
      },
      "source": [
        "### Slices - sarakstu adresēšana"
      ]
    },
    {
      "cell_type": "markdown",
      "metadata": {
        "id": "txhp5dmle2xk",
        "colab_type": "text"
      },
      "source": [
        "Ļoti spēcīgs mehānisms - principā `a[start:stop:step]`\n",
        "- neizveido kopiju\n",
        "- ērts, ņemot vērā negatīvās adreses\n",
        "- ja iziet ārpus robežām, nav kļūdu"
      ]
    },
    {
      "cell_type": "code",
      "metadata": {
        "id": "v9svj5FKfi14",
        "colab_type": "code",
        "outputId": "fa1cf209-5900-4eeb-ce12-7006258ebb97",
        "colab": {
          "base_uri": "https://localhost:8080/",
          "height": 87
        }
      },
      "source": [
        "x = [1,2,3,4,5]\n",
        "y = 'abcdefghij'\n",
        "print(y[0:14])  # paņemam pirmos četrus elementus - no 0-tā līdz 4-tajam, neieskaitot 4-to\n",
        "print(x[:4])   # tas pats\n",
        "print(x[2:4])  # no 2-tā līdz 4-tajam, neieskaitot 4-to\n",
        "print(y[-15:])  # paņemam pēdējos piecus elementus\n"
      ],
      "execution_count": 0,
      "outputs": [
        {
          "output_type": "stream",
          "text": [
            "abcdefghij\n",
            "[1, 2, 3, 4]\n",
            "[3, 4]\n",
            "abcdefghij\n"
          ],
          "name": "stdout"
        }
      ]
    },
    {
      "cell_type": "code",
      "metadata": {
        "id": "Dsx8ee71gmww",
        "colab_type": "code",
        "outputId": "0562895e-4884-4edc-8c5b-d85d995adf20",
        "colab": {
          "base_uri": "https://localhost:8080/",
          "height": 52
        }
      },
      "source": [
        "print(y[::2])  # katrs otrais\n",
        "print(y[1::2]) # katrs otrais, bet nobīdīts par vienu"
      ],
      "execution_count": 0,
      "outputs": [
        {
          "output_type": "stream",
          "text": [
            "acegi\n",
            "bdfhj\n"
          ],
          "name": "stdout"
        }
      ]
    },
    {
      "cell_type": "markdown",
      "metadata": {
        "id": "Vu8GBtdlg_Uo",
        "colab_type": "text"
      },
      "source": [
        "### Simbolu virknes\n",
        "\n"
      ]
    },
    {
      "cell_type": "markdown",
      "metadata": {
        "id": "-27JHzsDi6d4",
        "colab_type": "text"
      },
      "source": [
        "Kā jau redzējām, simbolu virknes ir gandrīz kā saraksti (bet **nav** maināmas)\n",
        "\n",
        "*Escape sequences* marķējam ar '\\\\':\n",
        "- \\t \\n \\\\\\\\  \\\\'\n",
        "- \\x3f norāda simbolu ar hex vērtību 3f\n",
        "\n",
        "Pēdiņas var būt gan ', gan \" un otras nav jāeskeipo:"
      ]
    },
    {
      "cell_type": "code",
      "metadata": {
        "id": "Dvv85l7vh1Wc",
        "colab_type": "code",
        "outputId": "14f8a698-17e2-45c0-b8ee-851a3db8240d",
        "colab": {
          "base_uri": "https://localhost:8080/",
          "height": 70
        }
      },
      "source": [
        "print(\"O'Braians\")\n",
        "print('O\\'Braians')\n",
        "print('burts \"x\"')"
      ],
      "execution_count": 0,
      "outputs": [
        {
          "output_type": "stream",
          "text": [
            "O'Braians\n",
            "O'Braians\n",
            "burts \"x\"\n"
          ],
          "name": "stdout"
        }
      ]
    },
    {
      "cell_type": "markdown",
      "metadata": {
        "id": "43tDHrgWpot0",
        "colab_type": "text"
      },
      "source": [
        "Var būt vairākrindu simbolu virknes:"
      ]
    },
    {
      "cell_type": "code",
      "metadata": {
        "id": "7UkZ0ySJprG8",
        "colab_type": "code",
        "outputId": "269d087a-6c61-4092-8882-ac30eaca96db",
        "colab": {
          "base_uri": "https://localhost:8080/",
          "height": 121
        }
      },
      "source": [
        "x = \"\"\"Šeit būs daudz teksta\n",
        "\n",
        "daudz daudz daudz\n",
        "\n",
        "un vēl mazliet\n",
        "\"\"\"\n",
        "print(x)"
      ],
      "execution_count": 0,
      "outputs": [
        {
          "output_type": "stream",
          "text": [
            "Šeit būs daudz teksta\n",
            "\n",
            "daudz daudz daudz\n",
            "\n",
            "un vēl mazliet\n",
            "\n"
          ],
          "name": "stdout"
        }
      ]
    },
    {
      "cell_type": "markdown",
      "metadata": {
        "id": "spcvj-P6iOZk",
        "colab_type": "text"
      },
      "source": [
        "Parastās simbolu virknes (un arī programmas teksts) ir pilns unicode, UTF8"
      ]
    },
    {
      "cell_type": "code",
      "metadata": {
        "id": "cmwfvo5eiT_Y",
        "colab_type": "code",
        "outputId": "1fee0da4-ef62-41f4-c3e9-658aa053b227",
        "colab": {
          "base_uri": "https://localhost:8080/",
          "height": 34
        }
      },
      "source": [
        "glāžšķūņu = 'rūķīši 🎅'\n",
        "print(glāžšķūņu)"
      ],
      "execution_count": 0,
      "outputs": [
        {
          "output_type": "stream",
          "text": [
            "rūķīši 🎅\n"
          ],
          "name": "stdout"
        }
      ]
    },
    {
      "cell_type": "markdown",
      "metadata": {
        "id": "lx78GfqXjva8",
        "colab_type": "text"
      },
      "source": [
        "Ir arī 'baitu virknes' : `b'kaut kas\\n'` ir precīzi šie 9 baiti (nav *null terminated* kā C/C++).\n",
        "\n",
        "Lai mijiedarbotos starp 'tekstu' un 'baitiem', vajag `encode`/`decode` komandas."
      ]
    },
    {
      "cell_type": "markdown",
      "metadata": {
        "id": "kCilHKcMi8a4",
        "colab_type": "text"
      },
      "source": [
        "### Simbolu virkņu apstrāde:\n",
        "Konkatenācija ar `+`, un sarakstu operācijas\n"
      ]
    },
    {
      "cell_type": "code",
      "metadata": {
        "id": "zhWy9YUBjTo0",
        "colab_type": "code",
        "outputId": "09ef4897-35d1-47cb-c0fe-da052e3472ad",
        "colab": {
          "base_uri": "https://localhost:8080/",
          "height": 105
        }
      },
      "source": [
        "print('n' in 'something')    # kā masīvam\n",
        "print('ing' in 'something')  # ne kā masīvam\n",
        "print([2,3] in [1,2,3,4])\n",
        "print('something'.find('ing')) # atrod, kur\n",
        "print(', '.join(['viens', 'divi', 'trīs']))  # savieno ar to atdalītāju pa vidu"
      ],
      "execution_count": 0,
      "outputs": [
        {
          "output_type": "stream",
          "text": [
            "True\n",
            "True\n",
            "False\n",
            "6\n",
            "viens, divi, trīs\n"
          ],
          "name": "stdout"
        }
      ]
    },
    {
      "cell_type": "markdown",
      "metadata": {
        "id": "h0XWjjeAkNR4",
        "colab_type": "text"
      },
      "source": [
        "### Formatējums"
      ]
    },
    {
      "cell_type": "markdown",
      "metadata": {
        "id": "M6WDkeMDkO3c",
        "colab_type": "text"
      },
      "source": [
        "Simbolu virknes ar patvaļīgu iekļautu saturu - no 3.6 rekomendējami \"f-strings\""
      ]
    },
    {
      "cell_type": "code",
      "metadata": {
        "id": "j00aPR33kS60",
        "colab_type": "code",
        "outputId": "cfc2188f-c254-4c49-9906-91158b240484",
        "colab": {
          "base_uri": "https://localhost:8080/",
          "height": 86
        }
      },
      "source": [
        "x = 123\n",
        "y = 'test'\n",
        "print(f'iks ir vienāds ar {x}')\n",
        "print(f'Testējam: {y}, {y[1]}')\n",
        "import datetime # par šo vēlāk\n",
        "now = datetime.datetime.now()\n",
        "print(f'Pareizs laiks {now:%Y-%m-%d %H:%M}')\n",
        "print(f'Formatējam peldošo punktu {1/3:.5f}')"
      ],
      "execution_count": 0,
      "outputs": [
        {
          "output_type": "stream",
          "text": [
            "iks ir vienāds ar 123\n",
            "Testējam: test, e\n",
            "Pareizs laiks 2019-09-10 00:32\n",
            "Formatējam peldošo punktu 0.33333\n"
          ],
          "name": "stdout"
        }
      ]
    },
    {
      "cell_type": "markdown",
      "metadata": {
        "id": "Bi8qqCLOlpfc",
        "colab_type": "text"
      },
      "source": [
        "### Vārdnīcas - *dict*, asociatīvie masīvi, *heštabulas*"
      ]
    },
    {
      "cell_type": "markdown",
      "metadata": {
        "id": "vQvl_6vxlv6Y",
        "colab_type": "text"
      },
      "source": [
        "*key-value* struktūra, plaši lietojama un plaši lietota. Vienai atslēgai atbilst viena vērtība.\n",
        "\n",
        "Atslēgai jābūt *'hešojamai'* - nemaināmam tipam"
      ]
    },
    {
      "cell_type": "code",
      "metadata": {
        "id": "kjCRLvizmHqs",
        "colab_type": "code",
        "colab": {}
      },
      "source": [
        "x = dict(one=1, two=2)  # klases konstruktors\n",
        "x = {'one':1, 'two':2}  # parasti lietotais variants"
      ],
      "execution_count": 0,
      "outputs": []
    },
    {
      "cell_type": "code",
      "metadata": {
        "id": "kltyqdMnmgAg",
        "colab_type": "code",
        "outputId": "fb76c464-f196-4d2f-9e9b-0ed3f97bb08c",
        "colab": {
          "base_uri": "https://localhost:8080/",
          "height": 87
        }
      },
      "source": [
        "print('one' in x)  # pārbaudam, vai atslēga ir vārdnīcā\n",
        "print(x.values())  # saraksts ar visām vērtībām\n",
        "print(x['one'])    # ja atslēgas nav, tad būs kļūda\n",
        "print(x.get('one'))  # ja atslēgas nav, tad būs None vērtība"
      ],
      "execution_count": 0,
      "outputs": [
        {
          "output_type": "stream",
          "text": [
            "True\n",
            "dict_values([1, 2])\n",
            "1\n",
            "1\n"
          ],
          "name": "stdout"
        }
      ]
    },
    {
      "cell_type": "markdown",
      "metadata": {
        "id": "Va7plMZqm2Dc",
        "colab_type": "text"
      },
      "source": [
        "Elementus var izņemt ar `pop()` vai `del`"
      ]
    },
    {
      "cell_type": "code",
      "metadata": {
        "id": "lpziniR0VJ1w",
        "colab_type": "code",
        "outputId": "3d56f783-ed06-4a88-f829-92e1a5dab9ed",
        "colab": {
          "base_uri": "https://localhost:8080/",
          "height": 35
        }
      },
      "source": [
        "# x.pop('one')\n",
        "if x.get('two'):\n",
        "  del x['two']\n",
        "print(x)"
      ],
      "execution_count": 0,
      "outputs": [
        {
          "output_type": "stream",
          "text": [
            "{}\n"
          ],
          "name": "stdout"
        }
      ]
    },
    {
      "cell_type": "markdown",
      "metadata": {
        "id": "7lejWyDxnANc",
        "colab_type": "text"
      },
      "source": [
        "### Kopas (*set*)\n",
        "Satur vērtības, vērtībām jābūt unikālām, secība netiek saglabāta\n",
        "Elementiem jābūt *'hešojamiem'* - nemaināmam tipam"
      ]
    },
    {
      "cell_type": "code",
      "metadata": {
        "id": "GcWkuFyPnMkE",
        "colab_type": "code",
        "outputId": "6c7bb085-f321-4cee-f09f-e5a54af7996c",
        "colab": {
          "base_uri": "https://localhost:8080/",
          "height": 34
        }
      },
      "source": [
        "x = set()  # standarta konstruktors tukšai kopai\n",
        "x = set([1,2,3])  # varam konstruēt no saraksta\n",
        "x = {1,2,3}  # tas pats, bet īsāk - līdzīgi vārdnīcām. bet šādi nevar inicializēt tukšu kopu\n",
        "print(2 in x) # elementa piederība kopai\n",
        "x.add(4) # elementa papildināšana"
      ],
      "execution_count": 0,
      "outputs": [
        {
          "output_type": "stream",
          "text": [
            "True\n"
          ],
          "name": "stdout"
        }
      ]
    },
    {
      "cell_type": "markdown",
      "metadata": {
        "id": "5LxDPrTYn64I",
        "colab_type": "text"
      },
      "source": [
        "### Kortežs (tuple)"
      ]
    },
    {
      "cell_type": "markdown",
      "metadata": {
        "id": "BCncnv3jn888",
        "colab_type": "text"
      },
      "source": [
        "`(1, 3, 'elements')`\n",
        "\n",
        "Heterogēns, fiksēta garuma, nemaināms, var būt kā atslēga `dict`.\n",
        "\n",
        "Principā kortežu rada komats. Kortežu var automātiski sapakot/atpakot:"
      ]
    },
    {
      "cell_type": "code",
      "metadata": {
        "id": "Du3BaszToLCg",
        "colab_type": "code",
        "outputId": "486eb172-1fd7-43f6-91cb-05c6dd5ca01e",
        "colab": {
          "base_uri": "https://localhost:8080/",
          "height": 52
        }
      },
      "source": [
        "x = 1,2\n",
        "print(x)\n",
        "a,b = x\n",
        "print(b)"
      ],
      "execution_count": 0,
      "outputs": [
        {
          "output_type": "stream",
          "text": [
            "(1, 2)\n",
            "2\n"
          ],
          "name": "stdout"
        }
      ]
    },
    {
      "cell_type": "markdown",
      "metadata": {
        "id": "unIG1GARoYo0",
        "colab_type": "text"
      },
      "source": [
        "### Citi lietderīgi datu tipi"
      ]
    },
    {
      "cell_type": "markdown",
      "metadata": {
        "id": "6vmwDhiuoayU",
        "colab_type": "text"
      },
      "source": [
        "`collections.Counter` - 'skaitītājs' biežumiem utt.\n",
        "\n",
        "`collections.defaultdict` - vārdnīca ar noklusēto vērtību, ja atslēga nav atrasta\n",
        "\n",
        "`collections.namedtuple` - C `struct` analogs; strukturēts korteža tips, kur elementus var adresēt pēc nosaukuma; no vārdnīcas atšķiras ar to, ka nosaukumi glabājas tipā, nevis mainīgajā - attiecīgi noder, ja ir ļoti daudz vienveidīgu struktūru."
      ]
    },
    {
      "cell_type": "markdown",
      "metadata": {
        "id": "vjaognKEo4_I",
        "colab_type": "text"
      },
      "source": [
        "## Kontroles struktūras"
      ]
    },
    {
      "cell_type": "markdown",
      "metadata": {
        "id": "i3JWhQx_o_BE",
        "colab_type": "text"
      },
      "source": [
        "### Koda bloki"
      ]
    },
    {
      "cell_type": "markdown",
      "metadata": {
        "id": "TUoDOZsqpB34",
        "colab_type": "text"
      },
      "source": [
        "Koda bloks ir viss, kas ir ar vienādu atkāpi. Atstarpjsimboli ir svarīgi!\n",
        "\n",
        "Var lietot tabulācijas simbolu, bet nevajag. Noteikti nedrīkst miksēt atstarpes ar tabiem.\n",
        "\n",
        "Koda bloku uzsāk kāda komanda, kas beidzas ar kolu, un tas beidzas tad, kad \"atgriežas\" iepriekšējā atkāpes līmenī"
      ]
    },
    {
      "cell_type": "code",
      "metadata": {
        "id": "i4-X-RGzpPTQ",
        "colab_type": "code",
        "outputId": "1a3b4d9d-aab1-4247-cdf1-704a756e6c9c",
        "colab": {
          "base_uri": "https://localhost:8080/",
          "height": 70
        }
      },
      "source": [
        "if 2>1:\n",
        "  for i in range(3):\n",
        "    print(f'Iterācija nr. {i}')\n",
        "else:\n",
        "  raise Exception(\"Can't happen\")"
      ],
      "execution_count": 0,
      "outputs": [
        {
          "output_type": "stream",
          "text": [
            "Iterācija nr. 0\n",
            "Iterācija nr. 1\n",
            "Iterācija nr. 2\n"
          ],
          "name": "stdout"
        }
      ]
    },
    {
      "cell_type": "markdown",
      "metadata": {
        "id": "NEnYx5tMp17I",
        "colab_type": "text"
      },
      "source": [
        "### Funkcijas"
      ]
    },
    {
      "cell_type": "code",
      "metadata": {
        "id": "6jS2Ai-fp37Q",
        "colab_type": "code",
        "outputId": "ca52933e-6c78-49d6-936b-ca02ca0ef695",
        "colab": {
          "base_uri": "https://localhost:8080/",
          "height": 158
        }
      },
      "source": [
        "def do_something(x, a=1):\n",
        "  \"\"\"pieskaitam a pie x. Ja a nav norādīts, tad būs 1\"\"\"\n",
        "  y = x+a\n",
        "  return y # šeit f-ja pārtrauc darboties. ja sasniedz beigas bez 'return', tad atgriež None\n",
        "\n",
        "print(do_something(1))  # darbojas noklusētais parametrs\n",
        "print(do_something(1,2)) # darbojas īpaši norādītais a\n",
        "print(do_something(a=1, x=2)) # ja parametrus sauc vārdā, tad secība nav svarīga\n",
        "help(do_something)"
      ],
      "execution_count": 0,
      "outputs": [
        {
          "output_type": "stream",
          "text": [
            "2\n",
            "3\n",
            "3\n",
            "Help on function do_something in module __main__:\n",
            "\n",
            "do_something(x, a=1)\n",
            "    pieskaitam a pie x. Ja a nav norādīts, tad būs 1\n",
            "\n"
          ],
          "name": "stdout"
        }
      ]
    },
    {
      "cell_type": "markdown",
      "metadata": {
        "id": "PZW2YS0Gqo7M",
        "colab_type": "text"
      },
      "source": [
        "Mainīgo tvērums (*scope*)"
      ]
    },
    {
      "cell_type": "code",
      "metadata": {
        "id": "BQxOV_EsqntE",
        "colab_type": "code",
        "outputId": "264617af-01ba-4fe2-ec6b-983d3625db70",
        "colab": {
          "base_uri": "https://localhost:8080/",
          "height": 35
        }
      },
      "source": [
        "x = 1\n",
        "def do_something():\n",
        "  x = 2  # ja izveidojam jaunu mainīgo, tad tas ir jauns\n",
        "do_something()\n",
        "print(x) "
      ],
      "execution_count": 0,
      "outputs": [
        {
          "output_type": "stream",
          "text": [
            "1\n"
          ],
          "name": "stdout"
        }
      ]
    },
    {
      "cell_type": "code",
      "metadata": {
        "id": "sQCINoQhq6Fo",
        "colab_type": "code",
        "outputId": "fcddfc5d-2e90-4831-b304-39115b3d739d",
        "colab": {
          "base_uri": "https://localhost:8080/",
          "height": 52
        }
      },
      "source": [
        "x = 1\n",
        "def do_something():\n",
        "  print(f'x1 = {x}') # bet mēs varam *lasīt* globālo mainīgo, ja gribam\n",
        "  \n",
        "do_something()\n",
        "print(x)\n"
      ],
      "execution_count": 0,
      "outputs": [
        {
          "output_type": "stream",
          "text": [
            "x1 = 1\n",
            "1\n"
          ],
          "name": "stdout"
        }
      ]
    },
    {
      "cell_type": "code",
      "metadata": {
        "id": "cnrBH0vDqxGo",
        "colab_type": "code",
        "outputId": "25bb353a-3635-4e70-a994-8760780cd206",
        "colab": {
          "base_uri": "https://localhost:8080/",
          "height": 35
        }
      },
      "source": [
        "x = 1\n",
        "def do_something():\n",
        "  global x  # ar šo mēs pasakam ka jā, mēs gribēsim šajā kontekstā mainīt x\n",
        "  def dosomething2():\n",
        "#     print('no dosomething2 :',x)\n",
        "    x = 3\n",
        "  x = 2\n",
        "  dosomething2()\n",
        "do_something()\n",
        "print(x)\n"
      ],
      "execution_count": 0,
      "outputs": [
        {
          "output_type": "stream",
          "text": [
            "2\n"
          ],
          "name": "stdout"
        }
      ]
    },
    {
      "cell_type": "markdown",
      "metadata": {
        "id": "BXn7OSkbrlRs",
        "colab_type": "text"
      },
      "source": [
        "### if"
      ]
    },
    {
      "cell_type": "code",
      "metadata": {
        "id": "R6bAdL9TrqFg",
        "colab_type": "code",
        "outputId": "75cc7739-d059-4441-b402-488167d4470d",
        "colab": {
          "base_uri": "https://localhost:8080/",
          "height": 35
        }
      },
      "source": [
        "punkti = 66\n",
        "if punkti > 90:\n",
        "\tprint('labi')\n",
        "elif punkti > 0:\n",
        "\tprint('apmierinoši')\n",
        "else:\n",
        "\tprint('vāji')"
      ],
      "execution_count": 0,
      "outputs": [
        {
          "output_type": "stream",
          "text": [
            "apmierinoši\n"
          ],
          "name": "stdout"
        }
      ]
    },
    {
      "cell_type": "markdown",
      "metadata": {
        "id": "-eIC6LUsr7hI",
        "colab_type": "text"
      },
      "source": [
        "Diezgan pašsaprotami. Var lietot būla funkcijas; jāatceras par 'patiesīgumu'"
      ]
    },
    {
      "cell_type": "markdown",
      "metadata": {
        "id": "MUJrNrLAr9i0",
        "colab_type": "text"
      },
      "source": [
        "### for"
      ]
    },
    {
      "cell_type": "markdown",
      "metadata": {
        "id": "q4Ma4lEor_QM",
        "colab_type": "text"
      },
      "source": [
        "Primārais cikla operators. Noklusētais pielietojums - iterācija pa sarakstu, nevis pa masīva indeksiem."
      ]
    },
    {
      "cell_type": "code",
      "metadata": {
        "id": "ZUu624FlsdO8",
        "colab_type": "code",
        "outputId": "95805c64-d941-4557-8435-4a3a3fe725b7",
        "colab": {
          "base_uri": "https://localhost:8080/",
          "height": 156
        }
      },
      "source": [
        "for number in [2,3,5,8,13]:\n",
        "\tprint(number)\n",
        "\n",
        "animals = {'cat','dog','bird'}\n",
        "for nr, a in enumerate(animals):  # enumerate atgriež kortežus (numurs, vērtība).\n",
        "\tprint(nr, a)"
      ],
      "execution_count": 0,
      "outputs": [
        {
          "output_type": "stream",
          "text": [
            "2\n",
            "3\n",
            "5\n",
            "8\n",
            "13\n",
            "0 cat\n",
            "1 bird\n",
            "2 dog\n"
          ],
          "name": "stdout"
        }
      ]
    },
    {
      "cell_type": "code",
      "metadata": {
        "id": "JRPuyHM0tIpE",
        "colab_type": "code",
        "outputId": "97dec950-5396-4989-edc3-07e88b0ccb3b",
        "colab": {
          "base_uri": "https://localhost:8080/",
          "height": 70
        }
      },
      "source": [
        "for number in range(10,20): # iterējam no 0 līdz 20.  range() ir 'ģenerators' - saraksts, kas tiek ģenerēts 'on-demand'\n",
        "  if number == 17:\n",
        "    break\n",
        "  if number % 2 == 0:\n",
        "    continue\n",
        "  print(number)"
      ],
      "execution_count": 0,
      "outputs": [
        {
          "output_type": "stream",
          "text": [
            "11\n",
            "13\n",
            "15\n"
          ],
          "name": "stdout"
        }
      ]
    },
    {
      "cell_type": "markdown",
      "metadata": {
        "id": "e9wEfvTAtdWE",
        "colab_type": "text"
      },
      "source": [
        "Kā iterēt pa vārdnīcām"
      ]
    },
    {
      "cell_type": "code",
      "metadata": {
        "id": "D9M0s_IYtX-U",
        "colab_type": "code",
        "outputId": "84810bc7-50f8-4898-ee62-0b4ba5df78e9",
        "colab": {
          "base_uri": "https://localhost:8080/",
          "height": 173
        }
      },
      "source": [
        "d = {'a':1,'b':2,'c':3}\n",
        "for k in d.keys():\n",
        "\tprint(k)\n",
        "for v in d.values():\n",
        "\tprint(v)\n",
        "for k, v in d.items():\n",
        "\tprint(k,v)"
      ],
      "execution_count": 0,
      "outputs": [
        {
          "output_type": "stream",
          "text": [
            "a\n",
            "b\n",
            "c\n",
            "1\n",
            "2\n",
            "3\n",
            "a 1\n",
            "b 2\n",
            "c 3\n"
          ],
          "name": "stdout"
        }
      ]
    },
    {
      "cell_type": "markdown",
      "metadata": {
        "id": "_8ZQXTArtivY",
        "colab_type": "text"
      },
      "source": [
        "**Iterācijas laikā nedrīkst mainīt struktūru, pa kuru iterē!**\n",
        "Ja vajag modificēt attiecīgo sarakstu, tad jāveido kopija, vai pagaidu saraksts ar 'izmetamajiem'\n",
        "\n",
        "Vēl ir **while** cikls, kuru gan lieto retāk:"
      ]
    },
    {
      "cell_type": "code",
      "metadata": {
        "id": "VG6khYOftyUQ",
        "colab_type": "code",
        "colab": {}
      },
      "source": [
        "while 'laime' not in result:\n",
        "\tmeklēt_laimi()"
      ],
      "execution_count": 0,
      "outputs": []
    },
    {
      "cell_type": "markdown",
      "metadata": {
        "id": "ml-_OVTwt-Wk",
        "colab_type": "text"
      },
      "source": [
        "### List comprehension"
      ]
    },
    {
      "cell_type": "markdown",
      "metadata": {
        "id": "Bd8nrrJfuAZ0",
        "colab_type": "text"
      },
      "source": [
        "Kompakts veids, kā pārveidot sarakstus\n",
        "\n",
        "`new_list = [ f(i) for i in old_list]`\n",
        "\n",
        "`entities = [Entity(line) for line in file]`\n",
        "\n",
        "`pozitiivie = [x for x in list if x > 0]`"
      ]
    },
    {
      "cell_type": "code",
      "metadata": {
        "id": "1SrmsPstuLnA",
        "colab_type": "code",
        "outputId": "a0f6f4a5-f27b-44e1-db59-ebce7dad2fc1",
        "colab": {
          "base_uri": "https://localhost:8080/",
          "height": 52
        }
      },
      "source": [
        "dati = [1,2,3,4,5]\n",
        "print([x+1 for x in dati])\n",
        "print(' + '.join([str(x) for x in dati if x % 2 == 1]))\n"
      ],
      "execution_count": 0,
      "outputs": [
        {
          "output_type": "stream",
          "text": [
            "[2, 3, 4, 5, 6]\n",
            "1 + 3 + 5\n"
          ],
          "name": "stdout"
        }
      ]
    },
    {
      "cell_type": "markdown",
      "metadata": {
        "id": "RviMsadLuyrA",
        "colab_type": "text"
      },
      "source": [
        "## Klases un OOP"
      ]
    },
    {
      "cell_type": "code",
      "metadata": {
        "id": "XaR_4e7swnRg",
        "colab_type": "code",
        "colab": {}
      },
      "source": [
        "class Document(object):\n",
        "\tdef __init__(self, filename):\n",
        "\t\tself.filename = filename # klašu mainīgie self.something principā ir vārdnīcas elementi - līdzīgi kā JavaScript\n",
        "\tdef open(self):\n",
        "\t\tdo_something(self.filename)\n",
        "d = Document('x.txt')\n",
        "d.open() "
      ],
      "execution_count": 0,
      "outputs": []
    },
    {
      "cell_type": "code",
      "metadata": {
        "id": "XOCfsBrRwqX8",
        "colab_type": "code",
        "colab": {}
      },
      "source": [
        "class FancyDocument(Document):\n",
        "\tdef open(self):\n",
        "\t\tprint('Opening ', filename)\n",
        "\t\tdo_something(self.filename)\n",
        "\n",
        "d = FancyDocument('x.txt')\n",
        "d.open() "
      ],
      "execution_count": 0,
      "outputs": []
    },
    {
      "cell_type": "markdown",
      "metadata": {
        "id": "2ADAePJ8vMIs",
        "colab_type": "text"
      },
      "source": [
        "## Moduļi un import\n",
        "\n",
        "Svešus moduļus importē ar `import`\n",
        "\n",
        "Savējos arī (pēc noklusējuma meklē tai pašā mapē)\n",
        "\n",
        "Nestandarta moduļus jāinstalē (parasti ar `pip` programmu)\n",
        " - Python principā ir `batteries included`, vairums vajadzīgā ir iekļauts\n",
        " - colab ir sainstalētas papildus visas vajadzīgās mašīnmācīšanās lietas\n",
        " - ārpus colab skat https://docs.python.org/3/tutorial/venv.html"
      ]
    },
    {
      "cell_type": "markdown",
      "metadata": {
        "id": "508l0_VXUUhQ",
        "colab_type": "text"
      },
      "source": [
        "### Kā darbojas 'programmas'"
      ]
    },
    {
      "cell_type": "code",
      "metadata": {
        "id": "z7vbelivUajM",
        "colab_type": "code",
        "outputId": "58dd0598-4a02-450d-e432-e2ce70489193",
        "colab": {
          "base_uri": "https://localhost:8080/",
          "height": 52
        }
      },
      "source": [
        "def main():\n",
        "    print('Hello, world!')\n",
        "   \n",
        "print('something')  # šis izpildīsies uzreiz, ja importēs šo moduli\n",
        "\n",
        "if __name__ == \"__main__\":\n",
        "    main()  # šis izpildīsies tikai tad, ja laiž tieši šo moduli; ja importē, tad ne"
      ],
      "execution_count": 0,
      "outputs": [
        {
          "output_type": "stream",
          "text": [
            "something\n",
            "Hello, world!\n"
          ],
          "name": "stdout"
        }
      ]
    },
    {
      "cell_type": "markdown",
      "metadata": {
        "id": "2rm3amFKwNXs",
        "colab_type": "text"
      },
      "source": [
        "## Failu I/O"
      ]
    },
    {
      "cell_type": "code",
      "metadata": {
        "id": "g-B8ICk1wRmA",
        "colab_type": "code",
        "colab": {}
      },
      "source": [
        "with open('x.txt') as f:  # \n",
        "\tfor line in f:\n",
        "\t\t# process line\n",
        "    pass\n",
        "\n",
        "with open('x.txt', 'w') as f:\n",
        "\tf.write('test')"
      ],
      "execution_count": 0,
      "outputs": []
    },
    {
      "cell_type": "code",
      "metadata": {
        "id": "4G5D4nTcwaBE",
        "colab_type": "code",
        "colab": {}
      },
      "source": [
        "import json\n",
        "with open('x.json') as f:\n",
        "\tdata = json.load(f)\n",
        "  \n",
        "with open('y.json', 'w') as f:\n",
        "\tjson.dump(data, f, ensure_ascii=False, indent=2)\n",
        "print(json.dumps(data))\n"
      ],
      "execution_count": 0,
      "outputs": []
    },
    {
      "cell_type": "markdown",
      "metadata": {
        "id": "BWJTlymMXrhY",
        "colab_type": "text"
      },
      "source": [
        "# Colab (un jupyter) īpatnības\n"
      ]
    },
    {
      "cell_type": "markdown",
      "metadata": {
        "id": "Wk-zgpT-ZpAo",
        "colab_type": "text"
      },
      "source": [
        "- šai lapai ir piesaistīts 'kernelis' / runtime\n",
        "  - python interpretatora instance ar iekšēju stāvokli, mainīgo vērtībām, importētām bibliotēkām, utt\n",
        "  - ... kernelis var 'pazust', restartēties, utt; saglabāts tiek kods+teksts, bet ne starpvērtības\n",
        "- šūnas var laist patvaļīgā secībā un vairākas reizes. Tas reizēm ir bīstami.\n",
        "\n",
        "## Kā novērst biežākās problēmas\n",
        "- Testējam - pamēģinam restartēt kerneli un palaist visas šūnas secīgi, vai viss notiek ok?\n",
        "- Strukturējam kodu funkcijās vai klasēs un lietojam tās\n",
        "- globālos mainīgos lietojam tikai vienam mērķim"
      ]
    },
    {
      "cell_type": "code",
      "metadata": {
        "id": "cVl_ZD3gYtg0",
        "colab_type": "code",
        "colab": {}
      },
      "source": [
        "dati = 2"
      ],
      "execution_count": 0,
      "outputs": []
    },
    {
      "cell_type": "code",
      "metadata": {
        "id": "deDrb0V0Yw9I",
        "colab_type": "code",
        "outputId": "17429722-7f14-45d2-9b40-02868c747f8c",
        "colab": {
          "base_uri": "https://localhost:8080/",
          "height": 35
        }
      },
      "source": [
        "dati2 = dati + 2\n",
        "dati2 = range(dati2)\n",
        "print(dati2)"
      ],
      "execution_count": 0,
      "outputs": [
        {
          "output_type": "stream",
          "text": [
            "range(0, 4)\n"
          ],
          "name": "stdout"
        }
      ]
    }
  ]
}