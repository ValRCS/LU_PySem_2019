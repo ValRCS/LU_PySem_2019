{
 "cells": [
  {
   "cell_type": "code",
   "execution_count": null,
   "metadata": {},
   "outputs": [],
   "source": [
    "# Exercise #1 \n",
    "# Find the most common words in our data from the following URL\n",
    "# \"https://lv.wikipedia.org/w/index.php?title=Rīga&action=raw\"\n",
    "# words are seperated by whitespace\n",
    "#"
   ]
  },
  {
   "cell_type": "code",
   "execution_count": null,
   "metadata": {},
   "outputs": [],
   "source": [
    "# Exercise # 2 (alternative)\n",
    "# create a X-mas tree function for any size tree\n",
    "def createTree(size = 5):\n",
    "    # write your code"
   ]
  },
  {
   "cell_type": "code",
   "execution_count": null,
   "metadata": {},
   "outputs": [],
   "source": [
    "def printTree(size):\n",
    "    if (size-1)%2 == 0:\n",
    "        j = int((size-1)/2)\n",
    "    else:\n",
    "        print(\"Your input is an even number,\")\n",
    "        print(\"the program expects a odd number!\")\n",
    "        return 0\n",
    "    for i in range(1, size+1):\n",
    "        if i%2 != 0:\n",
    "            print(j*' ' + i*'O')\n",
    "            j = j-1"
   ]
  },
  {
   "cell_type": "code",
   "execution_count": null,
   "metadata": {},
   "outputs": [],
   "source": [
    "def printDiamond(size):\n",
    "    if (size-1)%2 == 0:\n",
    "        j = int((size-1)/2)\n",
    "    else:\n",
    "        print(\"Your input is an even number,\")\n",
    "        print(\"the program expects a odd number!\")\n",
    "        return 0\n",
    "    for i in range(1, size+1):\n",
    "        if i%2 != 0:\n",
    "            print(j*' ' + i*'O')\n",
    "            j = j-1\n",
    " \n",
    "    j = 1\n",
    " \n",
    "    for k in range(size-1, 0, -1):\n",
    "        if k%2 != 0:\n",
    "            print(j*' ' + k*'O')\n",
    "            j = j + 1"
   ]
  },
  {
   "cell_type": "code",
   "execution_count": null,
   "metadata": {},
   "outputs": [],
   "source": [
    "printDiamond(17)"
   ]
  },
  {
   "cell_type": "code",
   "execution_count": null,
   "metadata": {},
   "outputs": [],
   "source": [
    "printTree(13)"
   ]
  },
  {
   "cell_type": "code",
   "execution_count": null,
   "metadata": {},
   "outputs": [],
   "source": [
    "# Exercise #3\n",
    "# Medium\n",
    "# Write a function to check if string is a palindrome\n",
    "# string reads the same from both directions level, deleveled, kayak\n",
    "# alus ari ira sula\n",
    "def isPalindrome(s):\n",
    "    '''\n",
    "    '''\n",
    "    # we could clean up the string first\n",
    "    cleaned = s.lower().strip().replace(' ','')\n",
    "    return cleaned == cleaned[::-1]"
   ]
  },
  {
   "cell_type": "code",
   "execution_count": null,
   "metadata": {
    "scrolled": true
   },
   "outputs": [],
   "source": [
    "isPalindrome(\"Alus ari ira Sula\")"
   ]
  },
  {
   "cell_type": "code",
   "execution_count": null,
   "metadata": {},
   "outputs": [],
   "source": [
    "isPalindrome(\"dafdafa dfadsfad fad\")"
   ]
  },
  {
   "cell_type": "code",
   "execution_count": null,
   "metadata": {},
   "outputs": [],
   "source": [
    "# Exercise #4\n",
    "# One liner is possible! Okay to do it a longer way\n",
    "# Hints: dir(\"mystring\") for string manipulation(might need more than one method)\n",
    "# Also remember one \"unique\" data structure we covered\n",
    "# https://docs.python.org/3/tutorial/datastructures.html#sets\n",
    "import string\n",
    "print(string.ascii_lowercase)\n",
    "def isPangram(mytext, a=string.ascii_lowercase):\n",
    "    '''\n",
    "    '''\n",
    "    print(mytext)\n",
    "    return None # here it should return True or False\n",
    "assert(isPangram(\"The quick brown fox jumps over the lazy dog\") == True)"
   ]
  },
  {
   "cell_type": "markdown",
   "metadata": {},
   "source": [
    "## Questions / Suggestions ? \n",
    "\n",
    "Pull requests welcome\n",
    "\n",
    "e-mail **valdis.s.coding at gmail.com**"
   ]
  }
 ],
 "metadata": {
  "kernelspec": {
   "display_name": "Python 3",
   "language": "python",
   "name": "python3"
  },
  "language_info": {
   "codemirror_mode": {
    "name": "ipython",
    "version": 3
   },
   "file_extension": ".py",
   "mimetype": "text/x-python",
   "name": "python",
   "nbconvert_exporter": "python",
   "pygments_lexer": "ipython3",
   "version": "3.7.3"
  }
 },
 "nbformat": 4,
 "nbformat_minor": 2
}
