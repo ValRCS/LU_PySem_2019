{
 "cells": [
  {
   "cell_type": "markdown",
   "metadata": {},
   "source": [
    "# Python Dictionaries\n"
   ]
  },
  {
   "cell_type": "markdown",
   "metadata": {},
   "source": [
    "## Dictionaries\n",
    "\n",
    "* Collection of Key - Value pairs\n",
    "* also known as associative array\n",
    "* unordered\n",
    "* keys unique in one dictionary\n",
    "* storing, extracting\n"
   ]
  },
  {
   "cell_type": "code",
   "execution_count": 1,
   "metadata": {},
   "outputs": [
    {
     "data": {
      "text/plain": [
       "0"
      ]
     },
     "execution_count": 1,
     "metadata": {},
     "output_type": "execute_result"
    }
   ],
   "source": [
    "emptyd = {}\n",
    "len(emptyd)"
   ]
  },
  {
   "cell_type": "code",
   "execution_count": 2,
   "metadata": {},
   "outputs": [
    {
     "data": {
      "text/plain": [
       "dict"
      ]
     },
     "execution_count": 2,
     "metadata": {},
     "output_type": "execute_result"
    }
   ],
   "source": [
    "type(emptyd)"
   ]
  },
  {
   "cell_type": "code",
   "execution_count": 3,
   "metadata": {},
   "outputs": [
    {
     "name": "stdout",
     "output_type": "stream",
     "text": [
      "{'jack': 4098, 'sape': 4139}\n",
      "dict_keys(['jack', 'sape', 'guido'])\n",
      "dict_values([4098, 4139, 4127])\n"
     ]
    }
   ],
   "source": [
    "tel = {'jack': 4098, 'sape': 4139}\n",
    "print(tel)\n",
    "tel['guido'] = 4127\n",
    "print(tel.keys())\n",
    "print(tel.values())"
   ]
  },
  {
   "cell_type": "code",
   "execution_count": 5,
   "metadata": {},
   "outputs": [
    {
     "data": {
      "text/plain": [
       "{'jack': 4098, 'sape': 4139, 'guido': 4127, 'valdis': 4127}"
      ]
     },
     "execution_count": 5,
     "metadata": {},
     "output_type": "execute_result"
    }
   ],
   "source": [
    "# add key 'valdis' with value 4127 to our tel dictionary\n",
    "tel['valdis'] = 4127\n",
    "tel"
   ]
  },
  {
   "cell_type": "code",
   "execution_count": 6,
   "metadata": {},
   "outputs": [
    {
     "data": {
      "text/plain": [
       "4098"
      ]
     },
     "execution_count": 6,
     "metadata": {},
     "output_type": "execute_result"
    }
   ],
   "source": [
    "#get value from key in dictionary\n",
    "# very fast even in large dictionaries! O(1)\n",
    "tel['jack']"
   ]
  },
  {
   "cell_type": "code",
   "execution_count": 9,
   "metadata": {},
   "outputs": [],
   "source": [
    "tel['sape'] = 54545"
   ]
  },
  {
   "cell_type": "code",
   "execution_count": 10,
   "metadata": {},
   "outputs": [],
   "source": [
    "# remove key value pair\n",
    "del tel['sape']"
   ]
  },
  {
   "cell_type": "code",
   "execution_count": 11,
   "metadata": {},
   "outputs": [
    {
     "ename": "KeyError",
     "evalue": "'sape'",
     "output_type": "error",
     "traceback": [
      "\u001b[1;31m---------------------------------------------------------------------------\u001b[0m",
      "\u001b[1;31mKeyError\u001b[0m                                  Traceback (most recent call last)",
      "\u001b[1;32m<ipython-input-11-275c97422568>\u001b[0m in \u001b[0;36m<module>\u001b[1;34m\u001b[0m\n\u001b[1;32m----> 1\u001b[1;33m \u001b[0mtel\u001b[0m\u001b[1;33m[\u001b[0m\u001b[1;34m'sape'\u001b[0m\u001b[1;33m]\u001b[0m\u001b[1;33m\u001b[0m\u001b[1;33m\u001b[0m\u001b[0m\n\u001b[0m",
      "\u001b[1;31mKeyError\u001b[0m: 'sape'"
     ]
    }
   ],
   "source": [
    "tel['sape']"
   ]
  },
  {
   "cell_type": "code",
   "execution_count": 12,
   "metadata": {},
   "outputs": [
    {
     "data": {
      "text/plain": [
       "True"
      ]
     },
     "execution_count": 12,
     "metadata": {},
     "output_type": "execute_result"
    }
   ],
   "source": [
    "'valdis' in tel.keys()"
   ]
  },
  {
   "cell_type": "code",
   "execution_count": 13,
   "metadata": {},
   "outputs": [
    {
     "data": {
      "text/plain": [
       "False"
      ]
     },
     "execution_count": 13,
     "metadata": {},
     "output_type": "execute_result"
    }
   ],
   "source": [
    "'karlis' in tel.keys()"
   ]
  },
  {
   "cell_type": "code",
   "execution_count": 14,
   "metadata": {},
   "outputs": [
    {
     "data": {
      "text/plain": [
       "True"
      ]
     },
     "execution_count": 14,
     "metadata": {},
     "output_type": "execute_result"
    }
   ],
   "source": [
    "# this will be slower going through all the key:value pairs\n",
    "4127 in tel.values()"
   ]
  },
  {
   "cell_type": "code",
   "execution_count": 15,
   "metadata": {},
   "outputs": [
    {
     "data": {
      "text/plain": [
       "dict_values"
      ]
     },
     "execution_count": 15,
     "metadata": {},
     "output_type": "execute_result"
    }
   ],
   "source": [
    "type(tel.values())"
   ]
  },
  {
   "cell_type": "code",
   "execution_count": 16,
   "metadata": {},
   "outputs": [
    {
     "data": {
      "text/plain": [
       "['__class__',\n",
       " '__delattr__',\n",
       " '__dir__',\n",
       " '__doc__',\n",
       " '__eq__',\n",
       " '__format__',\n",
       " '__ge__',\n",
       " '__getattribute__',\n",
       " '__gt__',\n",
       " '__hash__',\n",
       " '__init__',\n",
       " '__init_subclass__',\n",
       " '__iter__',\n",
       " '__le__',\n",
       " '__len__',\n",
       " '__lt__',\n",
       " '__ne__',\n",
       " '__new__',\n",
       " '__reduce__',\n",
       " '__reduce_ex__',\n",
       " '__repr__',\n",
       " '__setattr__',\n",
       " '__sizeof__',\n",
       " '__str__',\n",
       " '__subclasshook__']"
      ]
     },
     "execution_count": 16,
     "metadata": {},
     "output_type": "execute_result"
    }
   ],
   "source": [
    "dir(tel.values())"
   ]
  },
  {
   "cell_type": "code",
   "execution_count": null,
   "metadata": {},
   "outputs": [],
   "source": []
  },
  {
   "cell_type": "code",
   "execution_count": 17,
   "metadata": {},
   "outputs": [],
   "source": [
    "tel['irv'] = 4127"
   ]
  },
  {
   "cell_type": "code",
   "execution_count": 18,
   "metadata": {},
   "outputs": [
    {
     "data": {
      "text/plain": [
       "{'jack': 4098, 'guido': 4127, 'valdis': 4127, 'irv': 4127}"
      ]
     },
     "execution_count": 18,
     "metadata": {},
     "output_type": "execute_result"
    }
   ],
   "source": [
    "tel"
   ]
  },
  {
   "cell_type": "code",
   "execution_count": 19,
   "metadata": {},
   "outputs": [
    {
     "data": {
      "text/plain": [
       "['jack', 'guido', 'valdis', 'irv']"
      ]
     },
     "execution_count": 19,
     "metadata": {},
     "output_type": "execute_result"
    }
   ],
   "source": [
    "list(tel.keys())"
   ]
  },
  {
   "cell_type": "code",
   "execution_count": 20,
   "metadata": {},
   "outputs": [
    {
     "data": {
      "text/plain": [
       "[4098, 4127, 4127, 4127]"
      ]
     },
     "execution_count": 20,
     "metadata": {},
     "output_type": "execute_result"
    }
   ],
   "source": [
    "list(tel.values())"
   ]
  },
  {
   "cell_type": "code",
   "execution_count": 21,
   "metadata": {},
   "outputs": [
    {
     "data": {
      "text/plain": [
       "[66, 7, 5, 1]"
      ]
     },
     "execution_count": 21,
     "metadata": {},
     "output_type": "execute_result"
    }
   ],
   "source": [
    "sorted([5,7,1,66], reverse=True)"
   ]
  },
  {
   "cell_type": "code",
   "execution_count": null,
   "metadata": {},
   "outputs": [],
   "source": [
    "?sorted"
   ]
  },
  {
   "cell_type": "code",
   "execution_count": 22,
   "metadata": {},
   "outputs": [
    {
     "data": {
      "text/plain": [
       "dict_keys(['jack', 'guido', 'valdis', 'irv'])"
      ]
     },
     "execution_count": 22,
     "metadata": {},
     "output_type": "execute_result"
    }
   ],
   "source": [
    "tel.keys()"
   ]
  },
  {
   "cell_type": "code",
   "execution_count": 23,
   "metadata": {},
   "outputs": [
    {
     "data": {
      "text/plain": [
       "['guido', 'irv', 'jack', 'valdis']"
      ]
     },
     "execution_count": 23,
     "metadata": {},
     "output_type": "execute_result"
    }
   ],
   "source": [
    "sorted(tel.keys())"
   ]
  },
  {
   "cell_type": "code",
   "execution_count": 24,
   "metadata": {},
   "outputs": [
    {
     "data": {
      "text/plain": [
       "True"
      ]
     },
     "execution_count": 24,
     "metadata": {},
     "output_type": "execute_result"
    }
   ],
   "source": [
    "'guido' in tel"
   ]
  },
  {
   "cell_type": "code",
   "execution_count": 25,
   "metadata": {},
   "outputs": [
    {
     "data": {
      "text/plain": [
       "False"
      ]
     },
     "execution_count": 25,
     "metadata": {},
     "output_type": "execute_result"
    }
   ],
   "source": [
    "'Valdis' in tel"
   ]
  },
  {
   "cell_type": "code",
   "execution_count": 26,
   "metadata": {},
   "outputs": [
    {
     "data": {
      "text/plain": [
       "True"
      ]
     },
     "execution_count": 26,
     "metadata": {},
     "output_type": "execute_result"
    }
   ],
   "source": [
    "'valdis' in tel"
   ]
  },
  {
   "cell_type": "code",
   "execution_count": 28,
   "metadata": {
    "scrolled": true
   },
   "outputs": [
    {
     "name": "stdout",
     "output_type": "stream",
     "text": [
      "{'sape': 4139, 'guido': 4127, 'jack': 4098}\n"
     ]
    }
   ],
   "source": [
    "# alternative way of creating a dictionary using tuples ()\n",
    "t2=dict([('sape', 4139), ('guido', 4127), ('jack', 4098)])\n",
    "print(t2)"
   ]
  },
  {
   "cell_type": "code",
   "execution_count": 29,
   "metadata": {},
   "outputs": [
    {
     "data": {
      "text/plain": [
       "['Valdis', 'valdis', 'Antons', 'Anna', 'Kārlis', 'karlis']"
      ]
     },
     "execution_count": 29,
     "metadata": {},
     "output_type": "execute_result"
    }
   ],
   "source": [
    "names = ['Valdis', 'valdis', 'Antons', 'Anna', 'Kārlis', 'karlis']\n",
    "names"
   ]
  },
  {
   "cell_type": "code",
   "execution_count": null,
   "metadata": {},
   "outputs": [],
   "source": [
    "sorted(names)"
   ]
  },
  {
   "cell_type": "markdown",
   "metadata": {},
   "source": [
    "* `globals()` always returns the dictionary of the module namespace\n",
    "* `locals()` always returns a dictionary of the current namespace\n",
    "* `vars()` returns either a dictionary of the current namespace (if called with no argument) or the dictionary of the argument."
   ]
  },
  {
   "cell_type": "code",
   "execution_count": 30,
   "metadata": {},
   "outputs": [
    {
     "data": {
      "text/plain": [
       "{'__name__': '__main__',\n",
       " '__doc__': 'Automatically created module for IPython interactive environment',\n",
       " '__package__': None,\n",
       " '__loader__': None,\n",
       " '__spec__': None,\n",
       " '__builtin__': <module 'builtins' (built-in)>,\n",
       " '__builtins__': <module 'builtins' (built-in)>,\n",
       " '_ih': ['',\n",
       "  'emptyd = {}\\nlen(emptyd)',\n",
       "  'type(emptyd)',\n",
       "  \"tel = {'jack': 4098, 'sape': 4139}\\nprint(tel)\\ntel['guido'] = 4127\\nprint(tel.keys())\\nprint(tel.values())\",\n",
       "  \"tel['valdis'] = 4127\\ntel\",\n",
       "  \"# add key 'valdis' with value 4127 to our tel dictionary\\ntel['valdis'] = 4127\\ntel\",\n",
       "  \"tel['jack']\",\n",
       "  \"del tel['sape']\",\n",
       "  \"# remove key value pair\\ndel tel['sape']\",\n",
       "  \"tel['sape'] = 54545\",\n",
       "  \"# remove key value pair\\ndel tel['sape']\",\n",
       "  \"tel['sape']\",\n",
       "  \"'valdis' in tel.keys()\",\n",
       "  \"'karlis' in tel.keys()\",\n",
       "  '# this will be slower going through all the key:value pairs\\n4127 in tel.values()',\n",
       "  'type(tel.values())',\n",
       "  'dir(tel.values())',\n",
       "  \"tel['irv'] = 4127\",\n",
       "  'tel',\n",
       "  'list(tel.keys())',\n",
       "  'list(tel.values())',\n",
       "  'sorted([5,7,1,66], reverse=True)',\n",
       "  'tel.keys()',\n",
       "  'sorted(tel.keys())',\n",
       "  \"'guido' in tel\",\n",
       "  \"'Valdis' in tel\",\n",
       "  \"'valdis' in tel\",\n",
       "  \"t2=dict([('sape', 4139), ('guido', 4127), ('jack', 4098)])\\nprint(t2)\",\n",
       "  \"# alternative way of creating a dictionary using tuples ()\\nt2=dict([('sape', 4139), ('guido', 4127), ('jack', 4098)])\\nprint(t2)\",\n",
       "  \"names = ['Valdis', 'valdis', 'Antons', 'Anna', 'Kārlis', 'karlis']\\nnames\",\n",
       "  'globals()'],\n",
       " '_oh': {1: 0,\n",
       "  2: dict,\n",
       "  4: {'jack': 4098, 'guido': 4127, 'valdis': 4127, 'irv': 4127},\n",
       "  5: {'jack': 4098, 'guido': 4127, 'valdis': 4127, 'irv': 4127},\n",
       "  6: 4098,\n",
       "  12: True,\n",
       "  13: False,\n",
       "  14: True,\n",
       "  15: dict_values,\n",
       "  16: ['__class__',\n",
       "   '__delattr__',\n",
       "   '__dir__',\n",
       "   '__doc__',\n",
       "   '__eq__',\n",
       "   '__format__',\n",
       "   '__ge__',\n",
       "   '__getattribute__',\n",
       "   '__gt__',\n",
       "   '__hash__',\n",
       "   '__init__',\n",
       "   '__init_subclass__',\n",
       "   '__iter__',\n",
       "   '__le__',\n",
       "   '__len__',\n",
       "   '__lt__',\n",
       "   '__ne__',\n",
       "   '__new__',\n",
       "   '__reduce__',\n",
       "   '__reduce_ex__',\n",
       "   '__repr__',\n",
       "   '__setattr__',\n",
       "   '__sizeof__',\n",
       "   '__str__',\n",
       "   '__subclasshook__'],\n",
       "  18: {'jack': 4098, 'guido': 4127, 'valdis': 4127, 'irv': 4127},\n",
       "  19: ['jack', 'guido', 'valdis', 'irv'],\n",
       "  20: [4098, 4127, 4127, 4127],\n",
       "  21: [66, 7, 5, 1],\n",
       "  22: dict_keys(['jack', 'guido', 'valdis', 'irv']),\n",
       "  23: ['guido', 'irv', 'jack', 'valdis'],\n",
       "  24: True,\n",
       "  25: False,\n",
       "  26: True,\n",
       "  29: ['Valdis', 'valdis', 'Antons', 'Anna', 'Kārlis', 'karlis']},\n",
       " '_dh': ['C:\\\\Users\\\\val-p1\\\\Github\\\\RCS_Data_Analysis_Python_2019_July'],\n",
       " 'In': ['',\n",
       "  'emptyd = {}\\nlen(emptyd)',\n",
       "  'type(emptyd)',\n",
       "  \"tel = {'jack': 4098, 'sape': 4139}\\nprint(tel)\\ntel['guido'] = 4127\\nprint(tel.keys())\\nprint(tel.values())\",\n",
       "  \"tel['valdis'] = 4127\\ntel\",\n",
       "  \"# add key 'valdis' with value 4127 to our tel dictionary\\ntel['valdis'] = 4127\\ntel\",\n",
       "  \"tel['jack']\",\n",
       "  \"del tel['sape']\",\n",
       "  \"# remove key value pair\\ndel tel['sape']\",\n",
       "  \"tel['sape'] = 54545\",\n",
       "  \"# remove key value pair\\ndel tel['sape']\",\n",
       "  \"tel['sape']\",\n",
       "  \"'valdis' in tel.keys()\",\n",
       "  \"'karlis' in tel.keys()\",\n",
       "  '# this will be slower going through all the key:value pairs\\n4127 in tel.values()',\n",
       "  'type(tel.values())',\n",
       "  'dir(tel.values())',\n",
       "  \"tel['irv'] = 4127\",\n",
       "  'tel',\n",
       "  'list(tel.keys())',\n",
       "  'list(tel.values())',\n",
       "  'sorted([5,7,1,66], reverse=True)',\n",
       "  'tel.keys()',\n",
       "  'sorted(tel.keys())',\n",
       "  \"'guido' in tel\",\n",
       "  \"'Valdis' in tel\",\n",
       "  \"'valdis' in tel\",\n",
       "  \"t2=dict([('sape', 4139), ('guido', 4127), ('jack', 4098)])\\nprint(t2)\",\n",
       "  \"# alternative way of creating a dictionary using tuples ()\\nt2=dict([('sape', 4139), ('guido', 4127), ('jack', 4098)])\\nprint(t2)\",\n",
       "  \"names = ['Valdis', 'valdis', 'Antons', 'Anna', 'Kārlis', 'karlis']\\nnames\",\n",
       "  'globals()'],\n",
       " 'Out': {1: 0,\n",
       "  2: dict,\n",
       "  4: {'jack': 4098, 'guido': 4127, 'valdis': 4127, 'irv': 4127},\n",
       "  5: {'jack': 4098, 'guido': 4127, 'valdis': 4127, 'irv': 4127},\n",
       "  6: 4098,\n",
       "  12: True,\n",
       "  13: False,\n",
       "  14: True,\n",
       "  15: dict_values,\n",
       "  16: ['__class__',\n",
       "   '__delattr__',\n",
       "   '__dir__',\n",
       "   '__doc__',\n",
       "   '__eq__',\n",
       "   '__format__',\n",
       "   '__ge__',\n",
       "   '__getattribute__',\n",
       "   '__gt__',\n",
       "   '__hash__',\n",
       "   '__init__',\n",
       "   '__init_subclass__',\n",
       "   '__iter__',\n",
       "   '__le__',\n",
       "   '__len__',\n",
       "   '__lt__',\n",
       "   '__ne__',\n",
       "   '__new__',\n",
       "   '__reduce__',\n",
       "   '__reduce_ex__',\n",
       "   '__repr__',\n",
       "   '__setattr__',\n",
       "   '__sizeof__',\n",
       "   '__str__',\n",
       "   '__subclasshook__'],\n",
       "  18: {'jack': 4098, 'guido': 4127, 'valdis': 4127, 'irv': 4127},\n",
       "  19: ['jack', 'guido', 'valdis', 'irv'],\n",
       "  20: [4098, 4127, 4127, 4127],\n",
       "  21: [66, 7, 5, 1],\n",
       "  22: dict_keys(['jack', 'guido', 'valdis', 'irv']),\n",
       "  23: ['guido', 'irv', 'jack', 'valdis'],\n",
       "  24: True,\n",
       "  25: False,\n",
       "  26: True,\n",
       "  29: ['Valdis', 'valdis', 'Antons', 'Anna', 'Kārlis', 'karlis']},\n",
       " 'get_ipython': <bound method InteractiveShell.get_ipython of <ipykernel.zmqshell.ZMQInteractiveShell object at 0x0000023302FD66A0>>,\n",
       " 'exit': <IPython.core.autocall.ZMQExitAutocall at 0x23303039550>,\n",
       " 'quit': <IPython.core.autocall.ZMQExitAutocall at 0x23303039550>,\n",
       " '_': ['Valdis', 'valdis', 'Antons', 'Anna', 'Kārlis', 'karlis'],\n",
       " '__': True,\n",
       " '___': False,\n",
       " '_i': \"names = ['Valdis', 'valdis', 'Antons', 'Anna', 'Kārlis', 'karlis']\\nnames\",\n",
       " '_ii': \"# alternative way of creating a dictionary using tuples ()\\nt2=dict([('sape', 4139), ('guido', 4127), ('jack', 4098)])\\nprint(t2)\",\n",
       " '_iii': \"t2=dict([('sape', 4139), ('guido', 4127), ('jack', 4098)])\\nprint(t2)\",\n",
       " '_i1': 'emptyd = {}\\nlen(emptyd)',\n",
       " 'emptyd': {},\n",
       " '_1': 0,\n",
       " '_i2': 'type(emptyd)',\n",
       " '_2': dict,\n",
       " '_i3': \"tel = {'jack': 4098, 'sape': 4139}\\nprint(tel)\\ntel['guido'] = 4127\\nprint(tel.keys())\\nprint(tel.values())\",\n",
       " 'tel': {'jack': 4098, 'guido': 4127, 'valdis': 4127, 'irv': 4127},\n",
       " '_i4': \"tel['valdis'] = 4127\\ntel\",\n",
       " '_4': {'jack': 4098, 'guido': 4127, 'valdis': 4127, 'irv': 4127},\n",
       " '_i5': \"# add key 'valdis' with value 4127 to our tel dictionary\\ntel['valdis'] = 4127\\ntel\",\n",
       " '_5': {'jack': 4098, 'guido': 4127, 'valdis': 4127, 'irv': 4127},\n",
       " '_i6': \"tel['jack']\",\n",
       " '_6': 4098,\n",
       " '_i7': \"del tel['sape']\",\n",
       " '_i8': \"# remove key value pair\\ndel tel['sape']\",\n",
       " '_i9': \"tel['sape'] = 54545\",\n",
       " '_i10': \"# remove key value pair\\ndel tel['sape']\",\n",
       " '_i11': \"tel['sape']\",\n",
       " '_i12': \"'valdis' in tel.keys()\",\n",
       " '_12': True,\n",
       " '_i13': \"'karlis' in tel.keys()\",\n",
       " '_13': False,\n",
       " '_i14': '# this will be slower going through all the key:value pairs\\n4127 in tel.values()',\n",
       " '_14': True,\n",
       " '_i15': 'type(tel.values())',\n",
       " '_15': dict_values,\n",
       " '_i16': 'dir(tel.values())',\n",
       " '_16': ['__class__',\n",
       "  '__delattr__',\n",
       "  '__dir__',\n",
       "  '__doc__',\n",
       "  '__eq__',\n",
       "  '__format__',\n",
       "  '__ge__',\n",
       "  '__getattribute__',\n",
       "  '__gt__',\n",
       "  '__hash__',\n",
       "  '__init__',\n",
       "  '__init_subclass__',\n",
       "  '__iter__',\n",
       "  '__le__',\n",
       "  '__len__',\n",
       "  '__lt__',\n",
       "  '__ne__',\n",
       "  '__new__',\n",
       "  '__reduce__',\n",
       "  '__reduce_ex__',\n",
       "  '__repr__',\n",
       "  '__setattr__',\n",
       "  '__sizeof__',\n",
       "  '__str__',\n",
       "  '__subclasshook__'],\n",
       " '_i17': \"tel['irv'] = 4127\",\n",
       " '_i18': 'tel',\n",
       " '_18': {'jack': 4098, 'guido': 4127, 'valdis': 4127, 'irv': 4127},\n",
       " '_i19': 'list(tel.keys())',\n",
       " '_19': ['jack', 'guido', 'valdis', 'irv'],\n",
       " '_i20': 'list(tel.values())',\n",
       " '_20': [4098, 4127, 4127, 4127],\n",
       " '_i21': 'sorted([5,7,1,66], reverse=True)',\n",
       " '_21': [66, 7, 5, 1],\n",
       " '_i22': 'tel.keys()',\n",
       " '_22': dict_keys(['jack', 'guido', 'valdis', 'irv']),\n",
       " '_i23': 'sorted(tel.keys())',\n",
       " '_23': ['guido', 'irv', 'jack', 'valdis'],\n",
       " '_i24': \"'guido' in tel\",\n",
       " '_24': True,\n",
       " '_i25': \"'Valdis' in tel\",\n",
       " '_25': False,\n",
       " '_i26': \"'valdis' in tel\",\n",
       " '_26': True,\n",
       " '_i27': \"t2=dict([('sape', 4139), ('guido', 4127), ('jack', 4098)])\\nprint(t2)\",\n",
       " 't2': {'sape': 4139, 'guido': 4127, 'jack': 4098},\n",
       " '_i28': \"# alternative way of creating a dictionary using tuples ()\\nt2=dict([('sape', 4139), ('guido', 4127), ('jack', 4098)])\\nprint(t2)\",\n",
       " '_i29': \"names = ['Valdis', 'valdis', 'Antons', 'Anna', 'Kārlis', 'karlis']\\nnames\",\n",
       " 'names': ['Valdis', 'valdis', 'Antons', 'Anna', 'Kārlis', 'karlis'],\n",
       " '_29': ['Valdis', 'valdis', 'Antons', 'Anna', 'Kārlis', 'karlis'],\n",
       " '_i30': 'globals()'}"
      ]
     },
     "execution_count": 30,
     "metadata": {},
     "output_type": "execute_result"
    }
   ],
   "source": [
    "globals()"
   ]
  },
  {
   "cell_type": "code",
   "execution_count": 31,
   "metadata": {},
   "outputs": [
    {
     "data": {
      "text/plain": [
       "False"
      ]
     },
     "execution_count": 31,
     "metadata": {},
     "output_type": "execute_result"
    }
   ],
   "source": [
    "'print(a,b)' in globals()['In']"
   ]
  },
  {
   "cell_type": "code",
   "execution_count": 32,
   "metadata": {},
   "outputs": [
    {
     "data": {
      "text/plain": [
       "dict_keys(['__name__', '__doc__', '__package__', '__loader__', '__spec__', '__builtin__', '__builtins__', '_ih', '_oh', '_dh', 'In', 'Out', 'get_ipython', 'exit', 'quit', '_', '__', '___', '_i', '_ii', '_iii', '_i1', 'emptyd', '_1', '_i2', '_2', '_i3', 'tel', '_i4', '_4', '_i5', '_5', '_i6', '_6', '_i7', '_i8', '_i9', '_i10', '_i11', '_i12', '_12', '_i13', '_13', '_i14', '_14', '_i15', '_15', '_i16', '_16', '_i17', '_i18', '_18', '_i19', '_19', '_i20', '_20', '_i21', '_21', '_i22', '_22', '_i23', '_23', '_i24', '_24', '_i25', '_25', '_i26', '_26', '_i27', 't2', '_i28', '_i29', 'names', '_29', '_i30', '_30', '_i31', '_31', '_i32'])"
      ]
     },
     "execution_count": 32,
     "metadata": {},
     "output_type": "execute_result"
    }
   ],
   "source": [
    "vars().keys()"
   ]
  },
  {
   "cell_type": "code",
   "execution_count": null,
   "metadata": {},
   "outputs": [],
   "source": []
  },
  {
   "cell_type": "code",
   "execution_count": 33,
   "metadata": {},
   "outputs": [
    {
     "data": {
      "text/plain": [
       "['In',\n",
       " 'Out',\n",
       " '_',\n",
       " '_1',\n",
       " '_12',\n",
       " '_13',\n",
       " '_14',\n",
       " '_15',\n",
       " '_16',\n",
       " '_18',\n",
       " '_19',\n",
       " '_2',\n",
       " '_20',\n",
       " '_21',\n",
       " '_22',\n",
       " '_23',\n",
       " '_24',\n",
       " '_25',\n",
       " '_26',\n",
       " '_29',\n",
       " '_30',\n",
       " '_31',\n",
       " '_32',\n",
       " '_4',\n",
       " '_5',\n",
       " '_6',\n",
       " '__',\n",
       " '___',\n",
       " '__builtin__',\n",
       " '__builtins__',\n",
       " '__doc__',\n",
       " '__loader__',\n",
       " '__name__',\n",
       " '__package__',\n",
       " '__spec__',\n",
       " '_dh',\n",
       " '_i',\n",
       " '_i1',\n",
       " '_i10',\n",
       " '_i11',\n",
       " '_i12',\n",
       " '_i13',\n",
       " '_i14',\n",
       " '_i15',\n",
       " '_i16',\n",
       " '_i17',\n",
       " '_i18',\n",
       " '_i19',\n",
       " '_i2',\n",
       " '_i20',\n",
       " '_i21',\n",
       " '_i22',\n",
       " '_i23',\n",
       " '_i24',\n",
       " '_i25',\n",
       " '_i26',\n",
       " '_i27',\n",
       " '_i28',\n",
       " '_i29',\n",
       " '_i3',\n",
       " '_i30',\n",
       " '_i31',\n",
       " '_i32',\n",
       " '_i33',\n",
       " '_i4',\n",
       " '_i5',\n",
       " '_i6',\n",
       " '_i7',\n",
       " '_i8',\n",
       " '_i9',\n",
       " '_ih',\n",
       " '_ii',\n",
       " '_iii',\n",
       " '_oh',\n",
       " 'emptyd',\n",
       " 'exit',\n",
       " 'get_ipython',\n",
       " 'names',\n",
       " 'quit',\n",
       " 't2',\n",
       " 'tel']"
      ]
     },
     "execution_count": 33,
     "metadata": {},
     "output_type": "execute_result"
    }
   ],
   "source": [
    "sorted(vars().keys())"
   ]
  },
  {
   "cell_type": "code",
   "execution_count": 34,
   "metadata": {},
   "outputs": [
    {
     "data": {
      "text/plain": [
       "4127"
      ]
     },
     "execution_count": 34,
     "metadata": {},
     "output_type": "execute_result"
    }
   ],
   "source": [
    "# return value of the key AND destroy the key:value\n",
    "# if key does not exist, then KeyError will appear\n",
    "tel.pop('valdis')"
   ]
  },
  {
   "cell_type": "code",
   "execution_count": 35,
   "metadata": {},
   "outputs": [
    {
     "ename": "KeyError",
     "evalue": "'valdis'",
     "output_type": "error",
     "traceback": [
      "\u001b[1;31m---------------------------------------------------------------------------\u001b[0m",
      "\u001b[1;31mKeyError\u001b[0m                                  Traceback (most recent call last)",
      "\u001b[1;32m<ipython-input-35-1b3b7a340bf8>\u001b[0m in \u001b[0;36m<module>\u001b[1;34m\u001b[0m\n\u001b[0;32m      1\u001b[0m \u001b[1;31m# return value of the key AND destroy the key:value\u001b[0m\u001b[1;33m\u001b[0m\u001b[1;33m\u001b[0m\u001b[1;33m\u001b[0m\u001b[0m\n\u001b[0;32m      2\u001b[0m \u001b[1;31m# if key does not exist, then KeyError will appear\u001b[0m\u001b[1;33m\u001b[0m\u001b[1;33m\u001b[0m\u001b[1;33m\u001b[0m\u001b[0m\n\u001b[1;32m----> 3\u001b[1;33m \u001b[0mtel\u001b[0m\u001b[1;33m.\u001b[0m\u001b[0mpop\u001b[0m\u001b[1;33m(\u001b[0m\u001b[1;34m'valdis'\u001b[0m\u001b[1;33m)\u001b[0m\u001b[1;33m\u001b[0m\u001b[1;33m\u001b[0m\u001b[0m\n\u001b[0m",
      "\u001b[1;31mKeyError\u001b[0m: 'valdis'"
     ]
    }
   ],
   "source": [
    "# return value of the key AND destroy the key:value\n",
    "# if key does not exist, then KeyError will appear\n",
    "tel.pop('valdis')"
   ]
  },
  {
   "cell_type": "code",
   "execution_count": 37,
   "metadata": {},
   "outputs": [
    {
     "data": {
      "text/plain": [
       "{'mylist': [1, 2, 6, 6, 'Badac'],\n",
       " 55: 165,\n",
       " 'innerd': {'a': 100, 'b': [1, 2, 6]}}"
      ]
     },
     "execution_count": 37,
     "metadata": {},
     "output_type": "execute_result"
    }
   ],
   "source": [
    "# we can store anything in dictionaries \n",
    "# including other dictionaries and lists\n",
    "mydict = {'mylist':[1,2,6,6,\"Badac\"], 55:165, 'innerd':{'a':100,'b':[1,2,6]}}\n",
    "mydict"
   ]
  },
  {
   "cell_type": "code",
   "execution_count": 38,
   "metadata": {},
   "outputs": [
    {
     "data": {
      "text/plain": [
       "dict_keys(['mylist', 55, 'innerd'])"
      ]
     },
     "execution_count": 38,
     "metadata": {},
     "output_type": "execute_result"
    }
   ],
   "source": [
    "mydict.keys()"
   ]
  },
  {
   "cell_type": "code",
   "execution_count": 39,
   "metadata": {},
   "outputs": [
    {
     "data": {
      "text/plain": [
       "165"
      ]
     },
     "execution_count": 39,
     "metadata": {},
     "output_type": "execute_result"
    }
   ],
   "source": [
    "# we can use numeric keys as well!\n",
    "mydict[55]"
   ]
  },
  {
   "cell_type": "code",
   "execution_count": 40,
   "metadata": {},
   "outputs": [],
   "source": [
    "mydict['55'] = 330"
   ]
  },
  {
   "cell_type": "code",
   "execution_count": 41,
   "metadata": {},
   "outputs": [
    {
     "data": {
      "text/plain": [
       "{'mylist': [1, 2, 6, 6, 'Badac'],\n",
       " 55: 165,\n",
       " 'innerd': {'a': 100, 'b': [1, 2, 6]},\n",
       " '55': 330}"
      ]
     },
     "execution_count": 41,
     "metadata": {},
     "output_type": "execute_result"
    }
   ],
   "source": [
    "mydict"
   ]
  },
  {
   "cell_type": "code",
   "execution_count": 42,
   "metadata": {},
   "outputs": [
    {
     "data": {
      "text/plain": [
       "[1, 2, 6, 6, 'Badac']"
      ]
     },
     "execution_count": 42,
     "metadata": {},
     "output_type": "execute_result"
    }
   ],
   "source": [
    "mlist = mydict['mylist']\n",
    "mlist"
   ]
  },
  {
   "cell_type": "code",
   "execution_count": 44,
   "metadata": {},
   "outputs": [
    {
     "data": {
      "text/plain": [
       "'Badac'"
      ]
     },
     "execution_count": 44,
     "metadata": {},
     "output_type": "execute_result"
    }
   ],
   "source": [
    "mytext = mlist[-1]\n",
    "mytext"
   ]
  },
  {
   "cell_type": "code",
   "execution_count": 45,
   "metadata": {},
   "outputs": [
    {
     "data": {
      "text/plain": [
       "'d'"
      ]
     },
     "execution_count": 45,
     "metadata": {},
     "output_type": "execute_result"
    }
   ],
   "source": [
    "mychar = mytext[-3]\n",
    "mychar"
   ]
  },
  {
   "cell_type": "code",
   "execution_count": 46,
   "metadata": {},
   "outputs": [
    {
     "data": {
      "text/plain": [
       "'d'"
      ]
     },
     "execution_count": 46,
     "metadata": {},
     "output_type": "execute_result"
    }
   ],
   "source": [
    "# get letter d\n",
    "mydict['mylist'][-1][-3]"
   ]
  },
  {
   "cell_type": "code",
   "execution_count": 47,
   "metadata": {},
   "outputs": [
    {
     "data": {
      "text/plain": [
       "'d'"
      ]
     },
     "execution_count": 47,
     "metadata": {},
     "output_type": "execute_result"
    }
   ],
   "source": [
    "mydict['mylist'][-1][2]"
   ]
  },
  {
   "cell_type": "code",
   "execution_count": 48,
   "metadata": {},
   "outputs": [
    {
     "data": {
      "text/plain": [
       "'d'"
      ]
     },
     "execution_count": 48,
     "metadata": {},
     "output_type": "execute_result"
    }
   ],
   "source": [
    "mlist[-1][2]"
   ]
  },
  {
   "cell_type": "code",
   "execution_count": 51,
   "metadata": {},
   "outputs": [],
   "source": [
    "mydict['real55'] = mydict[55]"
   ]
  },
  {
   "cell_type": "code",
   "execution_count": 52,
   "metadata": {},
   "outputs": [],
   "source": [
    "del mydict[55]"
   ]
  },
  {
   "cell_type": "code",
   "execution_count": 53,
   "metadata": {},
   "outputs": [
    {
     "data": {
      "text/plain": [
       "{'mylist': [1, 2, 6, 6, 'Badac'],\n",
       " 'innerd': {'a': 100, 'b': [1, 2, 6]},\n",
       " '55': 330,\n",
       " 'real55': 165}"
      ]
     },
     "execution_count": 53,
     "metadata": {},
     "output_type": "execute_result"
    }
   ],
   "source": [
    "mydict"
   ]
  },
  {
   "cell_type": "code",
   "execution_count": 54,
   "metadata": {
    "scrolled": true
   },
   "outputs": [
    {
     "data": {
      "text/plain": [
       "['55', 'innerd', 'mylist', 'real55']"
      ]
     },
     "execution_count": 54,
     "metadata": {},
     "output_type": "execute_result"
    }
   ],
   "source": [
    "sorted(mydict.keys())"
   ]
  },
  {
   "cell_type": "code",
   "execution_count": 55,
   "metadata": {},
   "outputs": [
    {
     "data": {
      "text/plain": [
       "330"
      ]
     },
     "execution_count": 55,
     "metadata": {},
     "output_type": "execute_result"
    }
   ],
   "source": [
    "mydict.get('55')"
   ]
  },
  {
   "cell_type": "code",
   "execution_count": 57,
   "metadata": {},
   "outputs": [],
   "source": [
    "# we get None on nonexisting key instead of KeyError\n",
    "mydict.get('53253242452')"
   ]
  },
  {
   "cell_type": "code",
   "execution_count": 58,
   "metadata": {},
   "outputs": [
    {
     "ename": "KeyError",
     "evalue": "'53253242452'",
     "output_type": "error",
     "traceback": [
      "\u001b[1;31m---------------------------------------------------------------------------\u001b[0m",
      "\u001b[1;31mKeyError\u001b[0m                                  Traceback (most recent call last)",
      "\u001b[1;32m<ipython-input-58-babc193b01fb>\u001b[0m in \u001b[0;36m<module>\u001b[1;34m\u001b[0m\n\u001b[1;32m----> 1\u001b[1;33m \u001b[0mmydict\u001b[0m\u001b[1;33m[\u001b[0m\u001b[1;34m'53253242452'\u001b[0m\u001b[1;33m]\u001b[0m\u001b[1;33m\u001b[0m\u001b[1;33m\u001b[0m\u001b[0m\n\u001b[0m",
      "\u001b[1;31mKeyError\u001b[0m: '53253242452'"
     ]
    }
   ],
   "source": [
    "# here we will get KeyError on nonexisting key\n",
    "mydict['53253242452']"
   ]
  },
  {
   "cell_type": "code",
   "execution_count": 59,
   "metadata": {},
   "outputs": [
    {
     "data": {
      "text/plain": [
       "True"
      ]
     },
     "execution_count": 59,
     "metadata": {},
     "output_type": "execute_result"
    }
   ],
   "source": [
    "mydict.get(\"badkey\") == None"
   ]
  },
  {
   "cell_type": "code",
   "execution_count": 64,
   "metadata": {},
   "outputs": [
    {
     "ename": "KeyError",
     "evalue": "'popitem(): dictionary is empty'",
     "output_type": "error",
     "traceback": [
      "\u001b[1;31m---------------------------------------------------------------------------\u001b[0m",
      "\u001b[1;31mKeyError\u001b[0m                                  Traceback (most recent call last)",
      "\u001b[1;32m<ipython-input-64-d6e562bcdeaf>\u001b[0m in \u001b[0;36m<module>\u001b[1;34m\u001b[0m\n\u001b[1;32m----> 1\u001b[1;33m \u001b[0mk\u001b[0m\u001b[1;33m,\u001b[0m\u001b[0mv\u001b[0m \u001b[1;33m=\u001b[0m \u001b[0mmydict\u001b[0m\u001b[1;33m.\u001b[0m\u001b[0mpopitem\u001b[0m\u001b[1;33m(\u001b[0m\u001b[1;33m)\u001b[0m\u001b[1;33m\u001b[0m\u001b[1;33m\u001b[0m\u001b[0m\n\u001b[0m\u001b[0;32m      2\u001b[0m \u001b[0mk\u001b[0m\u001b[1;33m,\u001b[0m\u001b[0mv\u001b[0m\u001b[1;33m\u001b[0m\u001b[1;33m\u001b[0m\u001b[0m\n",
      "\u001b[1;31mKeyError\u001b[0m: 'popitem(): dictionary is empty'"
     ]
    }
   ],
   "source": [
    "k,v = mydict.popitem()\n",
    "k,v"
   ]
  },
  {
   "cell_type": "code",
   "execution_count": 67,
   "metadata": {},
   "outputs": [
    {
     "data": {
      "text/plain": [
       "{'a': [1, 3, 'valdis', 5], 'anotherkey': 567}"
      ]
     },
     "execution_count": 67,
     "metadata": {},
     "output_type": "execute_result"
    }
   ],
   "source": [
    "# update for updating multiple dictionary values at once\n",
    "mydict.update({'a':[1,3,'valdis',5],'anotherkey':567})\n",
    "mydict"
   ]
  },
  {
   "cell_type": "code",
   "execution_count": null,
   "metadata": {},
   "outputs": [],
   "source": []
  },
  {
   "cell_type": "code",
   "execution_count": 68,
   "metadata": {},
   "outputs": [
    {
     "data": {
      "text/plain": [
       "{'a': [1, 3, 'valdis', 5], 'anotherkey': 567, 'b': 3333}"
      ]
     },
     "execution_count": 68,
     "metadata": {},
     "output_type": "execute_result"
    }
   ],
   "source": [
    "mydict.setdefault('b', 3333)\n",
    "mydict"
   ]
  },
  {
   "cell_type": "code",
   "execution_count": 69,
   "metadata": {},
   "outputs": [
    {
     "data": {
      "text/plain": [
       "{'a': [1, 3, 'valdis', 5], 'anotherkey': 567, 'b': 3333}"
      ]
     },
     "execution_count": 69,
     "metadata": {},
     "output_type": "execute_result"
    }
   ],
   "source": [
    "# change dictionary key value pair ONLY if key does not exist\n",
    "mydict.setdefault('a', 'aaaaaaaa')\n",
    "mydict"
   ]
  },
  {
   "cell_type": "code",
   "execution_count": 70,
   "metadata": {},
   "outputs": [
    {
     "data": {
      "text/plain": [
       "{'a': 'changed a value', 'anotherkey': 567, 'b': 3333}"
      ]
     },
     "execution_count": 70,
     "metadata": {},
     "output_type": "execute_result"
    }
   ],
   "source": [
    "# here we overwite no matter what\n",
    "mydict['a'] = 'changed a value'\n",
    "mydict"
   ]
  },
  {
   "cell_type": "code",
   "execution_count": 71,
   "metadata": {},
   "outputs": [
    {
     "data": {
      "text/plain": [
       "{}"
      ]
     },
     "execution_count": 71,
     "metadata": {},
     "output_type": "execute_result"
    }
   ],
   "source": [
    "# and we clear our dictionary\n",
    "mydict.clear()\n",
    "mydict"
   ]
  },
  {
   "cell_type": "code",
   "execution_count": 72,
   "metadata": {},
   "outputs": [
    {
     "data": {
      "text/plain": [
       "dict"
      ]
     },
     "execution_count": 72,
     "metadata": {},
     "output_type": "execute_result"
    }
   ],
   "source": [
    "type(mydict)"
   ]
  },
  {
   "cell_type": "code",
   "execution_count": 73,
   "metadata": {},
   "outputs": [
    {
     "data": {
      "text/plain": [
       "int"
      ]
     },
     "execution_count": 73,
     "metadata": {},
     "output_type": "execute_result"
    }
   ],
   "source": [
    "mydict = 5\n",
    "type(mydict)"
   ]
  }
 ],
 "metadata": {
  "kernelspec": {
   "display_name": "Python 3",
   "language": "python",
   "name": "python3"
  },
  "language_info": {
   "codemirror_mode": {
    "name": "ipython",
    "version": 3
   },
   "file_extension": ".py",
   "mimetype": "text/x-python",
   "name": "python",
   "nbconvert_exporter": "python",
   "pygments_lexer": "ipython3",
   "version": "3.7.3"
  }
 },
 "nbformat": 4,
 "nbformat_minor": 2
}
