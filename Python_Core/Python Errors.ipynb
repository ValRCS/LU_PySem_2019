{
 "cells": [
  {
   "cell_type": "markdown",
   "metadata": {},
   "source": [
    "# Debugging\n",
    "\n",
    "* Syntax Errors\n",
    "* EOF errors\n",
    "* Runtime Errors\n",
    "\n",
    "https://www.cs.bu.edu/courses/cs108/guides/debug.html\n",
    "\n",
    "[Debugging  P4E](https://eng.libretexts.org/Bookshelves/Computer_Science/Book%3A_Python_for_Everybody_(Severance)/2%3A_Variables%2C_Expressions%2C_and_Statements/2.13%3A_Debugging)\n",
    "\n",
    "# Logical errors\n",
    "What to do when no errors appear but code does not work properly?\n",
    "\n",
    "## Good old print debugging\n",
    "\n",
    "* https://pythondebugging.com/articles/python-debugging-with-print-statements\n",
    "* https://www.codementor.io/allisonf/how-to-debug-python-code-beginners-print-line-du107ltvx\n",
    "\n",
    "### Debugging with a debugger\n",
    "\n",
    "* Can execute step-by-step\n",
    "* Can see stack (your variables)\n",
    "* Can add breakpoints\n",
    "\n",
    "* https://realpython.com/python-debugging-pdb/\n",
    "* https://medium.freecodecamp.org/debugging-with-pycharm-be282bcd6172\n",
    "\n",
    "\n",
    "# When all else fails - Rubber Duck Debugging\n",
    "\n",
    "* https://en.wikipedia.org/wiki/Rubber_duck_debugging\n",
    "\n",
    "![Duck](https://upload.wikimedia.org/wikipedia/commons/thumb/d/d5/Rubber_duck_assisting_with_debugging.jpg/330px-Rubber_duck_assisting_with_debugging.jpg)\n",
    "\n",
    "* Explain the problem like you would to your mother-in-law or rubber duck!\n",
    "* Restate Your Assumptions!\n"
   ]
  },
  {
   "cell_type": "code",
   "execution_count": 8,
   "metadata": {},
   "outputs": [
    {
     "name": "stdout",
     "output_type": "stream",
     "text": [
      " Volume in drive C has no label.\n",
      " Volume Serial Number is 6019-C394\n",
      "\n",
      " Directory of C:\\Users\\Admin\\Documents\\Github\\RCS_Data_Analysis_Python_2019\n",
      "\n",
      "04/03/2019  04:58 PM    <DIR>          .\n",
      "04/03/2019  04:58 PM    <DIR>          ..\n",
      "04/03/2019  04:48 PM    <DIR>          .ipynb_checkpoints\n",
      "03/27/2019  06:24 PM            26,713 27.03.2019 - work in class on conditionals, comparisons.ipynb\n",
      "03/25/2019  04:41 PM    <DIR>          Cheat_Sheets\n",
      "04/01/2019  03:38 PM    <DIR>          data\n",
      "03/25/2019  04:41 PM         4,625,927 Data_Analysis_Python_Introduction.pdf\n",
      "03/25/2019  04:41 PM           185,453 Datu Analize_Python_20.03.2019..pdf\n",
      "04/03/2019  04:27 PM             1,212 Debugging.md\n",
      "04/03/2019  04:58 PM             5,238 Errors.ipynb\n",
      "04/03/2019  04:43 PM                25 fizz.txt\n",
      "03/28/2019  07:03 PM             9,946 Function_27.03.2019.ipynb\n",
      "03/25/2019  04:41 PM             1,704 Git_Workflow.md\n",
      "04/01/2019  04:43 PM            12,803 Homework_W2.ipynb\n",
      "03/25/2019  04:41 PM    <DIR>          img\n",
      "04/03/2019  04:27 PM               727 JSON.md\n",
      "03/25/2019  04:41 PM               217 Jupyter with Python.md\n",
      "04/03/2019  04:27 PM    <DIR>          lesson_plans\n",
      "03/25/2019  04:41 PM             1,084 LICENSE\n",
      "04/01/2019  03:43 PM             1,664 Pangram.ipynb\n",
      "04/03/2019  04:27 PM             5,792 Python Cleaning Up Text Files.ipynb\n",
      "03/27/2019  05:01 PM               489 Python Comparison operators.md\n",
      "03/27/2019  05:01 PM               203 Python Conditional Execution Branching.md\n",
      "03/25/2019  04:41 PM            10,380 Python Data Structures Exercises.ipynb\n",
      "03/27/2019  05:01 PM            25,025 Python Dictionaries_in_class.ipynb\n",
      "04/03/2019  04:48 PM            16,283 Python File IO.ipynb\n",
      "04/01/2019  03:40 PM           188,919 Python File Operations 2.ipynb\n",
      "03/27/2019  06:59 PM            17,717 Python Flow Control.ipynb\n",
      "03/28/2019  06:55 PM            21,155 Python Functions.ipynb\n",
      "03/28/2019  04:39 PM               591 Python Functions.md\n",
      "03/25/2019  04:41 PM            30,168 Python Introduction.ipynb\n",
      "03/25/2019  04:41 PM             4,119 Python Learning Resources.ipynb\n",
      "03/28/2019  04:39 PM               544 Python Learning Resources.md\n",
      "03/25/2019  04:41 PM            17,034 Python Modules and Imports.ipynb\n",
      "04/01/2019  03:38 PM               704 Python Reading Writing Files.md\n",
      "03/27/2019  05:01 PM               405 Python Set.md\n",
      "03/27/2019  05:01 PM             1,113 Python Tuples.md\n",
      "03/25/2019  04:41 PM           102,243 Python Variables and Data Types.ipynb\n",
      "03/25/2019  04:41 PM    <DIR>          python-tutorial-uiowa\n",
      "03/25/2019  04:41 PM               950 Python_Dictionaries.md\n",
      "03/25/2019  04:41 PM               482 Python_Lists.md\n",
      "03/27/2019  05:00 PM               935 Python_List_Exercise_1.ipynb\n",
      "03/25/2019  04:41 PM             2,482 README.md\n",
      "04/01/2019  04:51 PM                67 somefile.txt\n",
      "03/28/2019  04:54 PM             1,239 Untitled.ipynb\n",
      "04/03/2019  04:52 PM               762 Untitled1.ipynb\n",
      "              38 File(s)      5,322,514 bytes\n",
      "               8 Dir(s)  63,264,346,112 bytes free\n"
     ]
    }
   ],
   "source": [
    "!dir"
   ]
  },
  {
   "cell_type": "code",
   "execution_count": 4,
   "metadata": {},
   "outputs": [
    {
     "ename": "NameError",
     "evalue": "name 'a' is not defined",
     "output_type": "error",
     "traceback": [
      "\u001b[1;31m---------------------------------------------------------------------------\u001b[0m",
      "\u001b[1;31mNameError\u001b[0m                                 Traceback (most recent call last)",
      "\u001b[1;32m<ipython-input-4-7adbf16321d1>\u001b[0m in \u001b[0;36m<module>\u001b[1;34m()\u001b[0m\n\u001b[1;32m----> 1\u001b[1;33m \u001b[0mprint\u001b[0m\u001b[1;33m(\u001b[0m\u001b[0ma\u001b[0m\u001b[1;33m,\u001b[0m\u001b[0mb\u001b[0m\u001b[1;33m,\u001b[0m\u001b[0mc\u001b[0m\u001b[1;33m)\u001b[0m\u001b[1;33m\u001b[0m\u001b[0m\n\u001b[0m",
      "\u001b[1;31mNameError\u001b[0m: name 'a' is not defined"
     ]
    }
   ],
   "source": [
    "print(a,b,c)"
   ]
  },
  {
   "cell_type": "code",
   "execution_count": 5,
   "metadata": {},
   "outputs": [
    {
     "ename": "NameError",
     "evalue": "name 'a' is not defined",
     "output_type": "error",
     "traceback": [
      "\u001b[1;31m---------------------------------------------------------------------------\u001b[0m",
      "\u001b[1;31mNameError\u001b[0m                                 Traceback (most recent call last)",
      "\u001b[1;32m<ipython-input-5-ef7d5fb5e13a>\u001b[0m in \u001b[0;36m<module>\u001b[1;34m()\u001b[0m\n\u001b[1;32m----> 1\u001b[1;33m \u001b[0mprint\u001b[0m\u001b[1;33m(\u001b[0m\u001b[0ma\u001b[0m\u001b[1;33m)\u001b[0m\u001b[1;33m\u001b[0m\u001b[0m\n\u001b[0m\u001b[0;32m      2\u001b[0m \u001b[0ma\u001b[0m\u001b[1;33m=\u001b[0m\u001b[1;36m5\u001b[0m\u001b[1;33m\u001b[0m\u001b[0m\n",
      "\u001b[1;31mNameError\u001b[0m: name 'a' is not defined"
     ]
    }
   ],
   "source": [
    "print(a)\n",
    "a=5"
   ]
  },
  {
   "cell_type": "code",
   "execution_count": 6,
   "metadata": {},
   "outputs": [
    {
     "ename": "SyntaxError",
     "evalue": "unexpected EOF while parsing (<ipython-input-6-aee48efad5c7>, line 1)",
     "output_type": "error",
     "traceback": [
      "\u001b[1;36m  File \u001b[1;32m\"<ipython-input-6-aee48efad5c7>\"\u001b[1;36m, line \u001b[1;32m1\u001b[0m\n\u001b[1;33m    a = 3 + (4 + 5\u001b[0m\n\u001b[1;37m                  ^\u001b[0m\n\u001b[1;31mSyntaxError\u001b[0m\u001b[1;31m:\u001b[0m unexpected EOF while parsing\n"
     ]
    }
   ],
   "source": [
    "a = 3 + (4 + 5"
   ]
  },
  {
   "cell_type": "code",
   "execution_count": null,
   "metadata": {},
   "outputs": [],
   "source": [
    "# going to delete this"
   ]
  },
  {
   "cell_type": "code",
   "execution_count": null,
   "metadata": {},
   "outputs": [],
   "source": [
    "# another cell to delete"
   ]
  },
  {
   "cell_type": "code",
   "execution_count": null,
   "metadata": {},
   "outputs": [],
   "source": [
    "d = 6\n"
   ]
  }
 ],
 "metadata": {
  "kernelspec": {
   "display_name": "Python 3",
   "language": "python",
   "name": "python3"
  },
  "language_info": {
   "codemirror_mode": {
    "name": "ipython",
    "version": 3
   },
   "file_extension": ".py",
   "mimetype": "text/x-python",
   "name": "python",
   "nbconvert_exporter": "python",
   "pygments_lexer": "ipython3",
   "version": "3.7.0"
  }
 },
 "nbformat": 4,
 "nbformat_minor": 2
}
