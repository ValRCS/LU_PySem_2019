{
 "cells": [
  {
   "cell_type": "markdown",
   "metadata": {},
   "source": [
    "##  File I/O (Input / Output)"
   ]
  },
  {
   "cell_type": "markdown",
   "metadata": {},
   "source": [
    "## Jupyter only writing to text file\n",
    "* %%writefile filename.ext\n",
    "\n",
    "Writes in the working directory (first run pwd) "
   ]
  },
  {
   "cell_type": "code",
   "execution_count": 1,
   "metadata": {
    "scrolled": true
   },
   "outputs": [
    {
     "name": "stdout",
     "output_type": "stream",
     "text": [
      "Writing somefile.txt\n"
     ]
    }
   ],
   "source": [
    "%%writefile somefile.txt\n",
    "Oh my text first line\n",
    "Super easy second line\n",
    "OH and third line is"
   ]
  },
  {
   "cell_type": "code",
   "execution_count": 2,
   "metadata": {},
   "outputs": [],
   "source": [
    "# filein is our own name for file \n",
    "filein = open('somefile.txt')"
   ]
  },
  {
   "cell_type": "code",
   "execution_count": 3,
   "metadata": {},
   "outputs": [
    {
     "data": {
      "text/plain": [
       "_io.TextIOWrapper"
      ]
     },
     "execution_count": 3,
     "metadata": {},
     "output_type": "execute_result"
    }
   ],
   "source": [
    "type(filein)"
   ]
  },
  {
   "cell_type": "code",
   "execution_count": 4,
   "metadata": {},
   "outputs": [
    {
     "data": {
      "text/plain": [
       "'Oh my text first line\\nSuper easy second line\\nOH and third line is\\n'"
      ]
     },
     "execution_count": 4,
     "metadata": {},
     "output_type": "execute_result"
    }
   ],
   "source": [
    "\n",
    "filein.read() # usually not that useful"
   ]
  },
  {
   "cell_type": "code",
   "execution_count": 5,
   "metadata": {},
   "outputs": [
    {
     "data": {
      "text/plain": [
       "''"
      ]
     },
     "execution_count": 5,
     "metadata": {},
     "output_type": "execute_result"
    }
   ],
   "source": [
    "filein.read()"
   ]
  },
  {
   "cell_type": "code",
   "execution_count": null,
   "metadata": {},
   "outputs": [],
   "source": []
  },
  {
   "cell_type": "code",
   "execution_count": 6,
   "metadata": {},
   "outputs": [],
   "source": [
    "# there can be many pointers to file stream\n",
    "fin = filein"
   ]
  },
  {
   "cell_type": "code",
   "execution_count": 7,
   "metadata": {},
   "outputs": [
    {
     "data": {
      "text/plain": [
       "'somefile.txt'"
      ]
     },
     "execution_count": 7,
     "metadata": {},
     "output_type": "execute_result"
    }
   ],
   "source": [
    "fin.name"
   ]
  },
  {
   "cell_type": "code",
   "execution_count": 8,
   "metadata": {},
   "outputs": [
    {
     "data": {
      "text/plain": [
       "''"
      ]
     },
     "execution_count": 8,
     "metadata": {},
     "output_type": "execute_result"
    }
   ],
   "source": [
    "fin.read() # what will happen ?"
   ]
  },
  {
   "cell_type": "code",
   "execution_count": 9,
   "metadata": {},
   "outputs": [
    {
     "data": {
      "text/plain": [
       "'text first line\\nSuper easy second line\\nOH and third line is\\n'"
      ]
     },
     "execution_count": 9,
     "metadata": {},
     "output_type": "execute_result"
    }
   ],
   "source": [
    "fin.seek(6)\n",
    "fin.read()"
   ]
  },
  {
   "cell_type": "code",
   "execution_count": 10,
   "metadata": {},
   "outputs": [
    {
     "name": "stdout",
     "output_type": "stream",
     "text": [
      "text first line\n",
      "Super easy second line\n",
      "OH and third line is\n",
      "\n"
     ]
    }
   ],
   "source": [
    "fin.seek(6)\n",
    "text6= fin.read()\n",
    "print(text6)"
   ]
  },
  {
   "cell_type": "code",
   "execution_count": 13,
   "metadata": {},
   "outputs": [
    {
     "name": "stdout",
     "output_type": "stream",
     "text": [
      "Oh my text first line\n",
      "Super easy second line\n",
      "OH and third line is\n",
      "\n"
     ]
    }
   ],
   "source": [
    "# we seek the very beginning of the file\n",
    "fin.seek(0)\n",
    "fulltext = fin.read()\n",
    "print(fulltext)"
   ]
  },
  {
   "cell_type": "code",
   "execution_count": 14,
   "metadata": {},
   "outputs": [
    {
     "data": {
      "text/plain": [
       "'text first line\\nSuper easy second line\\nOH and third line is\\n'"
      ]
     },
     "execution_count": 14,
     "metadata": {},
     "output_type": "execute_result"
    }
   ],
   "source": [
    "fulltext[6:]"
   ]
  },
  {
   "cell_type": "code",
   "execution_count": 15,
   "metadata": {},
   "outputs": [
    {
     "data": {
      "text/plain": [
       "['Oh my text first line\\n',\n",
       " 'Super easy second line\\n',\n",
       " 'OH and third line is\\n']"
      ]
     },
     "execution_count": 15,
     "metadata": {},
     "output_type": "execute_result"
    }
   ],
   "source": [
    "fin.seek(0)\n",
    "mylines=fin.readlines()\n",
    "mylines"
   ]
  },
  {
   "cell_type": "code",
   "execution_count": 16,
   "metadata": {},
   "outputs": [
    {
     "data": {
      "text/plain": [
       "list"
      ]
     },
     "execution_count": 16,
     "metadata": {},
     "output_type": "execute_result"
    }
   ],
   "source": [
    "type(mylines)"
   ]
  },
  {
   "cell_type": "code",
   "execution_count": 9,
   "metadata": {},
   "outputs": [
    {
     "data": {
      "text/plain": [
       "list"
      ]
     },
     "execution_count": 9,
     "metadata": {},
     "output_type": "execute_result"
    }
   ],
   "source": [
    "type(mylines)"
   ]
  },
  {
   "cell_type": "code",
   "execution_count": 10,
   "metadata": {},
   "outputs": [
    {
     "data": {
      "text/plain": [
       "3"
      ]
     },
     "execution_count": 10,
     "metadata": {},
     "output_type": "execute_result"
    }
   ],
   "source": [
    "len(mylines)"
   ]
  },
  {
   "cell_type": "code",
   "execution_count": 12,
   "metadata": {},
   "outputs": [
    {
     "data": {
      "text/plain": [
       "[22, 23, 21]"
      ]
     },
     "execution_count": 12,
     "metadata": {},
     "output_type": "execute_result"
    }
   ],
   "source": [
    "# list comprehension to generate line lengths\n",
    "linelengths = [len(line) for line in mylines]\n",
    "linelengths"
   ]
  },
  {
   "cell_type": "code",
   "execution_count": 17,
   "metadata": {},
   "outputs": [
    {
     "data": {
      "text/plain": [
       "'Oh my text first line\\n'"
      ]
     },
     "execution_count": 17,
     "metadata": {},
     "output_type": "execute_result"
    }
   ],
   "source": [
    "mylines[0]"
   ]
  },
  {
   "cell_type": "code",
   "execution_count": 18,
   "metadata": {},
   "outputs": [
    {
     "name": "stdout",
     "output_type": "stream",
     "text": [
      "Oh my text first line\n",
      "\n"
     ]
    }
   ],
   "source": [
    "print(mylines[0])"
   ]
  },
  {
   "cell_type": "code",
   "execution_count": 19,
   "metadata": {},
   "outputs": [
    {
     "name": "stdout",
     "output_type": "stream",
     "text": [
      "Oh my text first line\n",
      "\n",
      "'Oh my text first line\\n'\n"
     ]
    },
    {
     "data": {
      "text/plain": [
       "'Oh my text first line\\n'"
      ]
     },
     "execution_count": 19,
     "metadata": {},
     "output_type": "execute_result"
    }
   ],
   "source": [
    "# if we need the representation of string then we use built in repr function\n",
    "print(mylines[0])\n",
    "print(repr(mylines[0])) # same as mylines[0] as the first last item\n",
    "mylines[0]"
   ]
  },
  {
   "cell_type": "code",
   "execution_count": 20,
   "metadata": {},
   "outputs": [
    {
     "name": "stdout",
     "output_type": "stream",
     "text": [
      "My Line Is:Oh my text first line\n",
      "\n",
      "My Line Is:Super easy second line\n",
      "\n",
      "My Line Is:OH and third line is\n",
      "\n"
     ]
    }
   ],
   "source": [
    "# we go trough each line and do some work\n",
    "for line in mylines:\n",
    "    print(f'My Line Is:{line}')\n",
    "    # Do more work on lines"
   ]
  },
  {
   "cell_type": "code",
   "execution_count": 21,
   "metadata": {},
   "outputs": [
    {
     "name": "stdout",
     "output_type": "stream",
     "text": [
      "Oh my text first line\n",
      "Super easy second line\n",
      "OH and third line is\n"
     ]
    }
   ],
   "source": [
    "# We can go throught the file directly (without reading the whole file into memory)\n",
    "fin.seek(0)\n",
    "# we can go through very large files here\n",
    "for line in fin:\n",
    "    print(line, end='')"
   ]
  },
  {
   "cell_type": "code",
   "execution_count": 22,
   "metadata": {},
   "outputs": [
    {
     "name": "stdout",
     "output_type": "stream",
     "text": [
      "Oh my text first line\n",
      "\n",
      "Super easy second line\n",
      "\n",
      "OH and third line is\n",
      "\n"
     ]
    }
   ],
   "source": [
    "for line  in mylines:\n",
    "    print(line)"
   ]
  },
  {
   "cell_type": "code",
   "execution_count": 23,
   "metadata": {},
   "outputs": [],
   "source": [
    "#close the file if you .open() it!!\n",
    "fin.close()"
   ]
  },
  {
   "cell_type": "markdown",
   "metadata": {},
   "source": [
    "## Use with open always! \n",
    "\n",
    "* closes automatically!\n",
    "* throws exceptions on errors"
   ]
  },
  {
   "cell_type": "code",
   "execution_count": 25,
   "metadata": {},
   "outputs": [
    {
     "ename": "FileNotFoundError",
     "evalue": "[Errno 2] No such file or directory: 'badsomefile.txt'",
     "output_type": "error",
     "traceback": [
      "\u001b[1;31m---------------------------------------------------------------------------\u001b[0m",
      "\u001b[1;31mFileNotFoundError\u001b[0m                         Traceback (most recent call last)",
      "\u001b[1;32m<ipython-input-25-ed5b69500e5f>\u001b[0m in \u001b[0;36m<module>\u001b[1;34m\u001b[0m\n\u001b[1;32m----> 1\u001b[1;33m \u001b[1;32mwith\u001b[0m \u001b[0mopen\u001b[0m\u001b[1;33m(\u001b[0m\u001b[1;34m'badsomefile.txt'\u001b[0m\u001b[1;33m)\u001b[0m \u001b[1;32mas\u001b[0m \u001b[0mfin\u001b[0m\u001b[1;33m:\u001b[0m\u001b[1;33m\u001b[0m\u001b[1;33m\u001b[0m\u001b[0m\n\u001b[0m\u001b[0;32m      2\u001b[0m     \u001b[1;32mfor\u001b[0m \u001b[0mline\u001b[0m \u001b[1;32min\u001b[0m \u001b[0mfin\u001b[0m\u001b[1;33m:\u001b[0m\u001b[1;33m\u001b[0m\u001b[1;33m\u001b[0m\u001b[0m\n\u001b[0;32m      3\u001b[0m         \u001b[0mprint\u001b[0m\u001b[1;33m(\u001b[0m\u001b[0mline\u001b[0m\u001b[1;33m)\u001b[0m\u001b[1;33m\u001b[0m\u001b[1;33m\u001b[0m\u001b[0m\n",
      "\u001b[1;31mFileNotFoundError\u001b[0m: [Errno 2] No such file or directory: 'badsomefile.txt'"
     ]
    }
   ],
   "source": [
    "with open('badsomefile.txt') as fin:\n",
    "    for line in fin:\n",
    "        print(line)"
   ]
  },
  {
   "cell_type": "code",
   "execution_count": 26,
   "metadata": {},
   "outputs": [
    {
     "name": "stdout",
     "output_type": "stream",
     "text": [
      "Oh my text first line\n",
      "\n",
      "Super easy second line\n",
      "\n",
      "OH and third line is\n",
      "\n",
      "file is closed already here\n"
     ]
    }
   ],
   "source": [
    "# Idiom on how to open AND close a file for reading and doing work\n",
    "with open('somefile.txt') as fin:\n",
    "    for line in fin:\n",
    "        print(line)\n",
    "    # we can do more work with file here\n",
    "    # maybe fin.seek(0) to read it again for some reason\n",
    "    # File will be closed once this line ends\n",
    "print(\"file is closed already here\")\n",
    "#closes here!\n",
    "#closes automatically!!! "
   ]
  },
  {
   "cell_type": "code",
   "execution_count": 27,
   "metadata": {},
   "outputs": [
    {
     "ename": "ValueError",
     "evalue": "I/O operation on closed file.",
     "output_type": "error",
     "traceback": [
      "\u001b[1;31m---------------------------------------------------------------------------\u001b[0m",
      "\u001b[1;31mValueError\u001b[0m                                Traceback (most recent call last)",
      "\u001b[1;32m<ipython-input-27-93e8124b6791>\u001b[0m in \u001b[0;36m<module>\u001b[1;34m\u001b[0m\n\u001b[1;32m----> 1\u001b[1;33m \u001b[0mfin\u001b[0m\u001b[1;33m.\u001b[0m\u001b[0mread\u001b[0m\u001b[1;33m(\u001b[0m\u001b[1;33m)\u001b[0m\u001b[1;33m\u001b[0m\u001b[1;33m\u001b[0m\u001b[0m\n\u001b[0m",
      "\u001b[1;31mValueError\u001b[0m: I/O operation on closed file."
     ]
    }
   ],
   "source": [
    "fin.read()"
   ]
  },
  {
   "cell_type": "markdown",
   "metadata": {},
   "source": [
    "## For MacOS and Linux\n",
    "* use pwd to see where you are\n",
    "### myfile = open(\"/Users/MyUserName/SomeFolder/MaybeAnotherFolder/myfile.txt\")"
   ]
  },
  {
   "cell_type": "markdown",
   "metadata": {},
   "source": [
    "## For Windows\n",
    "* use pwd to see where you are\n",
    "### myfile = open(\"C:\\\\Users\\\\MyUserName\\\\SomeFolder\\\\MaybeAnotherFolder\\\\myfile.txt\")"
   ]
  },
  {
   "cell_type": "code",
   "execution_count": 29,
   "metadata": {},
   "outputs": [
    {
     "name": "stdout",
     "output_type": "stream",
     "text": [
      " Volume in drive C is Windows\n",
      " Volume Serial Number is 5AA0-2A07\n",
      "\n",
      " Directory of C:\\Users\\val-p1\\Github\\RCS_Data_Analysis_Python_2019_July\n",
      "\n",
      "07/18/2019  04:10 PM    <DIR>          .\n",
      "07/18/2019  04:10 PM    <DIR>          ..\n",
      "07/18/2019  04:07 PM    <DIR>          .ipynb_checkpoints\n",
      "07/13/2019  10:17 AM             7,614 All_Any.ipynb\n",
      "07/18/2019  04:03 PM    <DIR>          data\n",
      "07/13/2019  10:17 AM         7,435,248 Data_Analysis_Python_Introduction.pdf\n",
      "07/13/2019  10:17 AM             1,713 Git_Workflow.md\n",
      "07/16/2019  04:04 PM    <DIR>          img\n",
      "07/13/2019  10:17 AM               217 Jupyter with Python.md\n",
      "07/13/2019  10:17 AM             1,084 LICENSE\n",
      "07/13/2019  10:17 AM            38,870 Python Classes.ipynb\n",
      "07/13/2019  10:17 AM            47,880 Python Cleaning Up Text Files.ipynb\n",
      "07/13/2019  10:17 AM               489 Python Comparison operators.md\n",
      "07/13/2019  10:17 AM               203 Python Conditional Execution Branching.md\n",
      "07/13/2019  10:17 AM            10,380 Python Data Structures Exercises.ipynb\n",
      "07/13/2019  02:58 PM            37,939 Python Dictionaries.ipynb\n",
      "07/13/2019  10:17 AM             8,986 Python Errors.ipynb\n",
      "07/13/2019  10:17 AM               538 Python Exercises.md\n",
      "07/18/2019  04:10 PM            29,507 Python File IO.ipynb\n",
      "07/13/2019  10:17 AM            50,238 Python File Operations 2 Binary Files and Pickle in class 21.05.2019.ipynb\n",
      "07/15/2019  06:02 PM            54,940 Python Flow Control.ipynb\n",
      "07/15/2019  04:10 PM               219 Python Flow Control.md\n",
      "07/16/2019  06:09 PM         4,028,856 Python Functions.ipynb\n",
      "07/16/2019  04:04 PM               622 Python Functions.md\n",
      "07/13/2019  12:02 PM            46,952 Python Introduction.ipynb\n",
      "07/13/2019  10:17 AM             4,119 Python Learning Resources.ipynb\n",
      "07/13/2019  10:17 AM             1,103 Python Learning Resources.md\n",
      "07/13/2019  10:17 AM             4,520 Python List Comprehension.ipynb\n",
      "07/13/2019  02:09 PM            35,953 Python Lists.ipynb\n",
      "07/13/2019  10:17 AM            17,034 Python Modules and Imports.ipynb\n",
      "07/18/2019  04:03 PM               786 Python Reading Writing Files.md\n",
      "07/16/2019  05:30 PM            12,423 Python Sets.ipynb\n",
      "07/13/2019  01:08 PM            34,381 Python Strings.ipynb\n",
      "07/16/2019  05:22 PM            18,893 Python Tuples.ipynb\n",
      "07/13/2019  10:17 AM           113,049 Python Variables and Data Types.ipynb\n",
      "07/13/2019  10:17 AM               950 Python_Dictionaries.md\n",
      "07/13/2019  10:17 AM               482 Python_Lists.md\n",
      "07/13/2019  10:17 AM               935 Python_List_Exercise_1.ipynb\n",
      "07/18/2019  04:03 PM             8,110 Reading ipynb.ipynb\n",
      "07/13/2019  10:23 AM             2,432 README.md\n",
      "07/18/2019  04:05 PM                69 somefile.txt\n",
      "              36 File(s)     12,057,734 bytes\n",
      "               5 Dir(s)  430,786,449,408 bytes free\n"
     ]
    }
   ],
   "source": [
    "# Jupyter Magic !someOScommand for example !dir or !ls\n",
    "!dir"
   ]
  },
  {
   "cell_type": "code",
   "execution_count": 34,
   "metadata": {},
   "outputs": [
    {
     "data": {
      "text/plain": [
       "'C:\\\\Users\\\\val-p1\\\\Github\\\\RCS_Data_Analysis_Python_2019_July'"
      ]
     },
     "execution_count": 34,
     "metadata": {},
     "output_type": "execute_result"
    }
   ],
   "source": [
    "pwd"
   ]
  },
  {
   "cell_type": "code",
   "execution_count": 31,
   "metadata": {},
   "outputs": [
    {
     "name": "stdout",
     "output_type": "stream",
     "text": [
      " Volume in drive C is Windows\n",
      " Volume Serial Number is 5AA0-2A07\n",
      "\n",
      " Directory of C:\\Users\\val-p1\\Github\\RCS_Data_Analysis_Python_2019_July\n",
      "\n",
      "07/18/2019  04:10 PM    <DIR>          .\n",
      "07/18/2019  04:10 PM    <DIR>          ..\n",
      "07/18/2019  04:07 PM    <DIR>          .ipynb_checkpoints\n",
      "07/13/2019  10:17 AM             7,614 All_Any.ipynb\n",
      "07/18/2019  04:03 PM    <DIR>          data\n",
      "07/13/2019  10:17 AM         7,435,248 Data_Analysis_Python_Introduction.pdf\n",
      "07/13/2019  10:17 AM             1,713 Git_Workflow.md\n",
      "07/16/2019  04:04 PM    <DIR>          img\n",
      "07/13/2019  10:17 AM               217 Jupyter with Python.md\n",
      "07/13/2019  10:17 AM             1,084 LICENSE\n",
      "07/13/2019  10:17 AM            38,870 Python Classes.ipynb\n",
      "07/13/2019  10:17 AM            47,880 Python Cleaning Up Text Files.ipynb\n",
      "07/13/2019  10:17 AM               489 Python Comparison operators.md\n",
      "07/13/2019  10:17 AM               203 Python Conditional Execution Branching.md\n",
      "07/13/2019  10:17 AM            10,380 Python Data Structures Exercises.ipynb\n",
      "07/13/2019  02:58 PM            37,939 Python Dictionaries.ipynb\n",
      "07/13/2019  10:17 AM             8,986 Python Errors.ipynb\n",
      "07/13/2019  10:17 AM               538 Python Exercises.md\n",
      "07/18/2019  04:10 PM            29,507 Python File IO.ipynb\n",
      "07/13/2019  10:17 AM            50,238 Python File Operations 2 Binary Files and Pickle in class 21.05.2019.ipynb\n",
      "07/15/2019  06:02 PM            54,940 Python Flow Control.ipynb\n",
      "07/15/2019  04:10 PM               219 Python Flow Control.md\n",
      "07/16/2019  06:09 PM         4,028,856 Python Functions.ipynb\n",
      "07/16/2019  04:04 PM               622 Python Functions.md\n",
      "07/13/2019  12:02 PM            46,952 Python Introduction.ipynb\n",
      "07/13/2019  10:17 AM             4,119 Python Learning Resources.ipynb\n",
      "07/13/2019  10:17 AM             1,103 Python Learning Resources.md\n",
      "07/13/2019  10:17 AM             4,520 Python List Comprehension.ipynb\n",
      "07/13/2019  02:09 PM            35,953 Python Lists.ipynb\n",
      "07/13/2019  10:17 AM            17,034 Python Modules and Imports.ipynb\n",
      "07/18/2019  04:03 PM               786 Python Reading Writing Files.md\n",
      "07/16/2019  05:30 PM            12,423 Python Sets.ipynb\n",
      "07/13/2019  01:08 PM            34,381 Python Strings.ipynb\n",
      "07/16/2019  05:22 PM            18,893 Python Tuples.ipynb\n",
      "07/13/2019  10:17 AM           113,049 Python Variables and Data Types.ipynb\n",
      "07/13/2019  10:17 AM               950 Python_Dictionaries.md\n",
      "07/13/2019  10:17 AM               482 Python_Lists.md\n",
      "07/13/2019  10:17 AM               935 Python_List_Exercise_1.ipynb\n",
      "07/18/2019  04:03 PM             8,110 Reading ipynb.ipynb\n",
      "07/13/2019  10:23 AM             2,432 README.md\n",
      "07/18/2019  04:05 PM                69 somefile.txt\n",
      "              36 File(s)     12,057,734 bytes\n",
      "               5 Dir(s)  430,786,244,608 bytes free\n"
     ]
    }
   ],
   "source": [
    "!dir"
   ]
  },
  {
   "cell_type": "code",
   "execution_count": 28,
   "metadata": {},
   "outputs": [
    {
     "data": {
      "text/plain": [
       "'C:\\\\Users\\\\val-p1\\\\Github\\\\RCS_Data_Analysis_Python_2019_July'"
      ]
     },
     "execution_count": 28,
     "metadata": {},
     "output_type": "execute_result"
    }
   ],
   "source": [
    "pwd"
   ]
  },
  {
   "cell_type": "code",
   "execution_count": 36,
   "metadata": {},
   "outputs": [],
   "source": [
    "# importing OS specific library for system work\n",
    "import os"
   ]
  },
  {
   "cell_type": "code",
   "execution_count": 39,
   "metadata": {},
   "outputs": [
    {
     "data": {
      "text/plain": [
       "'C:\\\\Users\\\\val-p1\\\\Github\\\\RCS_Data_Analysis_Python_2019_July'"
      ]
     },
     "execution_count": 39,
     "metadata": {},
     "output_type": "execute_result"
    }
   ],
   "source": [
    "cwd = os.getcwd()\n",
    "cwd"
   ]
  },
  {
   "cell_type": "code",
   "execution_count": 41,
   "metadata": {},
   "outputs": [
    {
     "name": "stdout",
     "output_type": "stream",
     "text": [
      "Oh my text first line\n",
      "\n",
      "Super easy second line\n",
      "\n",
      "OH and third line is\n",
      "\n"
     ]
    }
   ],
   "source": [
    "with open(cwd+'\\\\somefile.txt') as f:\n",
    "    for line in f:\n",
    "        print(line)"
   ]
  },
  {
   "cell_type": "code",
   "execution_count": 44,
   "metadata": {},
   "outputs": [
    {
     "data": {
      "text/plain": [
       "12875"
      ]
     },
     "execution_count": 44,
     "metadata": {},
     "output_type": "execute_result"
    }
   ],
   "source": [
    "with open('data\\\\Veidenbaums.txt', encoding='UTF-8') as f:\n",
    "    mytext = f.read()\n",
    "len(mytext)"
   ]
  },
  {
   "cell_type": "code",
   "execution_count": 42,
   "metadata": {},
   "outputs": [
    {
     "name": "stdout",
     "output_type": "stream",
     "text": [
      "Oh my text first line\n",
      "Super easy second line\n",
      "OH and third line is\n",
      "\n"
     ]
    }
   ],
   "source": [
    "\n",
    "with open('C:\\\\Users\\\\val-p1\\\\Github\\\\RCS_Data_Analysis_Python_2019_July\\\\somefile.txt', mode='r') as fin:\n",
    "    cont = fin.read()\n",
    "print(cont)\n",
    "#?open"
   ]
  },
  {
   "cell_type": "code",
   "execution_count": 27,
   "metadata": {},
   "outputs": [
    {
     "name": "stdout",
     "output_type": "stream",
     "text": [
      "[user]\n",
      "\temail = valdis.s.coding@gmail.com\n",
      "\tname = Valdis SCoding\n",
      "\n"
     ]
    }
   ],
   "source": [
    "\n",
    "with open('..\\\\..\\\\.gitconfig', mode='r') as fin:\n",
    "    cont = fin.read()\n",
    "print(cont)\n",
    "#?open"
   ]
  },
  {
   "cell_type": "code",
   "execution_count": 45,
   "metadata": {},
   "outputs": [],
   "source": [
    "#mode=w is write only and it deletes OLD file!!\n",
    "with open('numbers.txt', mode='w') as fwriter:\n",
    "    for n in range(1,10):\n",
    "        fwriter.write(f'The number is {n*2} \\n')\n",
    "        #fout.write(f'The number is {n}') # diferences between \\n and no \\n\n",
    "    #file is closed is here    "
   ]
  },
  {
   "cell_type": "code",
   "execution_count": 46,
   "metadata": {},
   "outputs": [
    {
     "data": {
      "text/plain": [
       "189"
      ]
     },
     "execution_count": 46,
     "metadata": {},
     "output_type": "execute_result"
    }
   ],
   "source": [
    "len('The number is {n*2} \\n')*9"
   ]
  },
  {
   "cell_type": "code",
   "execution_count": 47,
   "metadata": {},
   "outputs": [
    {
     "data": {
      "text/plain": [
       "158"
      ]
     },
     "execution_count": 47,
     "metadata": {},
     "output_type": "execute_result"
    }
   ],
   "source": [
    "with open('numbers.txt') as freader:\n",
    "    mytext = freader.read()\n",
    "len(mytext)"
   ]
  },
  {
   "cell_type": "code",
   "execution_count": 48,
   "metadata": {},
   "outputs": [
    {
     "name": "stdout",
     "output_type": "stream",
     "text": [
      "The number is 2 \n",
      "\n",
      "17\n",
      "The number is 4 \n",
      "\n",
      "17\n",
      "The number is 6 \n",
      "\n",
      "17\n",
      "The number is 8 \n",
      "\n",
      "17\n",
      "The number is 10 \n",
      "\n",
      "18\n",
      "The number is 12 \n",
      "\n",
      "18\n",
      "The number is 14 \n",
      "\n",
      "18\n",
      "The number is 16 \n",
      "\n",
      "18\n",
      "The number is 18 \n",
      "\n",
      "18\n",
      "158\n"
     ]
    }
   ],
   "source": [
    "with open('numbers.txt') as freader:\n",
    "    sum = 0\n",
    "    for line in freader:\n",
    "        print(line)\n",
    "        print(len(line))\n",
    "        sum += len(line)\n",
    "print(sum)"
   ]
  },
  {
   "cell_type": "code",
   "execution_count": 51,
   "metadata": {},
   "outputs": [
    {
     "data": {
      "text/plain": [
       "datetime.datetime(2019, 7, 18, 16, 47, 28, 58718)"
      ]
     },
     "execution_count": 51,
     "metadata": {},
     "output_type": "execute_result"
    }
   ],
   "source": [
    "from datetime import datetime\n",
    "now = datetime.now()\n",
    "now"
   ]
  },
  {
   "cell_type": "code",
   "execution_count": 52,
   "metadata": {},
   "outputs": [
    {
     "name": "stdout",
     "output_type": "stream",
     "text": [
      "2019-07-18 16:47:32.332155\n"
     ]
    }
   ],
   "source": [
    "today = datetime.today()\n",
    "print(today)"
   ]
  },
  {
   "cell_type": "code",
   "execution_count": 54,
   "metadata": {},
   "outputs": [],
   "source": [
    "#mode=w is write only and it deletes OLD file!!\n",
    "today = datetime.today()\n",
    "with open(f'numbers{today.hour}_{today.minute}_{today.second}.txt', mode='w') as fwriter:\n",
    "    for n in range(1,10):\n",
    "        fwriter.write(f'The number is {n*2} \\n')\n",
    "        #fout.write(f'The number is {n}') # diferences between \\n and no \\n\n",
    "    #file is closed is here    "
   ]
  },
  {
   "cell_type": "code",
   "execution_count": 55,
   "metadata": {},
   "outputs": [
    {
     "data": {
      "text/plain": [
       "datetime.datetime(2019, 7, 18, 16, 48, 38, 942791)"
      ]
     },
     "execution_count": 55,
     "metadata": {},
     "output_type": "execute_result"
    }
   ],
   "source": [
    "today"
   ]
  },
  {
   "cell_type": "code",
   "execution_count": 56,
   "metadata": {},
   "outputs": [
    {
     "data": {
      "text/plain": [
       "16"
      ]
     },
     "execution_count": 56,
     "metadata": {},
     "output_type": "execute_result"
    }
   ],
   "source": [
    "today.hour"
   ]
  },
  {
   "cell_type": "code",
   "execution_count": 58,
   "metadata": {},
   "outputs": [
    {
     "data": {
      "text/plain": [
       "48"
      ]
     },
     "execution_count": 58,
     "metadata": {},
     "output_type": "execute_result"
    }
   ],
   "source": [
    "today.minute"
   ]
  },
  {
   "cell_type": "code",
   "execution_count": 66,
   "metadata": {},
   "outputs": [
    {
     "data": {
      "text/plain": [
       "datetime.datetime(2019, 7, 18, 16, 50, 0, 396834)"
      ]
     },
     "execution_count": 66,
     "metadata": {},
     "output_type": "execute_result"
    }
   ],
   "source": [
    "datetime.today()"
   ]
  },
  {
   "cell_type": "code",
   "execution_count": 67,
   "metadata": {},
   "outputs": [
    {
     "data": {
      "text/plain": [
       "1563457648.058718"
      ]
     },
     "execution_count": 67,
     "metadata": {},
     "output_type": "execute_result"
    }
   ],
   "source": [
    "timestamp = datetime.timestamp(now)\n",
    "timestamp"
   ]
  },
  {
   "cell_type": "code",
   "execution_count": 34,
   "metadata": {},
   "outputs": [
    {
     "data": {
      "text/plain": [
       "'2019-05-21 16:33:12.606716'"
      ]
     },
     "execution_count": 34,
     "metadata": {},
     "output_type": "execute_result"
    }
   ],
   "source": [
    "str(datetime.now())"
   ]
  },
  {
   "cell_type": "code",
   "execution_count": 68,
   "metadata": {},
   "outputs": [
    {
     "name": "stdout",
     "output_type": "stream",
     "text": [
      "['The number is 2 \\n', 'The number is 4 \\n', 'The number is 6 \\n', 'The number is 8 \\n', 'The number is 10 \\n', 'The number is 12 \\n', 'The number is 14 \\n', 'The number is 16 \\n', 'The number is 18 \\n']\n"
     ]
    }
   ],
   "source": [
    "with open('numbers.txt') as fin:\n",
    "    print(fin.readlines())"
   ]
  },
  {
   "cell_type": "code",
   "execution_count": 48,
   "metadata": {},
   "outputs": [
    {
     "name": "stdout",
     "output_type": "stream",
     "text": [
      "The number is 2 \n",
      "The number is 4 \n",
      "The number is 6 \n",
      "The number is 8 \n",
      "The number is 10 \n",
      "The number is 12 \n",
      "The number is 14 \n",
      "The number is 16 \n",
      "The number is 18 \n"
     ]
    }
   ],
   "source": [
    "with open('numbers.txt', mode='r') as fin:\n",
    "    for line in fin:\n",
    "        print(line, end=\"\")"
   ]
  },
  {
   "cell_type": "code",
   "execution_count": null,
   "metadata": {},
   "outputs": [],
   "source": []
  },
  {
   "cell_type": "code",
   "execution_count": 71,
   "metadata": {},
   "outputs": [],
   "source": [
    "# We can append to the files without overwriting\n",
    "with open('numbers.txt', mode='a') as fin:\n",
    "    fin.write(\"This might not be the end\\nThis is really the end\")"
   ]
  },
  {
   "cell_type": "code",
   "execution_count": 72,
   "metadata": {},
   "outputs": [],
   "source": [
    "with open('numbers.txt', mode='a') as fin:\n",
    "    fin.seek(4) # seek will not work here for writing\n",
    "    fin.write(\"This is not the end\")"
   ]
  },
  {
   "cell_type": "code",
   "execution_count": 73,
   "metadata": {},
   "outputs": [
    {
     "name": "stdout",
     "output_type": "stream",
     "text": [
      "The number is 2 \n",
      "The number is 4 \n",
      "The number is 6 \n",
      "The number is 8 \n",
      "The number is 10 \n",
      "The number is 12 \n",
      "The number is 14 \n",
      "The number is 16 \n",
      "The number is 18 \n",
      "This might not be the endThis might not be the endThis might not be the end\n",
      "This is really the endThis is not the end\n"
     ]
    }
   ],
   "source": [
    "with open('numbers.txt') as f:\n",
    "    print(f.read())"
   ]
  },
  {
   "cell_type": "code",
   "execution_count": 74,
   "metadata": {},
   "outputs": [
    {
     "ename": "SyntaxError",
     "evalue": "invalid syntax (<ipython-input-74-1a07fac4098f>, line 3)",
     "output_type": "error",
     "traceback": [
      "\u001b[1;36m  File \u001b[1;32m\"<ipython-input-74-1a07fac4098f>\"\u001b[1;36m, line \u001b[1;32m3\u001b[0m\n\u001b[1;33m    The number is 2\u001b[0m\n\u001b[1;37m             ^\u001b[0m\n\u001b[1;31mSyntaxError\u001b[0m\u001b[1;31m:\u001b[0m invalid syntax\n"
     ]
    }
   ],
   "source": [
    "# Jupyter magic for reading files into notebook\n",
    "%%readfile numbers.txt\n",
    "The number is 2 \n",
    "The number is 4 \n",
    "The number is 6 \n",
    "The number is 8 \n",
    "The number is 10 \n",
    "The number is 12 \n",
    "The number is 14 \n",
    "The number is 16 \n",
    "The number is 18 \n",
    "This is the end!"
   ]
  },
  {
   "cell_type": "code",
   "execution_count": 39,
   "metadata": {},
   "outputs": [],
   "source": [
    "# Generally Preferably to read and write separately - VS"
   ]
  },
  {
   "cell_type": "code",
   "execution_count": 76,
   "metadata": {},
   "outputs": [
    {
     "name": "stdout",
     "output_type": "stream",
     "text": [
      "['Oh my text first line\\n', 'Super easy second line\\n', 'OH and third line is\\n']\n"
     ]
    }
   ],
   "source": [
    "with open('somefile.txt', mode=\"r+\") as f:\n",
    "    print(f.readlines())\n",
    "    f.write('moreinfo\\tmore\\n')"
   ]
  },
  {
   "cell_type": "code",
   "execution_count": 64,
   "metadata": {},
   "outputs": [
    {
     "name": "stdout",
     "output_type": "stream",
     "text": [
      "['moreinfo\\tmore\\n', 'moreinfo\\tmore\\n', 'moreinfo\\tmore\\n', 'moreinfo\\tmore\\n', 'moreinfo\\tmore\\n', 'moreinfo\\tmore\\n', 'moreinfo\\tmore\\n', 'moreinfo\\tmore\\n']\n"
     ]
    }
   ],
   "source": [
    "with open('sometext.txt') as f:\n",
    "    print(f.readlines())"
   ]
  },
  {
   "cell_type": "markdown",
   "metadata": {},
   "source": [
    "### Modes:\n",
    "  *  mode='r' - Read Only\n",
    "  * 'w' - Write Only (and will overwrite existing files!!!)\n",
    "  * 'a' - Apend Only (stream is at the end of file!)\n",
    "  * 'r+' - Read and Write\n",
    "  * 'w+' - Write and Read with Overwriting existing/make new files\n",
    "  \n",
    "  From C (fopen)\n",
    "   * ``r+''  Open for reading and writing.  The stream is positioned at the\n",
    "         beginning of the file.\n",
    "         \n",
    "    *   ``w+''  Open for reading and writing.  The file is created if it does not\n",
    "         exist, otherwise it is truncated(**destroyed!**).  The stream is positioned at\n",
    "         the beginning of the file.    "
   ]
  },
  {
   "cell_type": "code",
   "execution_count": 77,
   "metadata": {},
   "outputs": [],
   "source": [
    "!cd data/"
   ]
  },
  {
   "cell_type": "code",
   "execution_count": 78,
   "metadata": {},
   "outputs": [
    {
     "name": "stdout",
     "output_type": "stream",
     "text": [
      " Volume in drive C is Windows\n",
      " Volume Serial Number is 5AA0-2A07\n",
      "\n",
      " Directory of C:\\Users\\val-p1\\Github\\RCS_Data_Analysis_Python_2019_July\n",
      "\n",
      "07/18/2019  04:57 PM    <DIR>          .\n",
      "07/18/2019  04:57 PM    <DIR>          ..\n",
      "07/18/2019  04:07 PM    <DIR>          .ipynb_checkpoints\n",
      "07/13/2019  10:17 AM             7,614 All_Any.ipynb\n",
      "07/18/2019  04:03 PM    <DIR>          data\n",
      "07/13/2019  10:17 AM         7,435,248 Data_Analysis_Python_Introduction.pdf\n",
      "07/13/2019  10:17 AM             1,713 Git_Workflow.md\n",
      "07/16/2019  04:04 PM    <DIR>          img\n",
      "07/13/2019  10:17 AM               217 Jupyter with Python.md\n",
      "07/13/2019  10:17 AM             1,084 LICENSE\n",
      "07/18/2019  04:52 PM               285 numbers.txt\n",
      "07/18/2019  04:48 PM               167 numbers16_48_38.txt\n",
      "07/18/2019  04:48 PM               167 numbers16_48_9.txt\n",
      "07/13/2019  10:17 AM            38,870 Python Classes.ipynb\n",
      "07/13/2019  10:17 AM            47,880 Python Cleaning Up Text Files.ipynb\n",
      "07/13/2019  10:17 AM               489 Python Comparison operators.md\n",
      "07/13/2019  10:17 AM               203 Python Conditional Execution Branching.md\n",
      "07/13/2019  10:17 AM            10,380 Python Data Structures Exercises.ipynb\n",
      "07/13/2019  02:58 PM            37,939 Python Dictionaries.ipynb\n",
      "07/13/2019  10:17 AM             8,986 Python Errors.ipynb\n",
      "07/13/2019  10:17 AM               538 Python Exercises.md\n",
      "07/18/2019  04:57 PM            43,577 Python File IO.ipynb\n",
      "07/13/2019  10:17 AM            50,238 Python File Operations 2 Binary Files and Pickle in class 21.05.2019.ipynb\n",
      "07/15/2019  06:02 PM            54,940 Python Flow Control.ipynb\n",
      "07/15/2019  04:10 PM               219 Python Flow Control.md\n",
      "07/16/2019  06:09 PM         4,028,856 Python Functions.ipynb\n",
      "07/16/2019  04:04 PM               622 Python Functions.md\n",
      "07/13/2019  12:02 PM            46,952 Python Introduction.ipynb\n",
      "07/13/2019  10:17 AM             4,119 Python Learning Resources.ipynb\n",
      "07/13/2019  10:17 AM             1,103 Python Learning Resources.md\n",
      "07/13/2019  10:17 AM             4,520 Python List Comprehension.ipynb\n",
      "07/13/2019  02:09 PM            35,953 Python Lists.ipynb\n",
      "07/13/2019  10:17 AM            17,034 Python Modules and Imports.ipynb\n",
      "07/18/2019  04:03 PM               786 Python Reading Writing Files.md\n",
      "07/16/2019  05:30 PM            12,423 Python Sets.ipynb\n",
      "07/13/2019  01:08 PM            34,381 Python Strings.ipynb\n",
      "07/16/2019  05:22 PM            18,893 Python Tuples.ipynb\n",
      "07/13/2019  10:17 AM           113,049 Python Variables and Data Types.ipynb\n",
      "07/13/2019  10:17 AM               950 Python_Dictionaries.md\n",
      "07/13/2019  10:17 AM               482 Python_Lists.md\n",
      "07/13/2019  10:17 AM               935 Python_List_Exercise_1.ipynb\n",
      "07/18/2019  04:03 PM             8,110 Reading ipynb.ipynb\n",
      "07/13/2019  10:23 AM             2,432 README.md\n",
      "07/18/2019  04:55 PM                84 somefile.txt\n",
      "              39 File(s)     12,072,438 bytes\n",
      "               5 Dir(s)  430,779,187,200 bytes free\n"
     ]
    }
   ],
   "source": [
    "!dir"
   ]
  },
  {
   "cell_type": "code",
   "execution_count": 83,
   "metadata": {},
   "outputs": [],
   "source": [
    "mylist = list(range(1,30))\n",
    "mytextlist = [str(x)+'\\n' for x in range(1,30)]\n",
    "with open('list.txt', mode='w') as fwriter:\n",
    "    fwriter.writelines(mytextlist)\n"
   ]
  },
  {
   "cell_type": "code",
   "execution_count": 84,
   "metadata": {},
   "outputs": [],
   "source": [
    "with open('biglist.txt', mode='w') as fwriter:\n",
    "    for n in range(1,1_000_000):\n",
    "        fwriter.write('Line:'+ str(n)+'\\n')\n"
   ]
  },
  {
   "cell_type": "code",
   "execution_count": null,
   "metadata": {},
   "outputs": [],
   "source": [
    "# Optimal writing for large files will be between how much you can hold in memory and how big the file will be"
   ]
  },
  {
   "cell_type": "markdown",
   "metadata": {},
   "source": [
    "## More on String Formatting"
   ]
  },
  {
   "cell_type": "markdown",
   "metadata": {},
   "source": [
    "## How do you convert values to strings? \n",
    "\n",
    "### In Python: pass it to the repr() or str() functions.\n",
    "\n",
    "The str() function is meant to return representations of values which are fairly human-readable, while repr() is meant to generate representations which can be read by the interpreter (or will force a SyntaxError if there is no equivalent syntax). For objects which don’t have a particular representation for human consumption, str() will return the same value as repr(). "
   ]
  },
  {
   "cell_type": "code",
   "execution_count": 1,
   "metadata": {},
   "outputs": [
    {
     "name": "stdout",
     "output_type": "stream",
     "text": [
      "34341235421\n",
      "54\n",
      "54\n"
     ]
    },
    {
     "data": {
      "text/plain": [
       "True"
      ]
     },
     "execution_count": 1,
     "metadata": {},
     "output_type": "execute_result"
    }
   ],
   "source": [
    "print(str(34341235421))\n",
    "print(repr(54))\n",
    "print(str(54))\n",
    "str(54)==repr(54)"
   ]
  },
  {
   "cell_type": "code",
   "execution_count": 1,
   "metadata": {},
   "outputs": [
    {
     "name": "stdout",
     "output_type": "stream",
     "text": [
      "Hello\n",
      "\n",
      "'Hello\\n'\n"
     ]
    },
    {
     "data": {
      "text/plain": [
       "False"
      ]
     },
     "execution_count": 1,
     "metadata": {},
     "output_type": "execute_result"
    }
   ],
   "source": [
    "hi = \"Hello\\n\"\n",
    "hir = repr(hi)\n",
    "print(hi)\n",
    "print(hir)\n",
    "hir==hi"
   ]
  },
  {
   "cell_type": "markdown",
   "metadata": {},
   "source": [
    "### The goal of __repr__ is to be unambiguous: \n",
    "### The goal of __str__ is to be readable\n",
    "\n",
    "## In other words: __repr__ is for developers, __str__ is for customers (end users)"
   ]
  },
  {
   "cell_type": "code",
   "execution_count": 5,
   "metadata": {},
   "outputs": [
    {
     "name": "stdout",
     "output_type": "stream",
     "text": [
      " 1   1 1.000000\n",
      " 2   4 8.000000\n",
      " 3   9 27.000000\n",
      " 4  16 64.000000\n",
      " 5  25 125.000000\n",
      " 6  36 216.000000\n",
      " 7  49 343.000000\n",
      " 8  64 512.000000\n",
      " 9  81 729.000000\n",
      "10 100 1000.000000\n",
      "11 121 1331.000000\n"
     ]
    }
   ],
   "source": [
    "for x in range(1,12):\n",
    "    print(f'{x:2d} {x*x:3d} {x**3:4f}')"
   ]
  },
  {
   "cell_type": "code",
   "execution_count": 2,
   "metadata": {},
   "outputs": [
    {
     "data": {
      "text/plain": [
       "'-003.14'"
      ]
     },
     "execution_count": 2,
     "metadata": {},
     "output_type": "execute_result"
    }
   ],
   "source": [
    "'-3.14'.zfill(7) # pads numeric string on the left with zeros"
   ]
  },
  {
   "cell_type": "code",
   "execution_count": 66,
   "metadata": {},
   "outputs": [
    {
     "name": "stdout",
     "output_type": "stream",
     "text": [
      "1 squared is 1\n",
      "2 squared is 4\n",
      "3 squared is 9\n",
      "4 squared is 16\n",
      "5 squared is 25\n",
      "6 squared is 36\n",
      "7 squared is 49\n",
      "8 squared is 64\n",
      "9 squared is 81\n",
      "10 squared is 100\n"
     ]
    }
   ],
   "source": [
    "# write to a text file squares.txt first 10 squares\n",
    "# 1 squared is 1\n",
    "# 2 squared is 4\n",
    "for n in range(1,11):\n",
    "    print(f'{n} squared is {n*n}')\n"
   ]
  },
  {
   "cell_type": "code",
   "execution_count": 68,
   "metadata": {},
   "outputs": [
    {
     "name": "stdout",
     "output_type": "stream",
     "text": [
      "1 squared is 1\n",
      "\n",
      "2 squared is 4\n",
      "\n",
      "3 squared is 9\n",
      "\n",
      "4 squared is 16\n",
      "\n",
      "5 squared is 25\n",
      "\n",
      "6 squared is 36\n",
      "\n",
      "7 squared is 49\n",
      "\n",
      "8 squared is 64\n",
      "\n",
      "9 squared is 81\n",
      "\n",
      "10 squared is 100\n",
      "\n"
     ]
    }
   ],
   "source": [
    "# write to a text file squares.txt first 10 squares\n",
    "# 1 squared is 1\n",
    "# 2 squared is 4\n",
    "with open('squares.txt', mode='w') as f:\n",
    "    for n in range(1,11):\n",
    "        myline = f'{n} squared is {n*n}\\n'\n",
    "        print(myline)\n",
    "        f.write(myline)\n"
   ]
  },
  {
   "cell_type": "code",
   "execution_count": 70,
   "metadata": {},
   "outputs": [],
   "source": [
    "# write to a text file squares.txt first 10 squares\n",
    "# 1 squared is 1\n",
    "# 2 squared is 4\n",
    "with open('squares2.txt', mode='w') as f:\n",
    "    mylines = [f'{n} squared is {n*n}\\n' for n in range(1,11)]\n",
    "    f.writelines(mylines)"
   ]
  },
  {
   "cell_type": "code",
   "execution_count": 75,
   "metadata": {},
   "outputs": [
    {
     "name": "stdout",
     "output_type": "stream",
     "text": [
      "1 squared is 1\n",
      "2 squared is 4\n",
      "3 squared is 9\n",
      "4 squared is 16\n",
      "5 squared is 25\n",
      "6 squared is 36\n",
      "7 squared is 49\n",
      "8 squared is 64\n",
      "9 squared is 81\n",
      "10 squared is 100\n"
     ]
    }
   ],
   "source": [
    "with open('squares2.txt') as f:\n",
    "    for line in f:\n",
    "        # do something with line for example print it\n",
    "        print(line, end=\"\")"
   ]
  },
  {
   "cell_type": "code",
   "execution_count": 76,
   "metadata": {},
   "outputs": [
    {
     "data": {
      "text/plain": [
       "_io.TextIOWrapper"
      ]
     },
     "execution_count": 76,
     "metadata": {},
     "output_type": "execute_result"
    }
   ],
   "source": [
    "type(f)"
   ]
  },
  {
   "cell_type": "code",
   "execution_count": 77,
   "metadata": {},
   "outputs": [
    {
     "data": {
      "text/plain": [
       "['_CHUNK_SIZE',\n",
       " '__class__',\n",
       " '__del__',\n",
       " '__delattr__',\n",
       " '__dict__',\n",
       " '__dir__',\n",
       " '__doc__',\n",
       " '__enter__',\n",
       " '__eq__',\n",
       " '__exit__',\n",
       " '__format__',\n",
       " '__ge__',\n",
       " '__getattribute__',\n",
       " '__getstate__',\n",
       " '__gt__',\n",
       " '__hash__',\n",
       " '__init__',\n",
       " '__init_subclass__',\n",
       " '__iter__',\n",
       " '__le__',\n",
       " '__lt__',\n",
       " '__ne__',\n",
       " '__new__',\n",
       " '__next__',\n",
       " '__reduce__',\n",
       " '__reduce_ex__',\n",
       " '__repr__',\n",
       " '__setattr__',\n",
       " '__sizeof__',\n",
       " '__str__',\n",
       " '__subclasshook__',\n",
       " '_checkClosed',\n",
       " '_checkReadable',\n",
       " '_checkSeekable',\n",
       " '_checkWritable',\n",
       " '_finalizing',\n",
       " 'buffer',\n",
       " 'close',\n",
       " 'closed',\n",
       " 'detach',\n",
       " 'encoding',\n",
       " 'errors',\n",
       " 'fileno',\n",
       " 'flush',\n",
       " 'isatty',\n",
       " 'line_buffering',\n",
       " 'mode',\n",
       " 'name',\n",
       " 'newlines',\n",
       " 'read',\n",
       " 'readable',\n",
       " 'readline',\n",
       " 'readlines',\n",
       " 'reconfigure',\n",
       " 'seek',\n",
       " 'seekable',\n",
       " 'tell',\n",
       " 'truncate',\n",
       " 'writable',\n",
       " 'write',\n",
       " 'write_through',\n",
       " 'writelines']"
      ]
     },
     "execution_count": 77,
     "metadata": {},
     "output_type": "execute_result"
    }
   ],
   "source": [
    "dir(f)"
   ]
  },
  {
   "cell_type": "code",
   "execution_count": 78,
   "metadata": {},
   "outputs": [],
   "source": [
    "f.close()"
   ]
  },
  {
   "cell_type": "code",
   "execution_count": 79,
   "metadata": {},
   "outputs": [
    {
     "ename": "ValueError",
     "evalue": "I/O operation on closed file.",
     "output_type": "error",
     "traceback": [
      "\u001b[1;31m---------------------------------------------------------------------------\u001b[0m",
      "\u001b[1;31mValueError\u001b[0m                                Traceback (most recent call last)",
      "\u001b[1;32m<ipython-input-79-8c1202e4bc41>\u001b[0m in \u001b[0;36m<module>\u001b[1;34m\u001b[0m\n\u001b[1;32m----> 1\u001b[1;33m \u001b[0mf\u001b[0m\u001b[1;33m.\u001b[0m\u001b[0mreadlines\u001b[0m\u001b[1;33m(\u001b[0m\u001b[1;36m0\u001b[0m\u001b[1;33m)\u001b[0m\u001b[1;33m\u001b[0m\u001b[1;33m\u001b[0m\u001b[0m\n\u001b[0m",
      "\u001b[1;31mValueError\u001b[0m: I/O operation on closed file."
     ]
    }
   ],
   "source": [
    "f.readlines()"
   ]
  },
  {
   "cell_type": "code",
   "execution_count": null,
   "metadata": {},
   "outputs": [],
   "source": [
    "## Homework\n",
    "## Write function which writes Fizzbuzz 1 to 100 (5,7) to file fizzbuzz.txt\n",
    "## Format example:\n",
    "## 1: 1\n",
    "## 2: 2\n",
    "## 5: Fizz\n",
    "## 6: 6\n",
    "## 7: Buzz\n",
    "#... 35: FizzBuzz"
   ]
  }
 ],
 "metadata": {
  "kernelspec": {
   "display_name": "Python 3",
   "language": "python",
   "name": "python3"
  },
  "language_info": {
   "codemirror_mode": {
    "name": "ipython",
    "version": 3
   },
   "file_extension": ".py",
   "mimetype": "text/x-python",
   "name": "python",
   "nbconvert_exporter": "python",
   "pygments_lexer": "ipython3",
   "version": "3.7.3"
  }
 },
 "nbformat": 4,
 "nbformat_minor": 2
}
