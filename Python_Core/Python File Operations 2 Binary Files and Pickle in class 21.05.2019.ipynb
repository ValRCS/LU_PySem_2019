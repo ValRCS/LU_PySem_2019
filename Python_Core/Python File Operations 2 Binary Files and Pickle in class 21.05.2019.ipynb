{
 "cells": [
  {
   "cell_type": "markdown",
   "metadata": {},
   "source": [
    "## RCS Python File Operations 2"
   ]
  },
  {
   "cell_type": "markdown",
   "metadata": {},
   "source": [
    "# Binary Files"
   ]
  },
  {
   "cell_type": "code",
   "execution_count": 2,
   "metadata": {},
   "outputs": [],
   "source": [
    "with open(\"myfile.bin\", \"wb\") as f:\n",
    "    f.write(b'\\x30\\x31\\x09\\x32\\x20\\x52\\x43\\x53\\x0A\\x51\\xFE\\x00\\xFF') # notice b prefix!!\n"
   ]
  },
  {
   "cell_type": "code",
   "execution_count": null,
   "metadata": {},
   "outputs": [],
   "source": []
  },
  {
   "cell_type": "code",
   "execution_count": 3,
   "metadata": {},
   "outputs": [
    {
     "name": "stdout",
     "output_type": "stream",
     "text": [
      "['01\\t2 RCS\\n', 'Qþ\\x00ÿ']\n",
      "01\t2 RCS\n",
      "\n",
      "01\t2 RCS\n",
      "Qþ\u0000ÿ\n"
     ]
    }
   ],
   "source": [
    "with open(\"myfile.bin\", \"r\") as f:\n",
    "    lines=f.readlines()\n",
    "    f.seek(0)\n",
    "    text=f.read()\n",
    "print(lines)\n",
    "print(lines[0])\n",
    "print(text)"
   ]
  },
  {
   "cell_type": "markdown",
   "metadata": {},
   "source": [
    "ASCII Codes\n",
    "https://en.wikipedia.org/wiki/ASCII"
   ]
  },
  {
   "cell_type": "code",
   "execution_count": 4,
   "metadata": {},
   "outputs": [],
   "source": [
    "with open(\"myfile.bin\", \"rb\") as f:\n",
    "    blines=f.readlines()"
   ]
  },
  {
   "cell_type": "code",
   "execution_count": 5,
   "metadata": {},
   "outputs": [
    {
     "name": "stdout",
     "output_type": "stream",
     "text": [
      "[b'01\\t2 RCS\\n', b'Q\\xfe\\x00\\xff']\n"
     ]
    }
   ],
   "source": [
    "print(blines)"
   ]
  },
  {
   "cell_type": "code",
   "execution_count": null,
   "metadata": {},
   "outputs": [],
   "source": [
    "blines"
   ]
  },
  {
   "cell_type": "markdown",
   "metadata": {},
   "source": [
    "## For more complicated binary writing and reading of binaries \n",
    "### pickle standard library is recommended\n",
    "\n",
    "https://docs.python.org/3/library/pickle.html"
   ]
  },
  {
   "cell_type": "code",
   "execution_count": 7,
   "metadata": {},
   "outputs": [],
   "source": [
    "import pickle"
   ]
  },
  {
   "cell_type": "code",
   "execution_count": 8,
   "metadata": {},
   "outputs": [],
   "source": [
    "with open(\"myfile.bin\", \"wb\") as f:\n",
    "    myint = 42\n",
    "    mystring = \"Hello, RCS!\"\n",
    "    mylist = [\"sun\", \"moon\", \"earth\"]\n",
    "    mydict = { \"name\": \"Val\", \"job\": \"Teacher\" }   \n",
    "    pickle.dump(myint, f)\n",
    "    pickle.dump(mystring, f)\n",
    "    pickle.dump(mylist, f)\n",
    "    pickle.dump(mydict, f)\n"
   ]
  },
  {
   "cell_type": "code",
   "execution_count": 9,
   "metadata": {},
   "outputs": [
    {
     "data": {
      "text/plain": [
       "'€\\x03K*.€\\x03X\\x0b\\x00\\x00\\x00Hello, RCS!q\\x00.€\\x03]q\\x00(X\\x03\\x00\\x00\\x00sunq\\x01X\\x04\\x00\\x00\\x00moonq\\x02X\\x05\\x00\\x00\\x00earthq\\x03e.€\\x03}q\\x00(X\\x04\\x00\\x00\\x00nameq\\x01X\\x03\\x00\\x00\\x00Valq\\x02X\\x03\\x00\\x00\\x00jobq\\x03X\\x07\\x00\\x00\\x00Teacherq\\x04u.'"
      ]
     },
     "execution_count": 9,
     "metadata": {},
     "output_type": "execute_result"
    }
   ],
   "source": [
    "with open(\"myfile.bin\", \"r\", encoding=None) as f:\n",
    "    mf=f.read()\n",
    "mf"
   ]
  },
  {
   "cell_type": "markdown",
   "metadata": {},
   "source": [
    "### Not very helpful is it? Better to use pickle to retrieve the data and \"unpickle\" it"
   ]
  },
  {
   "cell_type": "code",
   "execution_count": 10,
   "metadata": {},
   "outputs": [],
   "source": [
    "with open(\"myfile.bin\", \"rb\") as f:\n",
    "    myint = pickle.load(f)\n",
    "    mystring = pickle.load(f)\n",
    "    mylist = pickle.load(f)\n",
    "    mydict = pickle.load(f)  \n"
   ]
  },
  {
   "cell_type": "code",
   "execution_count": 11,
   "metadata": {},
   "outputs": [
    {
     "data": {
      "text/plain": [
       "(42, 'Hello, RCS!')"
      ]
     },
     "execution_count": 11,
     "metadata": {},
     "output_type": "execute_result"
    }
   ],
   "source": [
    "myint,mystring"
   ]
  },
  {
   "cell_type": "code",
   "execution_count": 12,
   "metadata": {},
   "outputs": [
    {
     "data": {
      "text/plain": [
       "['sun', 'moon', 'earth']"
      ]
     },
     "execution_count": 12,
     "metadata": {},
     "output_type": "execute_result"
    }
   ],
   "source": [
    "mylist"
   ]
  },
  {
   "cell_type": "code",
   "execution_count": 13,
   "metadata": {},
   "outputs": [
    {
     "data": {
      "text/plain": [
       "{'name': 'Val', 'job': 'Teacher'}"
      ]
     },
     "execution_count": 13,
     "metadata": {},
     "output_type": "execute_result"
    }
   ],
   "source": [
    "mydict"
   ]
  },
  {
   "cell_type": "code",
   "execution_count": 15,
   "metadata": {},
   "outputs": [
    {
     "name": "stdout",
     "output_type": "stream",
     "text": [
      "End of file reached!\n",
      "Going to close file now\n"
     ]
    }
   ],
   "source": [
    "# Recipe for opening a pickled file with unknown number of variables\n",
    "with open('myfile.bin', \"rb\") as f:\n",
    "    mylist = []\n",
    "    while True:\n",
    "        try:\n",
    "            mylist.append(pickle.load(f))\n",
    "        except EOFError:\n",
    "            print(\"End of file reached!\")\n",
    "            break\n",
    "    print(\"Going to close file now\")"
   ]
  },
  {
   "cell_type": "code",
   "execution_count": 16,
   "metadata": {},
   "outputs": [
    {
     "data": {
      "text/plain": [
       "4"
      ]
     },
     "execution_count": 16,
     "metadata": {},
     "output_type": "execute_result"
    }
   ],
   "source": [
    "len(mylist)"
   ]
  },
  {
   "cell_type": "code",
   "execution_count": 17,
   "metadata": {},
   "outputs": [
    {
     "data": {
      "text/plain": [
       "{'name': 'Val', 'job': 'Teacher'}"
      ]
     },
     "execution_count": 17,
     "metadata": {},
     "output_type": "execute_result"
    }
   ],
   "source": [
    "mylist[3]"
   ]
  },
  {
   "cell_type": "code",
   "execution_count": 19,
   "metadata": {},
   "outputs": [
    {
     "name": "stdout",
     "output_type": "stream",
     "text": [
      "<class 'int'>\n",
      "<class 'str'>\n",
      "<class 'list'>\n",
      "<class 'dict'>\n"
     ]
    }
   ],
   "source": [
    "# write a for loop printing all data types in mylist\n",
    "for item in mylist:\n",
    "    print(type(item))"
   ]
  },
  {
   "cell_type": "code",
   "execution_count": 18,
   "metadata": {},
   "outputs": [
    {
     "name": "stdout",
     "output_type": "stream",
     "text": [
      "42 Hello, RCS! [42, 'Hello, RCS!', ['sun', 'moon', 'earth'], {'name': 'Val', 'job': 'Teacher'}] {'name': 'Val', 'job': 'Teacher'}\n"
     ]
    }
   ],
   "source": [
    "print(myint,mystring,mylist,mydict)"
   ]
  },
  {
   "cell_type": "code",
   "execution_count": null,
   "metadata": {},
   "outputs": [],
   "source": []
  },
  {
   "cell_type": "code",
   "execution_count": 20,
   "metadata": {},
   "outputs": [
    {
     "name": "stdout",
     "output_type": "stream",
     "text": [
      "C:\\Users\\val-p1\\Github\\RCS_Data_Analysis_Python_2019_July\n"
     ]
    }
   ],
   "source": [
    "import os\n",
    "print(os.getcwd()) # cwd - current working directory"
   ]
  },
  {
   "cell_type": "code",
   "execution_count": null,
   "metadata": {},
   "outputs": [],
   "source": [
    "mycwd = os.getcwd()\n",
    "mycwd"
   ]
  },
  {
   "cell_type": "code",
   "execution_count": null,
   "metadata": {},
   "outputs": [],
   "source": [
    "%pwd"
   ]
  },
  {
   "cell_type": "code",
   "execution_count": null,
   "metadata": {},
   "outputs": [],
   "source": [
    "!dir"
   ]
  },
  {
   "cell_type": "code",
   "execution_count": 21,
   "metadata": {},
   "outputs": [
    {
     "data": {
      "text/plain": [
       "'val-p1'"
      ]
     },
     "execution_count": 21,
     "metadata": {},
     "output_type": "execute_result"
    }
   ],
   "source": [
    "os.getlogin()"
   ]
  },
  {
   "cell_type": "code",
   "execution_count": 22,
   "metadata": {},
   "outputs": [
    {
     "data": {
      "text/plain": [
       "'C:\\\\Users\\\\val-p1\\\\Github\\\\RCS_Data_Analysis_Python_2019_July'"
      ]
     },
     "execution_count": 22,
     "metadata": {},
     "output_type": "execute_result"
    }
   ],
   "source": [
    "os.getcwd()"
   ]
  },
  {
   "cell_type": "code",
   "execution_count": 23,
   "metadata": {},
   "outputs": [],
   "source": [
    "os.rename('numbers.txt', 'bignumbers.txt')"
   ]
  },
  {
   "cell_type": "code",
   "execution_count": 24,
   "metadata": {},
   "outputs": [
    {
     "data": {
      "text/plain": [
       "['.git',\n",
       " '.ipynb_checkpoints',\n",
       " 'All_Any.ipynb',\n",
       " 'biglist.txt',\n",
       " 'bignumbers.txt']"
      ]
     },
     "execution_count": 24,
     "metadata": {},
     "output_type": "execute_result"
    }
   ],
   "source": [
    "myfiles = os.listdir()\n",
    "myfiles[:5]"
   ]
  },
  {
   "cell_type": "code",
   "execution_count": null,
   "metadata": {},
   "outputs": [],
   "source": [
    "myfiles"
   ]
  },
  {
   "cell_type": "code",
   "execution_count": 25,
   "metadata": {},
   "outputs": [
    {
     "data": {
      "text/plain": [
       "'bignumbers.txt'"
      ]
     },
     "execution_count": 25,
     "metadata": {},
     "output_type": "execute_result"
    }
   ],
   "source": [
    "myfiles[4]"
   ]
  },
  {
   "cell_type": "code",
   "execution_count": 26,
   "metadata": {},
   "outputs": [
    {
     "data": {
      "text/plain": [
       "True"
      ]
     },
     "execution_count": 26,
     "metadata": {},
     "output_type": "execute_result"
    }
   ],
   "source": [
    "'.txt' in myfiles[4]"
   ]
  },
  {
   "cell_type": "code",
   "execution_count": 27,
   "metadata": {},
   "outputs": [
    {
     "data": {
      "text/plain": [
       "False"
      ]
     },
     "execution_count": 27,
     "metadata": {},
     "output_type": "execute_result"
    }
   ],
   "source": [
    "'.txt' in myfiles[2]"
   ]
  },
  {
   "cell_type": "code",
   "execution_count": null,
   "metadata": {},
   "outputs": [],
   "source": [
    "# How do we select only text files"
   ]
  },
  {
   "cell_type": "code",
   "execution_count": 28,
   "metadata": {},
   "outputs": [
    {
     "data": {
      "text/plain": [
       "['biglist.txt',\n",
       " 'bignumbers.txt',\n",
       " 'list.txt',\n",
       " 'numbers16_48_38.txt',\n",
       " 'numbers16_48_9.txt',\n",
       " 'somefile.txt']"
      ]
     },
     "execution_count": 28,
     "metadata": {},
     "output_type": "execute_result"
    }
   ],
   "source": [
    "# We can create a new list of only text files (with extension .txt)\n",
    "mytextfiles = [file for file in myfiles if '.txt' in file]\n",
    "mytextfiles"
   ]
  },
  {
   "cell_type": "code",
   "execution_count": 29,
   "metadata": {},
   "outputs": [
    {
     "data": {
      "text/plain": [
       "['biglist.txt',\n",
       " 'bignumbers.txt',\n",
       " 'list.txt',\n",
       " 'numbers16_48_38.txt',\n",
       " 'numbers16_48_9.txt',\n",
       " 'somefile.txt']"
      ]
     },
     "execution_count": 29,
     "metadata": {},
     "output_type": "execute_result"
    }
   ],
   "source": [
    "mytxtlist = []\n",
    "for item in myfiles:\n",
    "    if '.txt' in item:\n",
    "        mytxtlist.append(item)\n",
    "        # we could do more stuff here not just make a list\n",
    "mytxtlist"
   ]
  },
  {
   "cell_type": "code",
   "execution_count": null,
   "metadata": {},
   "outputs": [],
   "source": [
    "os"
   ]
  },
  {
   "cell_type": "code",
   "execution_count": 30,
   "metadata": {},
   "outputs": [],
   "source": [
    "result = []\n",
    "for file in mytextfiles:\n",
    "    with open(file) as f:\n",
    "        txt = f.read() # careful here, we might not want to read the full file\n",
    "        result.append(len(txt))\n",
    "        "
   ]
  },
  {
   "cell_type": "code",
   "execution_count": 31,
   "metadata": {},
   "outputs": [
    {
     "data": {
      "text/plain": [
       "[11888883, 275, 78, 158, 158, 80]"
      ]
     },
     "execution_count": 31,
     "metadata": {},
     "output_type": "execute_result"
    }
   ],
   "source": [
    "result"
   ]
  },
  {
   "cell_type": "code",
   "execution_count": 32,
   "metadata": {},
   "outputs": [
    {
     "data": {
      "text/plain": [
       "[('biglist.txt', 12888882),\n",
       " ('bignumbers.txt', 285),\n",
       " ('list.txt', 107),\n",
       " ('numbers16_48_38.txt', 167),\n",
       " ('numbers16_48_9.txt', 167),\n",
       " ('somefile.txt', 84)]"
      ]
     },
     "execution_count": 32,
     "metadata": {},
     "output_type": "execute_result"
    }
   ],
   "source": [
    "filesizes = []\n",
    "for file in mytextfiles:\n",
    "    filesizes.append((file, os.path.getsize(file)))\n",
    "filesizes"
   ]
  },
  {
   "cell_type": "code",
   "execution_count": 33,
   "metadata": {},
   "outputs": [],
   "source": [
    "# list comprehension will be shorter\n",
    "filesizes = [(file, os.path.getsize(file)) for file in mytextfiles]"
   ]
  },
  {
   "cell_type": "code",
   "execution_count": 34,
   "metadata": {},
   "outputs": [
    {
     "data": {
      "text/plain": [
       "[('biglist.txt', 12888882),\n",
       " ('bignumbers.txt', 285),\n",
       " ('list.txt', 107),\n",
       " ('numbers16_48_38.txt', 167),\n",
       " ('numbers16_48_9.txt', 167),\n",
       " ('somefile.txt', 84)]"
      ]
     },
     "execution_count": 34,
     "metadata": {},
     "output_type": "execute_result"
    }
   ],
   "source": [
    "filesizes"
   ]
  },
  {
   "cell_type": "code",
   "execution_count": 35,
   "metadata": {},
   "outputs": [
    {
     "data": {
      "text/plain": [
       "{'biglist.txt': 12888882,\n",
       " 'bignumbers.txt': 285,\n",
       " 'list.txt': 107,\n",
       " 'numbers16_48_38.txt': 167,\n",
       " 'numbers16_48_9.txt': 167,\n",
       " 'somefile.txt': 84}"
      ]
     },
     "execution_count": 35,
     "metadata": {},
     "output_type": "execute_result"
    }
   ],
   "source": [
    "filedict = {}\n",
    "for file in mytextfiles:\n",
    "    filedict[file] = os.path.getsize(file)\n",
    "filedict"
   ]
  },
  {
   "cell_type": "code",
   "execution_count": 36,
   "metadata": {},
   "outputs": [
    {
     "name": "stdout",
     "output_type": "stream",
     "text": [
      "mytextfiles is a  <class 'list'>\n"
     ]
    },
    {
     "data": {
      "text/plain": [
       "{'biglist.txt': 12888882,\n",
       " 'bignumbers.txt': 285,\n",
       " 'list.txt': 107,\n",
       " 'numbers16_48_38.txt': 167,\n",
       " 'numbers16_48_9.txt': 167,\n",
       " 'somefile.txt': 84}"
      ]
     },
     "execution_count": 36,
     "metadata": {},
     "output_type": "execute_result"
    }
   ],
   "source": [
    "print('mytextfiles is a ', type(mytextfiles))\n",
    "# one line dictionary comprehension\n",
    "fdict = {f:os.path.getsize(f) for f in mytextfiles}\n",
    "fdict"
   ]
  },
  {
   "cell_type": "code",
   "execution_count": null,
   "metadata": {},
   "outputs": [],
   "source": [
    "result"
   ]
  },
  {
   "cell_type": "code",
   "execution_count": 37,
   "metadata": {},
   "outputs": [
    {
     "data": {
      "text/plain": [
       "['$Recycle.Bin',\n",
       " 'bin',\n",
       " 'Documents and Settings',\n",
       " 'DRIVERS',\n",
       " 'hiberfil.sys',\n",
       " 'Intel',\n",
       " 'MSOCache',\n",
       " 'pagefile.sys',\n",
       " 'PerfLogs',\n",
       " 'Program Files',\n",
       " 'Program Files (x86)',\n",
       " 'ProgramData',\n",
       " 'Recovery',\n",
       " 'swapfile.sys',\n",
       " 'System Volume Information',\n",
       " 'TVicPortPersonal',\n",
       " 'Users',\n",
       " 'Windows',\n",
       " 'xampp']"
      ]
     },
     "execution_count": 37,
     "metadata": {},
     "output_type": "execute_result"
    }
   ],
   "source": [
    "os.listdir('C:\\\\')"
   ]
  },
  {
   "cell_type": "code",
   "execution_count": 38,
   "metadata": {},
   "outputs": [
    {
     "data": {
      "text/plain": [
       "'c:\\\\'"
      ]
     },
     "execution_count": 38,
     "metadata": {},
     "output_type": "execute_result"
    }
   ],
   "source": [
    "os.chdir(\"c:\\\\\")\n",
    "os.getcwd()\n"
   ]
  },
  {
   "cell_type": "code",
   "execution_count": 39,
   "metadata": {},
   "outputs": [
    {
     "ename": "NameError",
     "evalue": "name 'mycwd' is not defined",
     "output_type": "error",
     "traceback": [
      "\u001b[1;31m---------------------------------------------------------------------------\u001b[0m",
      "\u001b[1;31mNameError\u001b[0m                                 Traceback (most recent call last)",
      "\u001b[1;32m<ipython-input-39-623ee24125da>\u001b[0m in \u001b[0;36m<module>\u001b[1;34m\u001b[0m\n\u001b[1;32m----> 1\u001b[1;33m \u001b[0mos\u001b[0m\u001b[1;33m.\u001b[0m\u001b[0mchdir\u001b[0m\u001b[1;33m(\u001b[0m\u001b[0mmycwd\u001b[0m\u001b[1;33m)\u001b[0m\u001b[1;33m\u001b[0m\u001b[1;33m\u001b[0m\u001b[0m\n\u001b[0m\u001b[0;32m      2\u001b[0m \u001b[0mos\u001b[0m\u001b[1;33m.\u001b[0m\u001b[0mgetcwd\u001b[0m\u001b[1;33m(\u001b[0m\u001b[1;33m)\u001b[0m\u001b[1;33m\u001b[0m\u001b[1;33m\u001b[0m\u001b[0m\n",
      "\u001b[1;31mNameError\u001b[0m: name 'mycwd' is not defined"
     ]
    }
   ],
   "source": [
    "os.chdir(mycwd)\n",
    "os.getcwd()"
   ]
  },
  {
   "cell_type": "code",
   "execution_count": 41,
   "metadata": {},
   "outputs": [
    {
     "data": {
      "text/plain": [
       "'C:\\\\Users\\\\val-p1'"
      ]
     },
     "execution_count": 41,
     "metadata": {},
     "output_type": "execute_result"
    }
   ],
   "source": [
    "os.path.expanduser('~')"
   ]
  },
  {
   "cell_type": "code",
   "execution_count": 43,
   "metadata": {},
   "outputs": [
    {
     "data": {
      "text/plain": [
       "'C:\\\\Users\\\\val-p1\\\\Github\\\\RCS_Data_Analysis_Python_2019_July'"
      ]
     },
     "execution_count": 43,
     "metadata": {},
     "output_type": "execute_result"
    }
   ],
   "source": [
    "os.chdir(os.path.expanduser('~')+\"\\\\Github\\\\RCS_Data_Analysis_Python_2019_July\")\n",
    "os.getcwd()"
   ]
  },
  {
   "cell_type": "markdown",
   "metadata": {},
   "source": [
    "\tThe os.path.join() function constructs a pathname out of one or more partial pathnames\n",
    "   **Don’t fuss with slashes; always use os.path.join() and let Python do the right thing.**"
   ]
  },
  {
   "cell_type": "code",
   "execution_count": 45,
   "metadata": {},
   "outputs": [
    {
     "data": {
      "text/plain": [
       "'C:\\\\Users\\\\val-p1\\\\Github\\\\RCS_Data_Analysis_Python_2019_July\\\\README.md'"
      ]
     },
     "execution_count": 45,
     "metadata": {},
     "output_type": "execute_result"
    }
   ],
   "source": [
    "# OS neutral path join should work on all OSes\n",
    "os.path.join(os.getcwd(), \"README.md\")"
   ]
  },
  {
   "cell_type": "code",
   "execution_count": null,
   "metadata": {},
   "outputs": [],
   "source": [
    "os.path.join(\"C:\\\\Users\\\\vsd\\\\Documents\\\\Github\\\\RCS_Python\",\"README.md\")"
   ]
  },
  {
   "cell_type": "code",
   "execution_count": 46,
   "metadata": {},
   "outputs": [
    {
     "name": "stdout",
     "output_type": "stream",
     "text": [
      "C:\\Users\\val-p1\\Github\\RCS_Data_Analysis_Python_2019_July\\README.md\n"
     ]
    }
   ],
   "source": [
    "print(os.path.join(os.path.expanduser('~'), 'Github', 'RCS_Data_Analysis_Python_2019_July', 'README.md')) "
   ]
  },
  {
   "cell_type": "code",
   "execution_count": 47,
   "metadata": {},
   "outputs": [
    {
     "name": "stdout",
     "output_type": "stream",
     "text": [
      "C:\\Users\\val-p1\\Github\\RCS_Data_Analysis_Python_2019_July\\Documents\\Github\\RCS_Python\\README.md\n"
     ]
    }
   ],
   "source": [
    "print(os.path.join(os.getcwd(),'Documents', 'Github', 'RCS_Python', 'README.md')) "
   ]
  },
  {
   "cell_type": "code",
   "execution_count": null,
   "metadata": {},
   "outputs": [],
   "source": []
  },
  {
   "cell_type": "code",
   "execution_count": 48,
   "metadata": {},
   "outputs": [
    {
     "data": {
      "text/plain": [
       "'C:\\\\Users\\\\val-p1\\\\Github'"
      ]
     },
     "execution_count": 48,
     "metadata": {},
     "output_type": "execute_result"
    }
   ],
   "source": [
    "newpath=os.path.join(os.path.expanduser('~'), 'Github')\n",
    "newpath"
   ]
  },
  {
   "cell_type": "code",
   "execution_count": null,
   "metadata": {},
   "outputs": [],
   "source": [
    "print(newpath) ## Aha pretty print!!"
   ]
  },
  {
   "cell_type": "code",
   "execution_count": null,
   "metadata": {},
   "outputs": [],
   "source": [
    "mypath=os.getcwd()\n",
    "mypath"
   ]
  },
  {
   "cell_type": "code",
   "execution_count": null,
   "metadata": {},
   "outputs": [],
   "source": [
    "mysplit = os.path.split(mypath)\n",
    "mysplit"
   ]
  },
  {
   "cell_type": "code",
   "execution_count": null,
   "metadata": {},
   "outputs": [],
   "source": [
    "mydir, myfname = os.path.split(mypath)\n",
    "print(mydir,\":\",myfname)"
   ]
  },
  {
   "cell_type": "markdown",
   "metadata": {},
   "source": [
    "The glob module finds all the pathnames matching a specified pattern according to the rules used by the Unix shell, although results are returned in arbitrary order."
   ]
  },
  {
   "cell_type": "code",
   "execution_count": null,
   "metadata": {},
   "outputs": [],
   "source": [
    "glob."
   ]
  },
  {
   "cell_type": "code",
   "execution_count": 49,
   "metadata": {},
   "outputs": [
    {
     "data": {
      "text/plain": [
       "['Python Classes.ipynb',\n",
       " 'Python Cleaning Up Text Files.ipynb',\n",
       " 'Python Data Structures Exercises.ipynb',\n",
       " 'Python Dictionaries.ipynb',\n",
       " 'Python Errors.ipynb',\n",
       " 'Python File IO.ipynb',\n",
       " 'Python File Operations 2 Binary Files and Pickle in class 21.05.2019.ipynb',\n",
       " 'Python Flow Control.ipynb',\n",
       " 'Python Functions.ipynb',\n",
       " 'Python Introduction.ipynb',\n",
       " 'Python Learning Resources.ipynb',\n",
       " 'Python List Comprehension.ipynb',\n",
       " 'Python Lists.ipynb',\n",
       " 'Python Modules and Imports.ipynb',\n",
       " 'Python Sets.ipynb',\n",
       " 'Python Strings.ipynb',\n",
       " 'Python Tuples.ipynb',\n",
       " 'Python Variables and Data Types.ipynb',\n",
       " 'Python_List_Exercise_1.ipynb']"
      ]
     },
     "execution_count": 49,
     "metadata": {},
     "output_type": "execute_result"
    }
   ],
   "source": [
    "# we can get a list of all files in current directory matching certaing wildcards\n",
    "from glob import glob as gl\n",
    "ifiles=gl('Python*.ipynb')\n",
    "ifiles"
   ]
  },
  {
   "cell_type": "code",
   "execution_count": null,
   "metadata": {},
   "outputs": [],
   "source": [
    "ipyth=glob.glob('*Python*.ipynb')\n",
    "ipyth"
   ]
  },
  {
   "cell_type": "code",
   "execution_count": null,
   "metadata": {},
   "outputs": [],
   "source": [
    "ifile2=glob.glob('*File*.*,*.md')\n",
    "ifile2"
   ]
  },
  {
   "cell_type": "code",
   "execution_count": 50,
   "metadata": {},
   "outputs": [],
   "source": [
    "# Find Matching Files recursively\n",
    "from pathlib import Path"
   ]
  },
  {
   "cell_type": "code",
   "execution_count": 53,
   "metadata": {},
   "outputs": [
    {
     "name": "stdout",
     "output_type": "stream",
     "text": [
      "('', 'biglist.txt')\n",
      "('', 'bignumbers.txt')\n",
      "('', 'list.txt')\n",
      "('', 'numbers16_48_38.txt')\n",
      "('', 'numbers16_48_9.txt')\n",
      "('', 'somefile.txt')\n",
      "('data', 'cleaned.txt')\n",
      "('data', 'Veidenbaums.txt')\n"
     ]
    }
   ],
   "source": [
    "# We find all matching text files with path and split the path from the filename\n",
    "for filename in Path('').glob('**/*.txt'):\n",
    "    print(os.path.split(filename))"
   ]
  },
  {
   "cell_type": "markdown",
   "metadata": {},
   "source": [
    "### New in version 3.4.\n",
    "\n",
    "For example, consider a directory containing the following files: 1.gif, 2.txt, card.gif and a subdirectory sub which contains only the file 3.txt. glob() will produce the following results. Notice how any leading components of the path are preserved."
   ]
  },
  {
   "cell_type": "code",
   "execution_count": null,
   "metadata": {},
   "outputs": [],
   "source": [
    "glob.glob('./*V*.*')"
   ]
  },
  {
   "cell_type": "code",
   "execution_count": null,
   "metadata": {},
   "outputs": [],
   "source": [
    "! mkdir Text # ! is Jupyter command for running OS commands b"
   ]
  },
  {
   "cell_type": "markdown",
   "metadata": {},
   "source": [
    "# File Operations directly from Python\n",
    "\n",
    "https://docs.python.org/3/library/subprocess.html#module-subprocess\n",
    "\n",
    "subprocess.run(args, *, stdin=None, input=None, stdout=None, stderr=None, shell=False, cwd=None, timeout=None, check=False, encoding=None, errors=None)"
   ]
  },
  {
   "cell_type": "code",
   "execution_count": null,
   "metadata": {},
   "outputs": [],
   "source": [
    "%pwd"
   ]
  },
  {
   "cell_type": "code",
   "execution_count": 54,
   "metadata": {},
   "outputs": [
    {
     "data": {
      "text/plain": [
       "['C:\\\\Users\\\\val-p1\\\\Github\\\\RCS_Data_Analysis_Python_2019_July',\n",
       " 'C:\\\\ProgramData\\\\Anaconda3\\\\python37.zip',\n",
       " 'C:\\\\ProgramData\\\\Anaconda3\\\\DLLs',\n",
       " 'C:\\\\ProgramData\\\\Anaconda3\\\\lib',\n",
       " 'C:\\\\ProgramData\\\\Anaconda3',\n",
       " '',\n",
       " 'C:\\\\ProgramData\\\\Anaconda3\\\\lib\\\\site-packages',\n",
       " 'C:\\\\ProgramData\\\\Anaconda3\\\\lib\\\\site-packages\\\\win32',\n",
       " 'C:\\\\ProgramData\\\\Anaconda3\\\\lib\\\\site-packages\\\\win32\\\\lib',\n",
       " 'C:\\\\ProgramData\\\\Anaconda3\\\\lib\\\\site-packages\\\\Pythonwin',\n",
       " 'C:\\\\ProgramData\\\\Anaconda3\\\\lib\\\\site-packages\\\\IPython\\\\extensions',\n",
       " 'C:\\\\Users\\\\val-p1\\\\.ipython']"
      ]
     },
     "execution_count": 54,
     "metadata": {},
     "output_type": "execute_result"
    }
   ],
   "source": [
    "import sys\n",
    "sys.path"
   ]
  },
  {
   "cell_type": "code",
   "execution_count": 55,
   "metadata": {},
   "outputs": [
    {
     "name": "stdout",
     "output_type": "stream",
     "text": [
      "CompletedProcess(args='calculator', returncode=1, stdout=b'')\n"
     ]
    }
   ],
   "source": [
    "import subprocess\n",
    "print(subprocess.run(\"calculator\", shell=True, stdout=subprocess.PIPE))"
   ]
  },
  {
   "cell_type": "code",
   "execution_count": 56,
   "metadata": {},
   "outputs": [
    {
     "name": "stdout",
     "output_type": "stream",
     "text": [
      "CompletedProcess(args='dir', returncode=0, stdout=b' Volume in drive C is Windows\\r\\n Volume Serial Number is 5AA0-2A07\\r\\n\\r\\n Directory of C:\\\\Users\\\\val-p1\\\\Github\\\\RCS_Data_Analysis_Python_2019_July\\r\\n\\r\\n07/18/2019  06:00 PM    <DIR>          .\\r\\n07/18/2019  06:00 PM    <DIR>          ..\\r\\n07/18/2019  05:24 PM    <DIR>          .ipynb_checkpoints\\r\\n07/13/2019  10:17 AM             7,614 All_Any.ipynb\\r\\n07/18/2019  05:07 PM        12,888,882 biglist.txt\\r\\n07/18/2019  04:52 PM               285 bignumbers.txt\\r\\n07/18/2019  04:03 PM    <DIR>          data\\r\\n07/13/2019  10:17 AM         7,435,248 Data_Analysis_Python_Introduction.pdf\\r\\n07/13/2019  10:17 AM             1,713 Git_Workflow.md\\r\\n07/16/2019  04:04 PM    <DIR>          img\\r\\n07/13/2019  10:17 AM               217 Jupyter with Python.md\\r\\n07/13/2019  10:17 AM             1,084 LICENSE\\r\\n07/18/2019  05:05 PM               107 list.txt\\r\\n07/18/2019  05:29 PM               120 myfile.bin\\r\\n07/18/2019  04:48 PM               167 numbers16_48_38.txt\\r\\n07/18/2019  04:48 PM               167 numbers16_48_9.txt\\r\\n07/13/2019  10:17 AM            38,870 Python Classes.ipynb\\r\\n07/13/2019  10:17 AM            47,880 Python Cleaning Up Text Files.ipynb\\r\\n07/13/2019  10:17 AM               489 Python Comparison operators.md\\r\\n07/13/2019  10:17 AM               203 Python Conditional Execution Branching.md\\r\\n07/13/2019  10:17 AM            10,380 Python Data Structures Exercises.ipynb\\r\\n07/13/2019  02:58 PM            37,939 Python Dictionaries.ipynb\\r\\n07/13/2019  10:17 AM             8,986 Python Errors.ipynb\\r\\n07/13/2019  10:17 AM               538 Python Exercises.md\\r\\n07/18/2019  05:10 PM            48,143 Python File IO.ipynb\\r\\n07/18/2019  06:00 PM            29,282 Python File Operations 2 Binary Files and Pickle in class 21.05.2019.ipynb\\r\\n07/15/2019  06:02 PM            54,940 Python Flow Control.ipynb\\r\\n07/15/2019  04:10 PM               219 Python Flow Control.md\\r\\n07/16/2019  06:09 PM         4,028,856 Python Functions.ipynb\\r\\n07/16/2019  04:04 PM               622 Python Functions.md\\r\\n07/13/2019  12:02 PM            46,952 Python Introduction.ipynb\\r\\n07/13/2019  10:17 AM             4,119 Python Learning Resources.ipynb\\r\\n07/13/2019  10:17 AM             1,103 Python Learning Resources.md\\r\\n07/13/2019  10:17 AM             4,520 Python List Comprehension.ipynb\\r\\n07/13/2019  02:09 PM            35,953 Python Lists.ipynb\\r\\n07/13/2019  10:17 AM            17,034 Python Modules and Imports.ipynb\\r\\n07/18/2019  04:03 PM               786 Python Reading Writing Files.md\\r\\n07/16/2019  05:30 PM            12,423 Python Sets.ipynb\\r\\n07/13/2019  01:08 PM            34,381 Python Strings.ipynb\\r\\n07/16/2019  05:22 PM            18,893 Python Tuples.ipynb\\r\\n07/13/2019  10:17 AM           113,049 Python Variables and Data Types.ipynb\\r\\n07/13/2019  10:17 AM               950 Python_Dictionaries.md\\r\\n07/13/2019  10:17 AM               482 Python_Lists.md\\r\\n07/13/2019  10:17 AM               935 Python_List_Exercise_1.ipynb\\r\\n07/18/2019  04:03 PM             8,110 Reading ipynb.ipynb\\r\\n07/13/2019  10:23 AM             2,432 README.md\\r\\n07/18/2019  04:55 PM                84 somefile.txt\\r\\n              42 File(s)     24,945,157 bytes\\r\\n               5 Dir(s)  430,780,170,240 bytes free\\r\\n')\n"
     ]
    }
   ],
   "source": [
    "import subprocess\n",
    "print(subprocess.run(\"dir\", shell=True, stdout=subprocess.PIPE)) ## Without pipe we will get no output"
   ]
  },
  {
   "cell_type": "code",
   "execution_count": 57,
   "metadata": {},
   "outputs": [
    {
     "name": "stdout",
     "output_type": "stream",
     "text": [
      "CompletedProcess(args='C:\\\\Program Files (x86)\\\\Google\\\\Chrome\\\\Application\\\\chrome.exe', returncode=0)\n"
     ]
    }
   ],
   "source": [
    "print(subprocess.run(\"C:\\\\Program Files (x86)\\\\Google\\\\Chrome\\\\Application\\\\chrome.exe\"))"
   ]
  },
  {
   "cell_type": "code",
   "execution_count": null,
   "metadata": {},
   "outputs": [],
   "source": [
    "print(subprocess.run(\"chrome.exe\"))"
   ]
  },
  {
   "cell_type": "code",
   "execution_count": null,
   "metadata": {},
   "outputs": [],
   "source": [
    "subprocess.run([\"mkdir\", \"testdir\"], shell=True, stdout=subprocess.PIPE)"
   ]
  },
  {
   "cell_type": "code",
   "execution_count": null,
   "metadata": {},
   "outputs": [],
   "source": [
    "import sys\n"
   ]
  },
  {
   "cell_type": "code",
   "execution_count": null,
   "metadata": {},
   "outputs": [],
   "source": [
    "! dir"
   ]
  },
  {
   "cell_type": "code",
   "execution_count": null,
   "metadata": {},
   "outputs": [],
   "source": [
    "%%writefile ./Text/Test.txt\n",
    "Just a simple text file\n",
    "Nothing special"
   ]
  },
  {
   "cell_type": "code",
   "execution_count": null,
   "metadata": {},
   "outputs": [],
   "source": [
    "! dir Text"
   ]
  },
  {
   "cell_type": "code",
   "execution_count": null,
   "metadata": {},
   "outputs": [],
   "source": [
    "glob.glob('**/*.txt', recursive=True) #We should also get subdirectory name"
   ]
  },
  {
   "cell_type": "code",
   "execution_count": null,
   "metadata": {},
   "outputs": [],
   "source": [
    "glob.glob('./*.md')"
   ]
  },
  {
   "cell_type": "code",
   "execution_count": null,
   "metadata": {},
   "outputs": [],
   "source": [
    "glob.glob('./?.md') # requires a single char only so we wont get a match for longer file names"
   ]
  },
  {
   "cell_type": "code",
   "execution_count": null,
   "metadata": {},
   "outputs": [],
   "source": [
    "meta = os.stat('README.md')\n",
    "print(type(meta),meta) # os.stat returns a class containing file meta information"
   ]
  },
  {
   "cell_type": "code",
   "execution_count": null,
   "metadata": {},
   "outputs": [],
   "source": [
    "import time\n",
    "time.localtime(meta.st_mtime) #mtime last modified tiem"
   ]
  },
  {
   "cell_type": "code",
   "execution_count": null,
   "metadata": {},
   "outputs": [],
   "source": [
    "## Homework 2 for file operations\n",
    "# Process 'resources\\\\cleaned.txt',\n",
    "# Generate a dictionary of words and their frequency - \"Un\" : 76\n",
    "# Save this dictionary in a text file, each word and frequency in a new line\n",
    "# Bonus for pickling the dictionary"
   ]
  }
 ],
 "metadata": {
  "kernelspec": {
   "display_name": "Python 3",
   "language": "python",
   "name": "python3"
  },
  "language_info": {
   "codemirror_mode": {
    "name": "ipython",
    "version": 3
   },
   "file_extension": ".py",
   "mimetype": "text/x-python",
   "name": "python",
   "nbconvert_exporter": "python",
   "pygments_lexer": "ipython3",
   "version": "3.7.3"
  }
 },
 "nbformat": 4,
 "nbformat_minor": 2
}
