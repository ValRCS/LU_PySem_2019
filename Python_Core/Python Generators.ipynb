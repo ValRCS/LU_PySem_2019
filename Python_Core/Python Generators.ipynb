{
 "cells": [
  {
   "cell_type": "markdown",
   "metadata": {},
   "source": [
    "# Generators\n",
    "\n",
    "(Functions that behave like iterators)\n",
    "\n",
    "---\n",
    "**Generator = A function which returns a generator iterator**\n",
    "\n",
    "It looks like a normal function except that it contains yield expressions for producing a series of values usable in a for-loop or that can be retrieved one at a time with the next() function.\n",
    "\n",
    "*Any function that contains `yield` becomes a generator!*\n",
    "\n",
    "https://docs.python.org/3.6/glossary.html#term-generator\n",
    "\n",
    "---\n",
    "\n",
    "https://docs.python.org/3.6/howto/functional.html?highlight=generator%20functions#generators\n",
    "\n",
    "https://jeffknupp.com/blog/2013/04/07/improve-your-python-yield-and-generators-explained/"
   ]
  },
  {
   "cell_type": "code",
   "execution_count": 21,
   "metadata": {},
   "outputs": [],
   "source": [
    "def f42():\n",
    "    \n",
    "    # infinite cycle\n",
    "    while True:\n",
    "        yield 42"
   ]
  },
  {
   "cell_type": "code",
   "execution_count": 22,
   "metadata": {},
   "outputs": [
    {
     "data": {
      "text/plain": [
       "<function __main__.f42()>"
      ]
     },
     "execution_count": 22,
     "metadata": {},
     "output_type": "execute_result"
    }
   ],
   "source": [
    "f42"
   ]
  },
  {
   "cell_type": "code",
   "execution_count": 3,
   "metadata": {},
   "outputs": [
    {
     "data": {
      "text/plain": [
       "<generator object f42 at 0x1032e2518>"
      ]
     },
     "execution_count": 3,
     "metadata": {},
     "output_type": "execute_result"
    }
   ],
   "source": [
    "res = f42()\n",
    "res"
   ]
  },
  {
   "cell_type": "code",
   "execution_count": 5,
   "metadata": {},
   "outputs": [
    {
     "name": "stdout",
     "output_type": "stream",
     "text": [
      "Help on generator object:\n",
      "\n",
      "f42 = class generator(object)\n",
      " |  Methods defined here:\n",
      " |  \n",
      " |  __del__(...)\n",
      " |  \n",
      " |  __getattribute__(self, name, /)\n",
      " |      Return getattr(self, name).\n",
      " |  \n",
      " |  __iter__(self, /)\n",
      " |      Implement iter(self).\n",
      " |  \n",
      " |  __next__(self, /)\n",
      " |      Implement next(self).\n",
      " |  \n",
      " |  __repr__(self, /)\n",
      " |      Return repr(self).\n",
      " |  \n",
      " |  close(...)\n",
      " |      close() -> raise GeneratorExit inside generator.\n",
      " |  \n",
      " |  send(...)\n",
      " |      send(arg) -> send 'arg' into generator,\n",
      " |      return next yielded value or raise StopIteration.\n",
      " |  \n",
      " |  throw(...)\n",
      " |      throw(typ[,val[,tb]]) -> raise exception in generator,\n",
      " |      return next yielded value or raise StopIteration.\n",
      " |  \n",
      " |  ----------------------------------------------------------------------\n",
      " |  Data descriptors defined here:\n",
      " |  \n",
      " |  gi_code\n",
      " |  \n",
      " |  gi_frame\n",
      " |  \n",
      " |  gi_running\n",
      " |  \n",
      " |  gi_yieldfrom\n",
      " |      object being iterated by yield from, or None\n",
      "\n"
     ]
    }
   ],
   "source": [
    "help(res)"
   ]
  },
  {
   "cell_type": "code",
   "execution_count": 7,
   "metadata": {},
   "outputs": [
    {
     "data": {
      "text/plain": [
       "42"
      ]
     },
     "execution_count": 7,
     "metadata": {},
     "output_type": "execute_result"
    }
   ],
   "source": [
    "next(res)"
   ]
  },
  {
   "cell_type": "code",
   "execution_count": 8,
   "metadata": {},
   "outputs": [
    {
     "name": "stdout",
     "output_type": "stream",
     "text": [
      "42\n",
      "42\n",
      "42\n",
      "42\n",
      "42\n"
     ]
    }
   ],
   "source": [
    "for i in range(5):\n",
    "    print(next(res))\n",
    "    "
   ]
  },
  {
   "cell_type": "code",
   "execution_count": 9,
   "metadata": {},
   "outputs": [],
   "source": [
    "# write a generator function my_seq(a) that returns \n",
    "#   a sequence of numbers: a, a+2, a+4, ...\n",
    "\n",
    "def my_seq(a):\n",
    "    \n",
    "    # for now, this fn does nothing\n",
    "    # edit it (adding yield, etc.) to return the sequence described above\n",
    "    pass"
   ]
  },
  {
   "cell_type": "code",
   "execution_count": 11,
   "metadata": {
    "scrolled": true
   },
   "outputs": [
    {
     "ename": "TypeError",
     "evalue": "'NoneType' object is not an iterator",
     "output_type": "error",
     "traceback": [
      "\u001b[0;31m---------------------------------------------------------------------------\u001b[0m",
      "\u001b[0;31mTypeError\u001b[0m                                 Traceback (most recent call last)",
      "\u001b[0;32m<ipython-input-11-03ad7899ad75>\u001b[0m in \u001b[0;36m<module>\u001b[0;34m()\u001b[0m\n\u001b[1;32m      2\u001b[0m \u001b[0;34m\u001b[0m\u001b[0m\n\u001b[1;32m      3\u001b[0m \u001b[0;32mfor\u001b[0m \u001b[0mi\u001b[0m \u001b[0;32min\u001b[0m \u001b[0mrange\u001b[0m\u001b[0;34m(\u001b[0m\u001b[0;36m5\u001b[0m\u001b[0;34m)\u001b[0m\u001b[0;34m:\u001b[0m\u001b[0;34m\u001b[0m\u001b[0m\n\u001b[0;32m----> 4\u001b[0;31m     \u001b[0mprint\u001b[0m\u001b[0;34m(\u001b[0m\u001b[0mnext\u001b[0m\u001b[0;34m(\u001b[0m\u001b[0mres_seq\u001b[0m\u001b[0;34m)\u001b[0m\u001b[0;34m)\u001b[0m\u001b[0;34m\u001b[0m\u001b[0m\n\u001b[0m",
      "\u001b[0;31mTypeError\u001b[0m: 'NoneType' object is not an iterator"
     ]
    }
   ],
   "source": [
    "res_seq = my_seq(100)\n",
    "\n",
    "for i in range(5):\n",
    "    print(next(res_seq))"
   ]
  },
  {
   "cell_type": "code",
   "execution_count": null,
   "metadata": {},
   "outputs": [],
   "source": [
    "# write a modified function my_seq2(a) that returns\n",
    "#   a sequence of numbers: a, (a+2), (a+2)-3, (a+2-3)+2, ...\n",
    "\n",
    "def my_seq2(a):\n",
    "    \n",
    "    # for now, this fn does nothing\n",
    "    # edit it (adding yield, etc.) to return the sequence described above\n",
    "    pass"
   ]
  },
  {
   "cell_type": "code",
   "execution_count": null,
   "metadata": {},
   "outputs": [],
   "source": [
    "res_seq2 = my_seq2(100)\n",
    "\n",
    "for i in range(5):\n",
    "    print(next(res_seq2))"
   ]
  },
  {
   "cell_type": "markdown",
   "metadata": {},
   "source": [
    "## How do generators work?\n",
    "\n",
    "Let's take a look:"
   ]
  },
  {
   "cell_type": "code",
   "execution_count": 17,
   "metadata": {},
   "outputs": [],
   "source": [
    "def f42():\n",
    "\n",
    "    print(\"Let's start\") \n",
    "    while True:\n",
    "        print(\" ... before yield\")\n",
    "        yield 42\n",
    "        print(\" ... after yield\")\n",
    "        \n",
    "    print(\"Exiting\")"
   ]
  },
  {
   "cell_type": "code",
   "execution_count": 18,
   "metadata": {},
   "outputs": [],
   "source": [
    "res = f42()"
   ]
  },
  {
   "cell_type": "code",
   "execution_count": null,
   "metadata": {},
   "outputs": [],
   "source": [
    "# see how it works\n",
    "next(res)"
   ]
  },
  {
   "cell_type": "code",
   "execution_count": null,
   "metadata": {},
   "outputs": [],
   "source": []
  },
  {
   "cell_type": "markdown",
   "metadata": {},
   "source": [
    "### Generator expressions\n",
    "\n",
    "Similar to list expressions:\n",
    "\n",
    "`[\"*\"*i for i in range(20)]`\n",
    "\n",
    "... but they are \"lazy\", do not build the full list and return a *generator object* instead:\n",
    "\n",
    "`(\"*\"*i for i in range(20))`\n",
    "\n",
    "*Note: you can only consume (iterate over) generator objects once*"
   ]
  },
  {
   "cell_type": "code",
   "execution_count": 26,
   "metadata": {},
   "outputs": [
    {
     "name": "stdout",
     "output_type": "stream",
     "text": [
      "['', '*', '**', '***', '****', '*****', '******', '*******', '********', '*********', '**********', '***********', '************', '*************', '**************', '***************', '****************', '*****************', '******************', '*******************']\n",
      "<generator object <genexpr> at 0x1033bbca8>\n"
     ]
    }
   ],
   "source": [
    "list = [\"*\"*i for i in range(20)]\n",
    "gen = (\"*\"*i for i in range(20))\n",
    "\n",
    "print(repr(list))\n",
    "print(repr(gen))"
   ]
  },
  {
   "cell_type": "code",
   "execution_count": 29,
   "metadata": {},
   "outputs": [
    {
     "data": {
      "text/plain": [
       "''"
      ]
     },
     "execution_count": 29,
     "metadata": {},
     "output_type": "execute_result"
    }
   ],
   "source": [
    "next(gen)"
   ]
  },
  {
   "cell_type": "code",
   "execution_count": 30,
   "metadata": {},
   "outputs": [
    {
     "data": {
      "text/plain": [
       "'*'"
      ]
     },
     "execution_count": 30,
     "metadata": {},
     "output_type": "execute_result"
    }
   ],
   "source": [
    "next(gen)"
   ]
  },
  {
   "cell_type": "markdown",
   "metadata": {},
   "source": [
    "### Iterators *versus* Generators\n",
    "\n",
    "The same functionality can be implemented both using Iterators and Generators:\n",
    "\n",
    "see https://wiki.python.org/moin/Generators\n",
    "\n",
    "---\n",
    "\n",
    "* standalone version (builds list in memory, takes up space)\n",
    "* iterator version\n",
    "* generator version\n"
   ]
  },
  {
   "cell_type": "code",
   "execution_count": null,
   "metadata": {},
   "outputs": [],
   "source": []
  },
  {
   "cell_type": "markdown",
   "metadata": {},
   "source": [
    "## Generators -> Data Pipelines\n",
    "\n",
    "---\n",
    "\n",
    "### Generator Tricks for Systems Programmers\n",
    "\n",
    "**by David Beazley**\n",
    "\n",
    "http://www.dabeaz.com/generators-uk/\n",
    "  * see the link for *source data* and *code examples*\n",
    "\n",
    "---\n",
    "\n",
    "**presentation slides:**\n",
    "http://www.dabeaz.com/generators-uk/GeneratorsUK.pdf\n",
    "\n",
    "* ... background (generator functions, generator expressions) - from slide 24\n",
    "* Part 2 (Processing data files) - **from slide 35**\n"
   ]
  },
  {
   "cell_type": "markdown",
   "metadata": {},
   "source": [
    "### Processing [huge] data files\n",
    "\n",
    "**... using Generator expressions**\n",
    "\n",
    "*see: Processing data files - from slide 35*\n",
    "\n",
    "without generators:\n",
    "\n",
    "```\n",
    "wwwlog = open(\"access-log\")\n",
    "total = 0\n",
    "for line in wwwlog:\n",
    "    bytestr = line.rsplit(None,1)[1]\n",
    "    if bytestr != '-':\n",
    "        total += int(bytestr)\n",
    "print \"Total\", total\n",
    "```\n",
    "\n",
    "with generators:\n",
    "\n",
    "```\n",
    "wwwlog     = open(\"access-log\")\n",
    "bytecolumn = (line.rsplit(None,1)[1] for line in wwwlog)\n",
    "bytes      = (int(x) for x in bytecolumn if x != '-')\n",
    "\n",
    "print \"Total\", sum(bytes)\n",
    "```"
   ]
  },
  {
   "cell_type": "code",
   "execution_count": null,
   "metadata": {},
   "outputs": [],
   "source": []
  },
  {
   "cell_type": "markdown",
   "metadata": {},
   "source": [
    "### Fun with files and directories (part 3)\n",
    "\n",
    "*see: Part 3 = from slide 35*\n",
    "\n",
    "generator to list files matching a pattern:\n",
    "\n",
    "```\n",
    "import os\n",
    "import fnmatch\n",
    "def gen_find(filepat,top):\n",
    "    for path, dirlist, filelist in os.walk(top):\n",
    "        for name in fnmatch.filter(filelist,filepat):\n",
    "            yield os.path.join(path,name)  \n",
    "```\n",
    "\n",
    "using this generator:\n",
    "\n",
    "`logs = gen_find(\"access-log*\",\"/usr/www/\")`\n",
    "\n",
    "**see slide 59 -> how a chain of generators is used to process these files**"
   ]
  },
  {
   "cell_type": "code",
   "execution_count": null,
   "metadata": {},
   "outputs": [],
   "source": []
  },
  {
   "cell_type": "markdown",
   "metadata": {},
   "source": [
    "## Advanced Generator topics\n",
    "\n",
    "---\n",
    "\n",
    "### Generators: The Final Frontier\n",
    "\n",
    "**by David Beazley**\n",
    "\n",
    "http://www.dabeaz.com/finalgenerator/\n",
    "  * see the link for *source data* and *code examples*\n",
    "\n",
    "This tutorial discusses advanced uses of using generators to alter program control flow, *explode brains*, and exponentially increase your job security. \n",
    "\n",
    "Topics include context managers, inlined futures, concurrency, asyncio, actors, compilers, and more. \n",
    "\n",
    "---\n",
    "\n",
    "* slide: http://www.dabeaz.com/finalgenerator/FinalGenerator.pdf\n",
    "* video: http://pyvideo.org/video/2575/generators-the-final-frontier\n",
    "* screencast: http://www.youtube.com/watch?v=5-qadlG7tWo\n",
    "\n",
    "---\n",
    "\n",
    "Example: \"Let's write a compiler!\"\n",
    "* see video at https://youtu.be/5-qadlG7tWo?t=6884\n",
    "* using generators to solve recursion problems\n",
    "\n"
   ]
  },
  {
   "cell_type": "code",
   "execution_count": null,
   "metadata": {},
   "outputs": [],
   "source": []
  }
 ],
 "metadata": {
  "kernelspec": {
   "display_name": "Python 3",
   "language": "python",
   "name": "python3"
  },
  "language_info": {
   "codemirror_mode": {
    "name": "ipython",
    "version": 3
   },
   "file_extension": ".py",
   "mimetype": "text/x-python",
   "name": "python",
   "nbconvert_exporter": "python",
   "pygments_lexer": "ipython3",
   "version": "3.5.5"
  }
 },
 "nbformat": 4,
 "nbformat_minor": 2
}
