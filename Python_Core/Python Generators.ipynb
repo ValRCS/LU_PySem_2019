{
 "cells": [
  {
   "cell_type": "markdown",
   "metadata": {},
   "source": [
    "# Iterators\n",
    "\n",
    "**An iterator is an object representing a stream of data**\n",
    "\n",
    "This object returns the data one element at a time.\n",
    "\n",
    "---\n",
    "\n",
    "https://docs.python.org/dev/library/stdtypes.html#iterator-types\n",
    "\n",
    "https://docs.python.org/dev/howto/functional.html#iterators\n",
    "\n",
    "---\n",
    "\n",
    "A Python iterator must support a method called `__next__()` that takes no arguments and always returns the next element of the stream.\n",
    "\n",
    "If there are no more elements in the stream, `__next__()` must raise the StopIteration exception.\n",
    "\n",
    "*(Anything that supports this \"protocol\" is an Iterator)*"
   ]
  },
  {
   "cell_type": "markdown",
   "metadata": {},
   "source": [
    "### Iterables\n",
    "\n",
    "The built-in `iter()` function takes an arbitrary object and tries to return an iterator that will return the object’s contents or elements, raising TypeError if the object doesn’t support iteration.\n",
    "\n",
    "An object is called `iterable` if you can get an iterator for it.\n",
    "\n",
    "---\n"
   ]
  },
  {
   "cell_type": "code",
   "execution_count": 34,
   "metadata": {},
   "outputs": [
    {
     "name": "stdout",
     "output_type": "stream",
     "text": [
      "q\n",
      "w\n",
      "e\n",
      "r\n",
      "t\n",
      "y\n"
     ]
    }
   ],
   "source": [
    "# most container objects can be iterated over using a `for` loop:\n",
    "\n",
    "my_str = \"qwerty\"\n",
    "\n",
    "for i in my_str:\n",
    "    print(i)"
   ]
  },
  {
   "cell_type": "markdown",
   "metadata": {},
   "source": [
    "---\n",
    "\n",
    "Behind the scenes, the `for` statement calls `iter()` on the container object. \n",
    "\n",
    "The function returns an iterator object that defines the method `__next__()` which accesses elements in the container one at a time. When there are no more elements, `__next__()` raises a `StopIteration` exception which tells the `for` loop to terminate.\n",
    "\n",
    "https://docs.python.org/3/tutorial/classes.html#iterators\n",
    "\n",
    "You can call the `__next__()` method using the `next()` built-in function:"
   ]
  },
  {
   "cell_type": "code",
   "execution_count": null,
   "metadata": {},
   "outputs": [],
   "source": [
    "it1 = iter(my_str)\n",
    "\n",
    "next(it1)"
   ]
  },
  {
   "cell_type": "markdown",
   "metadata": {},
   "source": [
    "### Implementing iterators\n",
    "\n",
    "To add iterator behavior to your classes define an `__iter__()` method which returns an object with a `__next__()` method.\n",
    "\n",
    "If the class defines `__next__()`, then `__iter__()` can just return self."
   ]
  },
  {
   "cell_type": "code",
   "execution_count": null,
   "metadata": {},
   "outputs": [],
   "source": [
    "class CountFrom():\n",
    "    \n",
    "    def __init__(self, start):\n",
    "        self.start = start\n",
    "        self.step = 1\n",
    "        \n",
    "    def __next__(self):\n",
    "        self.start += 1\n",
    "        return self.start - 1\n",
    "    \n",
    "    def __iter__(self):\n",
    "        return self\n"
   ]
  },
  {
   "cell_type": "code",
   "execution_count": null,
   "metadata": {},
   "outputs": [],
   "source": [
    "cnt = CountFrom(-10)\n",
    "\n",
    "cnt"
   ]
  },
  {
   "cell_type": "code",
   "execution_count": null,
   "metadata": {},
   "outputs": [],
   "source": [
    "dir(cnt)"
   ]
  },
  {
   "cell_type": "code",
   "execution_count": null,
   "metadata": {},
   "outputs": [],
   "source": [
    "next(cnt)"
   ]
  },
  {
   "cell_type": "code",
   "execution_count": null,
   "metadata": {},
   "outputs": [],
   "source": []
  },
  {
   "cell_type": "markdown",
   "metadata": {},
   "source": [
    "---\n",
    "\n",
    "# Generators\n",
    "\n",
    "(Functions that behave like iterators)\n",
    "\n",
    "---\n",
    "**Generator = A function which returns an Iterator**\n",
    "\n",
    "It looks like a normal function except that it contains `yield` expressions for producing a series of values usable in a for-loop or that can be retrieved one at a time with the `next()` function.\n",
    "\n",
    "* *Any function that contains `yield` becomes a generator!*\n",
    "\n",
    "https://docs.python.org/3.6/glossary.html#term-generator\n",
    "\n",
    "https://docs.python.org/3.6/howto/functional.html#generators\n",
    "\n",
    "---\n",
    "\n",
    "**Lazy execution**\n",
    "\n",
    "Values are generated on-demand, as necessary => lazy execution\n",
    "\n",
    "Generator / iterator can be infinite.\n",
    "\n",
    "---"
   ]
  },
  {
   "cell_type": "code",
   "execution_count": null,
   "metadata": {},
   "outputs": [],
   "source": [
    "def count_from(start):\n",
    "    \n",
    "    i = start\n",
    "    \n",
    "    # infinite cycle\n",
    "    while True:\n",
    "        \n",
    "        # return next value\n",
    "        yield i\n",
    "        \n",
    "        i += 1"
   ]
  },
  {
   "cell_type": "code",
   "execution_count": null,
   "metadata": {},
   "outputs": [],
   "source": [
    "count_from"
   ]
  },
  {
   "cell_type": "code",
   "execution_count": null,
   "metadata": {},
   "outputs": [],
   "source": [
    "res = count_from()\n",
    "res"
   ]
  },
  {
   "cell_type": "code",
   "execution_count": null,
   "metadata": {},
   "outputs": [],
   "source": [
    "help(res)"
   ]
  },
  {
   "cell_type": "code",
   "execution_count": null,
   "metadata": {},
   "outputs": [],
   "source": [
    "next(res)"
   ]
  },
  {
   "cell_type": "code",
   "execution_count": null,
   "metadata": {},
   "outputs": [],
   "source": [
    "for i in range(5):\n",
    "    print(next(res))\n",
    "    "
   ]
  },
  {
   "cell_type": "markdown",
   "metadata": {},
   "source": [
    "## How do generators work?\n",
    "\n",
    "Let's take a look:"
   ]
  },
  {
   "cell_type": "code",
   "execution_count": null,
   "metadata": {},
   "outputs": [],
   "source": [
    "def count_from(start):\n",
    "\n",
    "    print(\"Let's start\") \n",
    "    \n",
    "    i = start\n",
    "    \n",
    "    while True:\n",
    "        \n",
    "        print(\" ... before yield\")\n",
    "        yield i\n",
    "        \n",
    "        print(\" ... after yield\")\n",
    "        i += 1\n",
    "        \n",
    "    print(\"Exiting\")"
   ]
  },
  {
   "cell_type": "code",
   "execution_count": null,
   "metadata": {},
   "outputs": [],
   "source": [
    "res = count_from(42)"
   ]
  },
  {
   "cell_type": "code",
   "execution_count": null,
   "metadata": {},
   "outputs": [],
   "source": [
    "# see how it works\n",
    "next(res)"
   ]
  },
  {
   "cell_type": "code",
   "execution_count": null,
   "metadata": {},
   "outputs": [],
   "source": [
    "next(res)"
   ]
  },
  {
   "cell_type": "markdown",
   "metadata": {},
   "source": []
  },
  {
   "cell_type": "code",
   "execution_count": null,
   "metadata": {},
   "outputs": [],
   "source": [
    "### Data processing example\n",
    "\n",
    "data = \"Some134 content __here, @1441   needs cleanup  \""
   ]
  },
  {
   "cell_type": "code",
   "execution_count": null,
   "metadata": {},
   "outputs": [],
   "source": [
    "def get_tokens(data_in):\n",
    "    \n",
    "    for item in data_in.split():\n",
    "        yield item"
   ]
  },
  {
   "cell_type": "code",
   "execution_count": null,
   "metadata": {},
   "outputs": [],
   "source": [
    "tokens = get_tokens(data)\n",
    "\n",
    "for i in tokens:\n",
    "    print(i)"
   ]
  },
  {
   "cell_type": "markdown",
   "metadata": {},
   "source": [
    "## Generators -> Data Pipelines\n",
    "\n",
    "---\n",
    "\n",
    "### Generator Tricks for Systems Programmers\n",
    "\n",
    "**by David Beazley**\n",
    "\n",
    "http://www.dabeaz.com/generators-uk/\n",
    "  * see the link for *source data* and *code examples*\n",
    "\n",
    "---\n",
    "\n",
    "**presentation slides:**\n",
    "http://www.dabeaz.com/generators-uk/GeneratorsUK.pdf\n",
    "\n",
    "* ... background (generator functions, generator expressions) - from slide 24\n",
    "* Part 2 (Processing data files) - **from slide 35**\n"
   ]
  },
  {
   "cell_type": "markdown",
   "metadata": {},
   "source": [
    "### Processing [huge] data files\n",
    "\n",
    "**... using Generator expressions**\n",
    "\n",
    "*see: Processing data files - from slide 35*\n",
    "\n",
    "without generators:\n",
    "\n",
    "```\n",
    "wwwlog = open(\"access-log\")\n",
    "total = 0\n",
    "for line in wwwlog:\n",
    "    bytestr = line.rsplit(None,1)[1]\n",
    "    if bytestr != '-':\n",
    "        total += int(bytestr)\n",
    "print \"Total\", total\n",
    "```\n",
    "\n",
    "with generators:\n",
    "\n",
    "```\n",
    "wwwlog     = open(\"access-log\")\n",
    "bytecolumn = (line.rsplit(None,1)[1] for line in wwwlog)\n",
    "bytes      = (int(x) for x in bytecolumn if x != '-')\n",
    "\n",
    "print \"Total\", sum(bytes)\n",
    "```"
   ]
  },
  {
   "cell_type": "code",
   "execution_count": null,
   "metadata": {},
   "outputs": [],
   "source": []
  },
  {
   "cell_type": "markdown",
   "metadata": {},
   "source": [
    "### Fun with files and directories (part 3)\n",
    "\n",
    "*see: Part 3 = from slide 35*\n",
    "\n",
    "generator to list files matching a pattern:\n",
    "\n",
    "```\n",
    "import os\n",
    "import fnmatch\n",
    "def gen_find(filepat,top):\n",
    "    for path, dirlist, filelist in os.walk(top):\n",
    "        for name in fnmatch.filter(filelist,filepat):\n",
    "            yield os.path.join(path,name)  \n",
    "```\n",
    "\n",
    "using this generator:\n",
    "\n",
    "`logs = gen_find(\"access-log*\",\"/usr/www/\")`\n",
    "\n",
    "**see slide 59 -> how a chain of generators is used to process these files**"
   ]
  },
  {
   "cell_type": "code",
   "execution_count": null,
   "metadata": {},
   "outputs": [],
   "source": []
  },
  {
   "cell_type": "markdown",
   "metadata": {},
   "source": [
    "## Advanced Generator topics\n",
    "\n",
    "---\n",
    "\n",
    "### Generators: The Final Frontier\n",
    "\n",
    "**by David Beazley**\n",
    "\n",
    "http://www.dabeaz.com/finalgenerator/\n",
    "  * see the link for *source data* and *code examples*\n",
    "\n",
    "This tutorial discusses advanced uses of using generators to alter program control flow, *explode brains*, and exponentially increase your job security. \n",
    "\n",
    "Topics include context managers, inlined futures, concurrency, asyncio, actors, compilers, and more. \n",
    "\n",
    "---\n",
    "\n",
    "* slide: http://www.dabeaz.com/finalgenerator/FinalGenerator.pdf\n",
    "* video: http://pyvideo.org/video/2575/generators-the-final-frontier\n",
    "* screencast: http://www.youtube.com/watch?v=5-qadlG7tWo\n",
    "\n",
    "---\n",
    "\n",
    "Example: \"Let's write a compiler!\"\n",
    "* see video at https://youtu.be/5-qadlG7tWo?t=6884\n",
    "* using generators to solve recursion problems\n",
    "\n",
    "---\n",
    "\n",
    "https://jeffknupp.com/blog/2013/04/07/improve-your-python-yield-and-generators-explained/\n",
    "\n",
    "---"
   ]
  },
  {
   "cell_type": "markdown",
   "metadata": {},
   "source": [
    "## Extra content\n"
   ]
  },
  {
   "cell_type": "markdown",
   "metadata": {},
   "source": [
    "### Generator expressions\n",
    "\n",
    "Similar to list expressions:\n",
    "\n",
    "`[\"*\"*i for i in range(20)]`\n",
    "\n",
    "... but they are \"lazy\", do not build the full list and return a *generator object* instead:\n",
    "\n",
    "`(\"*\"*i for i in range(20))`\n",
    "\n",
    "*Note: you can only consume (iterate over) generator objects once*"
   ]
  },
  {
   "cell_type": "code",
   "execution_count": null,
   "metadata": {},
   "outputs": [],
   "source": [
    "list = [\"*\"*i for i in range(20)]\n",
    "gen = (\"*\"*i for i in range(20))\n",
    "\n",
    "print(repr(list))\n",
    "print(repr(gen))"
   ]
  },
  {
   "cell_type": "code",
   "execution_count": null,
   "metadata": {},
   "outputs": [],
   "source": [
    "next(gen)"
   ]
  },
  {
   "cell_type": "code",
   "execution_count": null,
   "metadata": {
    "scrolled": true
   },
   "outputs": [],
   "source": [
    "next(gen)"
   ]
  },
  {
   "cell_type": "markdown",
   "metadata": {},
   "source": [
    "### Iterators *versus* Generators\n",
    "\n",
    "The same functionality can be implemented both using Iterators and Generators:\n",
    "\n",
    "see https://wiki.python.org/moin/Generators\n",
    "\n",
    "---\n",
    "\n",
    "* standalone version (builds list in memory, takes up space)\n",
    "* iterator version\n",
    "* generator version\n",
    "\n",
    "---"
   ]
  },
  {
   "cell_type": "markdown",
   "metadata": {},
   "source": [
    "## Exercises"
   ]
  },
  {
   "cell_type": "code",
   "execution_count": null,
   "metadata": {},
   "outputs": [],
   "source": []
  },
  {
   "cell_type": "code",
   "execution_count": null,
   "metadata": {},
   "outputs": [],
   "source": [
    "# write a generator function my_seq(a) that returns \n",
    "#   a sequence of numbers: a, a+2, a+4, ...\n",
    "\n",
    "def my_seq(a):\n",
    "    \n",
    "    # for now, this fn does nothing\n",
    "    # edit it (adding yield, etc.) to return the sequence described above\n",
    "    pass"
   ]
  },
  {
   "cell_type": "code",
   "execution_count": null,
   "metadata": {
    "scrolled": true
   },
   "outputs": [],
   "source": [
    "res_seq = my_seq(100)\n",
    "\n",
    "for i in range(5):\n",
    "    print(next(res_seq))"
   ]
  },
  {
   "cell_type": "code",
   "execution_count": null,
   "metadata": {},
   "outputs": [],
   "source": [
    "# write a modified function my_seq2(a) that returns\n",
    "#   a sequence of numbers: a, (a+2), (a+2)-3, (a+2-3)+2, ...\n",
    "\n",
    "def my_seq2(a):\n",
    "    \n",
    "    # for now, this fn does nothing\n",
    "    # edit it (adding yield, etc.) to return the sequence described above\n",
    "    pass"
   ]
  },
  {
   "cell_type": "code",
   "execution_count": null,
   "metadata": {},
   "outputs": [],
   "source": [
    "res_seq2 = my_seq2(100)\n",
    "\n",
    "for i in range(5):\n",
    "    print(next(res_seq2))"
   ]
  }
 ],
 "metadata": {
  "kernelspec": {
   "display_name": "Python 3",
   "language": "python",
   "name": "python3"
  },
  "language_info": {
   "codemirror_mode": {
    "name": "ipython",
    "version": 3
   },
   "file_extension": ".py",
   "mimetype": "text/x-python",
   "name": "python",
   "nbconvert_exporter": "python",
   "pygments_lexer": "ipython3",
   "version": "3.7.5"
  }
 },
 "nbformat": 4,
 "nbformat_minor": 2
}
