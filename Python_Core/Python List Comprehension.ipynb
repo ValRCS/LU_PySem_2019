{
 "cells": [
  {
   "cell_type": "code",
   "execution_count": 5,
   "metadata": {},
   "outputs": [],
   "source": [
    "import random\n",
    "random.seed(42)"
   ]
  },
  {
   "cell_type": "code",
   "execution_count": 6,
   "metadata": {},
   "outputs": [
    {
     "data": {
      "text/plain": [
       "0.6394267984578837"
      ]
     },
     "execution_count": 6,
     "metadata": {},
     "output_type": "execute_result"
    }
   ],
   "source": [
    "random.random()"
   ]
  },
  {
   "cell_type": "code",
   "execution_count": 8,
   "metadata": {},
   "outputs": [
    {
     "data": {
      "text/plain": [
       "[0.045824383655662215,\n",
       " 0.22789827565154686,\n",
       " 0.28938796360210717,\n",
       " 0.0797919769236275,\n",
       " 0.23279088636103018]"
      ]
     },
     "execution_count": 8,
     "metadata": {},
     "output_type": "execute_result"
    }
   ],
   "source": [
    "mylist2 = []\n",
    "for _ in range(40):\n",
    "    mylist2.append(random.random())\n",
    "mylist2[:5]"
   ]
  },
  {
   "cell_type": "code",
   "execution_count": 11,
   "metadata": {},
   "outputs": [
    {
     "data": {
      "text/plain": [
       "[0.26274160852293527,\n",
       " 0.5845859902235405,\n",
       " 0.897822883602477,\n",
       " 0.39940050514039727,\n",
       " 0.21932075915728333,\n",
       " 0.9975376064951103,\n",
       " 0.5095262936764645,\n",
       " 0.09090941217379389,\n",
       " 0.04711637542473457,\n",
       " 0.10964913035065915,\n",
       " 0.62744604170309,\n",
       " 0.7920793643629641,\n",
       " 0.42215996679968404,\n",
       " 0.06352770615195713,\n",
       " 0.38161928650653676,\n",
       " 0.9961213802400968,\n",
       " 0.529114345099137,\n",
       " 0.9710783776136181,\n",
       " 0.8607797022344981,\n",
       " 0.011481021942819636,\n",
       " 0.7207218193601946,\n",
       " 0.6817103690265748,\n",
       " 0.5369703304087952,\n",
       " 0.2668251899525428,\n",
       " 0.6409617985798081,\n",
       " 0.11155217359587644,\n",
       " 0.434765250669105,\n",
       " 0.45372370632920644,\n",
       " 0.9538159275210801,\n",
       " 0.8758529403781941,\n",
       " 0.26338905075109076,\n",
       " 0.5005861130502983,\n",
       " 0.17865188053013137,\n",
       " 0.9126278393448205,\n",
       " 0.8705185698367669,\n",
       " 0.2984447914486329,\n",
       " 0.6389494948660052,\n",
       " 0.6089702114381723,\n",
       " 0.1528392685496348,\n",
       " 0.7625108000751513]"
      ]
     },
     "execution_count": 11,
     "metadata": {},
     "output_type": "execute_result"
    }
   ],
   "source": [
    "mylist = [random.random() for myuselessvariable in range(40)]\n",
    "mylist"
   ]
  },
  {
   "cell_type": "code",
   "execution_count": 14,
   "metadata": {},
   "outputs": [
    {
     "data": {
      "text/plain": [
       "[0.9975376064951103,\n",
       " 0.9961213802400968,\n",
       " 0.9710783776136181,\n",
       " 0.9538159275210801,\n",
       " 0.9126278393448205]"
      ]
     },
     "execution_count": 14,
     "metadata": {},
     "output_type": "execute_result"
    }
   ],
   "source": [
    "myfilteredlist = [element for element in mylist if element > 0.9]\n",
    "myfilteredlist"
   ]
  },
  {
   "cell_type": "code",
   "execution_count": 16,
   "metadata": {},
   "outputs": [
    {
     "data": {
      "text/plain": [
       "20"
      ]
     },
     "execution_count": 16,
     "metadata": {},
     "output_type": "execute_result"
    }
   ],
   "source": [
    "len(mylist[10:30])"
   ]
  },
  {
   "cell_type": "code",
   "execution_count": 17,
   "metadata": {},
   "outputs": [
    {
     "data": {
      "text/plain": [
       "0.9961213802400968"
      ]
     },
     "execution_count": 17,
     "metadata": {},
     "output_type": "execute_result"
    }
   ],
   "source": [
    "max(mylist[10:30])"
   ]
  }
 ],
 "metadata": {
  "kernelspec": {
   "display_name": "Python 3",
   "language": "python",
   "name": "python3"
  },
  "language_info": {
   "codemirror_mode": {
    "name": "ipython",
    "version": 3
   },
   "file_extension": ".py",
   "mimetype": "text/x-python",
   "name": "python",
   "nbconvert_exporter": "python",
   "pygments_lexer": "ipython3",
   "version": "3.7.3"
  }
 },
 "nbformat": 4,
 "nbformat_minor": 2
}
